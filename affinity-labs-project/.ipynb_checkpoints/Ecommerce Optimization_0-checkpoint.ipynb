{
 "cells": [
  {
   "cell_type": "markdown",
   "id": "5ef29ff1-56d5-489f-a07b-eccf05ae0370",
   "metadata": {},
   "source": [
    "### Loading and Preprocessing"
   ]
  },
  {
   "cell_type": "code",
   "execution_count": 142,
   "id": "2022573d-1406-4de4-9633-05862eacb46c",
   "metadata": {},
   "outputs": [],
   "source": [
    "import pandas as pd\n",
    "import numpy as np\n",
    "import matplotlib.pyplot as plt\n",
    "import seaborn as sns\n",
    "\n",
    "\n",
    "import warnings\n",
    "warnings.filterwarnings(\"ignore\")"
   ]
  },
  {
   "cell_type": "markdown",
   "id": "b905a6ca-fc20-423a-afb9-7e6f5a40c5de",
   "metadata": {},
   "source": [
    "#### Loading Datasets"
   ]
  },
  {
   "cell_type": "code",
   "execution_count": 144,
   "id": "d26b73f6-0d0b-4df5-90d9-38d806336bae",
   "metadata": {},
   "outputs": [],
   "source": [
    "# Loading datasets \n",
    "\n",
    "orders = pd.read_csv(r'C:\\Users\\sammy\\Desktop\\AFFINITY\\Data Dump\\orders.csv')\n",
    "\n",
    "trucks = pd.read_csv(r'C:\\Users\\sammy\\Desktop\\AFFINITY\\Data Dump\\trucks.csv')\n",
    "\n",
    "centres = pd.read_csv(r'C:\\Users\\sammy\\Desktop\\AFFINITY\\Data Dump\\centres.csv')"
   ]
  },
  {
   "cell_type": "markdown",
   "id": "60ad1e8e-8b9c-4b26-b547-0c586dea93a4",
   "metadata": {},
   "source": [
    "#### Checking for null values"
   ]
  },
  {
   "cell_type": "code",
   "execution_count": 146,
   "id": "dbedcbd0-276a-402d-9d5f-0a2332de65f5",
   "metadata": {},
   "outputs": [
    {
     "data": {
      "text/plain": [
       "Unnamed: 0            0\n",
       "orderId               0\n",
       "clientId           1243\n",
       "lastModified          0\n",
       "status                0\n",
       "truckKey         310775\n",
       "location              0\n",
       "fee                   0\n",
       "volume(kg)            0\n",
       "deliveryItem          0\n",
       "dateGenerated         0\n",
       "dtype: int64"
      ]
     },
     "execution_count": 146,
     "metadata": {},
     "output_type": "execute_result"
    }
   ],
   "source": [
    "# checking for missing values\n",
    "\n",
    "orders.isnull().sum()"
   ]
  },
  {
   "cell_type": "code",
   "execution_count": 147,
   "id": "858bebbe-c5ff-45a8-b415-a10ff7d3b6d1",
   "metadata": {},
   "outputs": [
    {
     "data": {
      "text/plain": [
       "creationDate    0\n",
       "encodedKey      0\n",
       "status          0\n",
       "truckType       0\n",
       "volume(kg)      0\n",
       "dtype: int64"
      ]
     },
     "execution_count": 147,
     "metadata": {},
     "output_type": "execute_result"
    }
   ],
   "source": [
    "trucks.isnull().sum()"
   ]
  },
  {
   "cell_type": "code",
   "execution_count": 148,
   "id": "10b641b5-e885-4b4b-944a-77928d5345bc",
   "metadata": {},
   "outputs": [
    {
     "data": {
      "text/plain": [
       "centreId        0\n",
       "location        0\n",
       "creationDate    0\n",
       "dtype: int64"
      ]
     },
     "execution_count": 148,
     "metadata": {},
     "output_type": "execute_result"
    }
   ],
   "source": [
    "centres.isnull().sum()"
   ]
  },
  {
   "cell_type": "markdown",
   "id": "2fd40db7-85bd-4a65-8b85-fedd196047db",
   "metadata": {},
   "source": [
    "#### Checking for duplicates"
   ]
  },
  {
   "cell_type": "code",
   "execution_count": 150,
   "id": "f479b172-f036-4687-8bb9-57e30da30194",
   "metadata": {},
   "outputs": [
    {
     "data": {
      "text/plain": [
       "0"
      ]
     },
     "execution_count": 150,
     "metadata": {},
     "output_type": "execute_result"
    }
   ],
   "source": [
    "# checking for duplicates\n",
    "\n",
    "orders.duplicated().sum()"
   ]
  },
  {
   "cell_type": "code",
   "execution_count": 151,
   "id": "33eb0033-ec16-48af-8308-c0d76b78773d",
   "metadata": {},
   "outputs": [
    {
     "data": {
      "text/plain": [
       "0"
      ]
     },
     "execution_count": 151,
     "metadata": {},
     "output_type": "execute_result"
    }
   ],
   "source": [
    "trucks.duplicated().sum()"
   ]
  },
  {
   "cell_type": "code",
   "execution_count": 152,
   "id": "e3e9329a-f293-487a-8c16-8e7b22720b14",
   "metadata": {},
   "outputs": [
    {
     "data": {
      "text/plain": [
       "0"
      ]
     },
     "execution_count": 152,
     "metadata": {},
     "output_type": "execute_result"
    }
   ],
   "source": [
    "centres.duplicated().sum()"
   ]
  },
  {
   "cell_type": "markdown",
   "id": "197c74ac-12d0-4dab-b531-a7afe47117a4",
   "metadata": {},
   "source": [
    "#### data types\n",
    "\n",
    "#### orders"
   ]
  },
  {
   "cell_type": "code",
   "execution_count": 154,
   "id": "f4dedee6-bed6-4dbd-9093-10c981832cfa",
   "metadata": {},
   "outputs": [
    {
     "data": {
      "text/plain": [
       "Unnamed: 0         int64\n",
       "orderId           object\n",
       "clientId          object\n",
       "lastModified      object\n",
       "status            object\n",
       "truckKey          object\n",
       "location          object\n",
       "fee              float64\n",
       "volume(kg)       float64\n",
       "deliveryItem      object\n",
       "dateGenerated     object\n",
       "dtype: object"
      ]
     },
     "execution_count": 154,
     "metadata": {},
     "output_type": "execute_result"
    }
   ],
   "source": [
    "orders.dtypes"
   ]
  },
  {
   "cell_type": "code",
   "execution_count": 155,
   "id": "7a4863aa-6926-4c94-95d4-4542ca017fd7",
   "metadata": {},
   "outputs": [],
   "source": [
    "# data type conversion for date columns\n",
    "\n",
    "orders['lastModified'] = pd.to_datetime(orders['lastModified'], dayfirst=True)\n",
    "orders['dateGenerated'] = pd.to_datetime(orders['dateGenerated'], dayfirst=True)\n"
   ]
  },
  {
   "cell_type": "code",
   "execution_count": 156,
   "id": "ab590164-177a-4cc8-a344-f26db312196e",
   "metadata": {},
   "outputs": [
    {
     "data": {
      "text/plain": [
       "Unnamed: 0                int64\n",
       "orderId                  object\n",
       "clientId                 object\n",
       "lastModified     datetime64[ns]\n",
       "status                   object\n",
       "truckKey                 object\n",
       "location                 object\n",
       "fee                     float64\n",
       "volume(kg)              float64\n",
       "deliveryItem             object\n",
       "dateGenerated    datetime64[ns]\n",
       "dtype: object"
      ]
     },
     "execution_count": 156,
     "metadata": {},
     "output_type": "execute_result"
    }
   ],
   "source": [
    "orders.dtypes"
   ]
  },
  {
   "cell_type": "code",
   "execution_count": 157,
   "id": "eb58d341-8939-4e7c-a039-27ccac9e3b43",
   "metadata": {},
   "outputs": [],
   "source": [
    "# removing Unnamed: 0 column\n",
    "\n",
    "orders.drop(columns=['Unnamed: 0'], inplace=True)"
   ]
  },
  {
   "cell_type": "code",
   "execution_count": 158,
   "id": "3280dd3f-40c6-4761-88fb-597982010baa",
   "metadata": {},
   "outputs": [
    {
     "data": {
      "text/plain": [
       "orderId                  object\n",
       "clientId                 object\n",
       "lastModified     datetime64[ns]\n",
       "status                   object\n",
       "truckKey                 object\n",
       "location                 object\n",
       "fee                     float64\n",
       "volume(kg)              float64\n",
       "deliveryItem             object\n",
       "dateGenerated    datetime64[ns]\n",
       "dtype: object"
      ]
     },
     "execution_count": 158,
     "metadata": {},
     "output_type": "execute_result"
    }
   ],
   "source": [
    "orders.dtypes"
   ]
  },
  {
   "cell_type": "code",
   "execution_count": 159,
   "id": "a63efe45-7931-418e-80d5-e88248e56fc1",
   "metadata": {},
   "outputs": [
    {
     "data": {
      "text/html": [
       "<div>\n",
       "<style scoped>\n",
       "    .dataframe tbody tr th:only-of-type {\n",
       "        vertical-align: middle;\n",
       "    }\n",
       "\n",
       "    .dataframe tbody tr th {\n",
       "        vertical-align: top;\n",
       "    }\n",
       "\n",
       "    .dataframe thead th {\n",
       "        text-align: right;\n",
       "    }\n",
       "</style>\n",
       "<table border=\"1\" class=\"dataframe\">\n",
       "  <thead>\n",
       "    <tr style=\"text-align: right;\">\n",
       "      <th></th>\n",
       "      <th>orderId</th>\n",
       "      <th>clientId</th>\n",
       "      <th>lastModified</th>\n",
       "      <th>status</th>\n",
       "      <th>truckKey</th>\n",
       "      <th>location</th>\n",
       "      <th>fee</th>\n",
       "      <th>volume(kg)</th>\n",
       "      <th>deliveryItem</th>\n",
       "      <th>dateGenerated</th>\n",
       "    </tr>\n",
       "  </thead>\n",
       "  <tbody>\n",
       "    <tr>\n",
       "      <th>0</th>\n",
       "      <td>01GGAPGS3BZKF3AKKRRHPBCMMG</td>\n",
       "      <td>320232240</td>\n",
       "      <td>2025-03-02 18:20:00</td>\n",
       "      <td>PENDING</td>\n",
       "      <td>NaN</td>\n",
       "      <td>KINTAMPO</td>\n",
       "      <td>6400.0</td>\n",
       "      <td>340.0</td>\n",
       "      <td>BED</td>\n",
       "      <td>2025-03-02 18:20:00</td>\n",
       "    </tr>\n",
       "    <tr>\n",
       "      <th>1</th>\n",
       "      <td>01GGAPK4BCXD9S96QXFYD65E20</td>\n",
       "      <td>2420001880</td>\n",
       "      <td>2025-03-02 18:20:00</td>\n",
       "      <td>PENDING</td>\n",
       "      <td>NaN</td>\n",
       "      <td>KINTAMPO</td>\n",
       "      <td>320.0</td>\n",
       "      <td>17.0</td>\n",
       "      <td>BED</td>\n",
       "      <td>2025-03-02 18:20:00</td>\n",
       "    </tr>\n",
       "    <tr>\n",
       "      <th>2</th>\n",
       "      <td>01GGAPRNS3ET0JC79QTAX8PG46</td>\n",
       "      <td>43730707</td>\n",
       "      <td>2025-03-02 18:20:00</td>\n",
       "      <td>PENDING</td>\n",
       "      <td>NaN</td>\n",
       "      <td>KINTAMPO</td>\n",
       "      <td>3200.0</td>\n",
       "      <td>170.0</td>\n",
       "      <td>BED</td>\n",
       "      <td>2025-03-02 18:20:00</td>\n",
       "    </tr>\n",
       "    <tr>\n",
       "      <th>3</th>\n",
       "      <td>01GGAPX6EG5S77Y5B39SHNXEAM</td>\n",
       "      <td>28737136</td>\n",
       "      <td>2025-03-02 18:20:00</td>\n",
       "      <td>PENDING</td>\n",
       "      <td>NaN</td>\n",
       "      <td>KINTAMPO</td>\n",
       "      <td>640.0</td>\n",
       "      <td>34.0</td>\n",
       "      <td>BED</td>\n",
       "      <td>2025-03-02 18:20:00</td>\n",
       "    </tr>\n",
       "    <tr>\n",
       "      <th>4</th>\n",
       "      <td>01GGAPYCWBVZQEFFM0DA1J9VT3</td>\n",
       "      <td>38457808</td>\n",
       "      <td>2025-03-02 18:20:00</td>\n",
       "      <td>PENDING</td>\n",
       "      <td>NaN</td>\n",
       "      <td>KINTAMPO</td>\n",
       "      <td>1600.0</td>\n",
       "      <td>85.0</td>\n",
       "      <td>BED</td>\n",
       "      <td>2025-03-02 18:20:00</td>\n",
       "    </tr>\n",
       "  </tbody>\n",
       "</table>\n",
       "</div>"
      ],
      "text/plain": [
       "                      orderId    clientId        lastModified   status  \\\n",
       "0  01GGAPGS3BZKF3AKKRRHPBCMMG   320232240 2025-03-02 18:20:00  PENDING   \n",
       "1  01GGAPK4BCXD9S96QXFYD65E20  2420001880 2025-03-02 18:20:00  PENDING   \n",
       "2  01GGAPRNS3ET0JC79QTAX8PG46    43730707 2025-03-02 18:20:00  PENDING   \n",
       "3  01GGAPX6EG5S77Y5B39SHNXEAM    28737136 2025-03-02 18:20:00  PENDING   \n",
       "4  01GGAPYCWBVZQEFFM0DA1J9VT3    38457808 2025-03-02 18:20:00  PENDING   \n",
       "\n",
       "  truckKey  location     fee  volume(kg) deliveryItem       dateGenerated  \n",
       "0      NaN  KINTAMPO  6400.0       340.0          BED 2025-03-02 18:20:00  \n",
       "1      NaN  KINTAMPO   320.0        17.0          BED 2025-03-02 18:20:00  \n",
       "2      NaN  KINTAMPO  3200.0       170.0          BED 2025-03-02 18:20:00  \n",
       "3      NaN  KINTAMPO   640.0        34.0          BED 2025-03-02 18:20:00  \n",
       "4      NaN  KINTAMPO  1600.0        85.0          BED 2025-03-02 18:20:00  "
      ]
     },
     "execution_count": 159,
     "metadata": {},
     "output_type": "execute_result"
    }
   ],
   "source": [
    "orders.head()"
   ]
  },
  {
   "cell_type": "markdown",
   "id": "10250e1d-c709-42aa-9daa-7c67b0c7a7fb",
   "metadata": {},
   "source": [
    "#### trucks"
   ]
  },
  {
   "cell_type": "code",
   "execution_count": 161,
   "id": "56ee5a14-330b-436f-9bb9-a06f6ee9850c",
   "metadata": {},
   "outputs": [
    {
     "data": {
      "text/plain": [
       "creationDate    object\n",
       "encodedKey      object\n",
       "status          object\n",
       "truckType       object\n",
       "volume(kg)       int64\n",
       "dtype: object"
      ]
     },
     "execution_count": 161,
     "metadata": {},
     "output_type": "execute_result"
    }
   ],
   "source": [
    "trucks.dtypes"
   ]
  },
  {
   "cell_type": "code",
   "execution_count": 162,
   "id": "d73bab22-f907-4990-865f-3a63983eb108",
   "metadata": {},
   "outputs": [
    {
     "data": {
      "text/plain": [
       "creationDate    datetime64[ns]\n",
       "encodedKey              object\n",
       "status                  object\n",
       "truckType               object\n",
       "volume(kg)             float64\n",
       "dtype: object"
      ]
     },
     "execution_count": 162,
     "metadata": {},
     "output_type": "execute_result"
    }
   ],
   "source": [
    "# Chaning datatype for creationDate\n",
    "\n",
    "trucks['creationDate'] = pd.to_datetime(trucks['creationDate'])\n",
    "\n",
    "# changing datatype for volume(kg)\n",
    "\n",
    "trucks['volume(kg)'] = trucks['volume(kg)'].astype(float)\n",
    "\n",
    "trucks.dtypes"
   ]
  },
  {
   "cell_type": "code",
   "execution_count": 163,
   "id": "9a198eaa-a420-4893-b437-8bcce99ef98d",
   "metadata": {},
   "outputs": [
    {
     "data": {
      "text/html": [
       "<div>\n",
       "<style scoped>\n",
       "    .dataframe tbody tr th:only-of-type {\n",
       "        vertical-align: middle;\n",
       "    }\n",
       "\n",
       "    .dataframe tbody tr th {\n",
       "        vertical-align: top;\n",
       "    }\n",
       "\n",
       "    .dataframe thead th {\n",
       "        text-align: right;\n",
       "    }\n",
       "</style>\n",
       "<table border=\"1\" class=\"dataframe\">\n",
       "  <thead>\n",
       "    <tr style=\"text-align: right;\">\n",
       "      <th></th>\n",
       "      <th>creationDate</th>\n",
       "      <th>encodedKey</th>\n",
       "      <th>status</th>\n",
       "      <th>truckType</th>\n",
       "      <th>volume(kg)</th>\n",
       "    </tr>\n",
       "  </thead>\n",
       "  <tbody>\n",
       "    <tr>\n",
       "      <th>0</th>\n",
       "      <td>2022-06-01 08:55:16</td>\n",
       "      <td>8a858f5b8101e7c901811e75b191610d</td>\n",
       "      <td>ACTIVE</td>\n",
       "      <td>REEFER_TRUCK</td>\n",
       "      <td>20000.0</td>\n",
       "    </tr>\n",
       "    <tr>\n",
       "      <th>1</th>\n",
       "      <td>2022-06-09 16:46:57</td>\n",
       "      <td>8a858f46813e54820181495b67cc468b</td>\n",
       "      <td>ACTIVE</td>\n",
       "      <td>REEFER_TRUCK</td>\n",
       "      <td>15000.0</td>\n",
       "    </tr>\n",
       "    <tr>\n",
       "      <th>2</th>\n",
       "      <td>2022-08-05 17:30:18</td>\n",
       "      <td>8a858f318267ea7601826f0668096f69</td>\n",
       "      <td>ACTIVE</td>\n",
       "      <td>BOX_TRUCK</td>\n",
       "      <td>13000.0</td>\n",
       "    </tr>\n",
       "    <tr>\n",
       "      <th>3</th>\n",
       "      <td>2022-09-06 15:49:50</td>\n",
       "      <td>8a858e458312b8be018312f773d93984</td>\n",
       "      <td>IN_ACTIVE</td>\n",
       "      <td>BOX_TRUCK</td>\n",
       "      <td>13000.0</td>\n",
       "    </tr>\n",
       "    <tr>\n",
       "      <th>4</th>\n",
       "      <td>2022-12-06 15:03:23</td>\n",
       "      <td>8a858f4c84e67fe60184e7f2f7d05fc3</td>\n",
       "      <td>ACTIVE</td>\n",
       "      <td>BOX_TRUCK</td>\n",
       "      <td>13000.0</td>\n",
       "    </tr>\n",
       "  </tbody>\n",
       "</table>\n",
       "</div>"
      ],
      "text/plain": [
       "         creationDate                        encodedKey     status  \\\n",
       "0 2022-06-01 08:55:16  8a858f5b8101e7c901811e75b191610d     ACTIVE   \n",
       "1 2022-06-09 16:46:57  8a858f46813e54820181495b67cc468b     ACTIVE   \n",
       "2 2022-08-05 17:30:18  8a858f318267ea7601826f0668096f69     ACTIVE   \n",
       "3 2022-09-06 15:49:50  8a858e458312b8be018312f773d93984  IN_ACTIVE   \n",
       "4 2022-12-06 15:03:23  8a858f4c84e67fe60184e7f2f7d05fc3     ACTIVE   \n",
       "\n",
       "      truckType  volume(kg)  \n",
       "0  REEFER_TRUCK     20000.0  \n",
       "1  REEFER_TRUCK     15000.0  \n",
       "2     BOX_TRUCK     13000.0  \n",
       "3     BOX_TRUCK     13000.0  \n",
       "4     BOX_TRUCK     13000.0  "
      ]
     },
     "execution_count": 163,
     "metadata": {},
     "output_type": "execute_result"
    }
   ],
   "source": [
    "trucks.head()"
   ]
  },
  {
   "cell_type": "markdown",
   "id": "9f16a57a-02bc-40c5-995f-6134ff8bd193",
   "metadata": {},
   "source": [
    "#### centres"
   ]
  },
  {
   "cell_type": "code",
   "execution_count": 165,
   "id": "3c8f3295-ba10-4687-9096-4865990634dc",
   "metadata": {},
   "outputs": [
    {
     "data": {
      "text/plain": [
       "centreId         int64\n",
       "location        object\n",
       "creationDate    object\n",
       "dtype: object"
      ]
     },
     "execution_count": 165,
     "metadata": {},
     "output_type": "execute_result"
    }
   ],
   "source": [
    "centres.dtypes"
   ]
  },
  {
   "cell_type": "code",
   "execution_count": 166,
   "id": "b92d2009-4287-47cf-be1e-e677712ae1b7",
   "metadata": {},
   "outputs": [
    {
     "data": {
      "text/plain": [
       "centreId                 int64\n",
       "location                object\n",
       "creationDate    datetime64[ns]\n",
       "dtype: object"
      ]
     },
     "execution_count": 166,
     "metadata": {},
     "output_type": "execute_result"
    }
   ],
   "source": [
    "# changing data type of creationDate\n",
    "\n",
    "centres['creationDate'] = pd.to_datetime(centres['creationDate'])\n",
    "\n",
    "centres.dtypes"
   ]
  },
  {
   "cell_type": "code",
   "execution_count": 167,
   "id": "6d3ecf81-9c63-40c4-9852-0b0025407fd0",
   "metadata": {},
   "outputs": [
    {
     "data": {
      "text/html": [
       "<div>\n",
       "<style scoped>\n",
       "    .dataframe tbody tr th:only-of-type {\n",
       "        vertical-align: middle;\n",
       "    }\n",
       "\n",
       "    .dataframe tbody tr th {\n",
       "        vertical-align: top;\n",
       "    }\n",
       "\n",
       "    .dataframe thead th {\n",
       "        text-align: right;\n",
       "    }\n",
       "</style>\n",
       "<table border=\"1\" class=\"dataframe\">\n",
       "  <thead>\n",
       "    <tr style=\"text-align: right;\">\n",
       "      <th></th>\n",
       "      <th>centreId</th>\n",
       "      <th>location</th>\n",
       "      <th>creationDate</th>\n",
       "    </tr>\n",
       "  </thead>\n",
       "  <tbody>\n",
       "    <tr>\n",
       "      <th>0</th>\n",
       "      <td>1023</td>\n",
       "      <td>KINTAMPO</td>\n",
       "      <td>2022-06-01 08:55:16</td>\n",
       "    </tr>\n",
       "    <tr>\n",
       "      <th>1</th>\n",
       "      <td>1041</td>\n",
       "      <td>TEMA</td>\n",
       "      <td>2022-06-09 16:46:57</td>\n",
       "    </tr>\n",
       "    <tr>\n",
       "      <th>2</th>\n",
       "      <td>1151</td>\n",
       "      <td>BOLGATANGA</td>\n",
       "      <td>2022-09-06 15:49:50</td>\n",
       "    </tr>\n",
       "    <tr>\n",
       "      <th>3</th>\n",
       "      <td>1481</td>\n",
       "      <td>KOFORIDUA</td>\n",
       "      <td>2023-08-09 07:15:06</td>\n",
       "    </tr>\n",
       "    <tr>\n",
       "      <th>4</th>\n",
       "      <td>1561</td>\n",
       "      <td>ACCRA</td>\n",
       "      <td>2023-08-09 10:02:28</td>\n",
       "    </tr>\n",
       "  </tbody>\n",
       "</table>\n",
       "</div>"
      ],
      "text/plain": [
       "   centreId    location        creationDate\n",
       "0      1023    KINTAMPO 2022-06-01 08:55:16\n",
       "1      1041        TEMA 2022-06-09 16:46:57\n",
       "2      1151  BOLGATANGA 2022-09-06 15:49:50\n",
       "3      1481   KOFORIDUA 2023-08-09 07:15:06\n",
       "4      1561       ACCRA 2023-08-09 10:02:28"
      ]
     },
     "execution_count": 167,
     "metadata": {},
     "output_type": "execute_result"
    }
   ],
   "source": [
    "centres.head()"
   ]
  },
  {
   "cell_type": "markdown",
   "id": "1daef587-1322-434f-9b42-fc60d43c3e53",
   "metadata": {},
   "source": [
    "#### handling missing values for orders dataset"
   ]
  },
  {
   "cell_type": "code",
   "execution_count": 169,
   "id": "acecc9d0-e941-464e-a794-592d1916b269",
   "metadata": {},
   "outputs": [
    {
     "data": {
      "text/plain": [
       "orderId               0\n",
       "clientId           1243\n",
       "lastModified          0\n",
       "status                0\n",
       "truckKey         310775\n",
       "location              0\n",
       "fee                   0\n",
       "volume(kg)            0\n",
       "deliveryItem          0\n",
       "dateGenerated         0\n",
       "dtype: int64"
      ]
     },
     "execution_count": 169,
     "metadata": {},
     "output_type": "execute_result"
    }
   ],
   "source": [
    "orders.isnull().sum()"
   ]
  },
  {
   "cell_type": "code",
   "execution_count": 170,
   "id": "4dfde1ff-be60-4ffa-b8da-53eb275f7bd9",
   "metadata": {},
   "outputs": [
    {
     "data": {
      "text/plain": [
       "(526945, 10)"
      ]
     },
     "execution_count": 170,
     "metadata": {},
     "output_type": "execute_result"
    }
   ],
   "source": [
    "orders.shape"
   ]
  },
  {
   "cell_type": "code",
   "execution_count": 171,
   "id": "6c3d7ad5-85b7-49e7-814b-93b7bfbc6fb9",
   "metadata": {},
   "outputs": [],
   "source": [
    "# Filling the missing client Ids with a placeholder \"Unknown\"\n",
    "\n",
    "orders['clientId'].fillna('Unknown', inplace=True)"
   ]
  },
  {
   "cell_type": "code",
   "execution_count": 172,
   "id": "fa56f168-c726-42af-86ec-949dfa869443",
   "metadata": {},
   "outputs": [
    {
     "name": "stdout",
     "output_type": "stream",
     "text": [
      "Non-PENDING orders with no truckKey:\n",
      " Empty DataFrame\n",
      "Columns: [orderId, clientId, lastModified, status, truckKey, location, fee, volume(kg), deliveryItem, dateGenerated]\n",
      "Index: []\n"
     ]
    }
   ],
   "source": [
    "# Checking if all orders with missing truckKey are truly 'PENDING'\n",
    "missing_truckkey_orders = orders[orders['truckKey'].isnull()]\n",
    "non_pending_with_no_truck = missing_truckkey_orders[missing_truckkey_orders['status'] != 'PENDING']\n",
    "\n",
    "# Print unexpected rows if any\n",
    "print(\"Non-PENDING orders with no truckKey:\\n\", non_pending_with_no_truck)\n"
   ]
  },
  {
   "cell_type": "code",
   "execution_count": 173,
   "id": "3b517eed-6974-4bea-b16a-0d47f952fe67",
   "metadata": {},
   "outputs": [],
   "source": [
    "# checking if all pending orders according to the metabase dashboard have null truck keys\n",
    "\n",
    "pending_orders = orders[orders['status'] == 'PENDING']\n",
    "assert pending_orders['truckKey'].isnull().all()"
   ]
  },
  {
   "cell_type": "code",
   "execution_count": 174,
   "id": "fd95fc88-2a92-484c-b735-869599fed80b",
   "metadata": {},
   "outputs": [
    {
     "data": {
      "text/html": [
       "<div>\n",
       "<style scoped>\n",
       "    .dataframe tbody tr th:only-of-type {\n",
       "        vertical-align: middle;\n",
       "    }\n",
       "\n",
       "    .dataframe tbody tr th {\n",
       "        vertical-align: top;\n",
       "    }\n",
       "\n",
       "    .dataframe thead th {\n",
       "        text-align: right;\n",
       "    }\n",
       "</style>\n",
       "<table border=\"1\" class=\"dataframe\">\n",
       "  <thead>\n",
       "    <tr style=\"text-align: right;\">\n",
       "      <th></th>\n",
       "      <th>orderId</th>\n",
       "      <th>clientId</th>\n",
       "      <th>lastModified</th>\n",
       "      <th>status</th>\n",
       "      <th>truckKey</th>\n",
       "      <th>location</th>\n",
       "      <th>fee</th>\n",
       "      <th>volume(kg)</th>\n",
       "      <th>deliveryItem</th>\n",
       "      <th>dateGenerated</th>\n",
       "    </tr>\n",
       "  </thead>\n",
       "  <tbody>\n",
       "    <tr>\n",
       "      <th>0</th>\n",
       "      <td>01GGAPGS3BZKF3AKKRRHPBCMMG</td>\n",
       "      <td>320232240</td>\n",
       "      <td>2025-03-02 18:20:00</td>\n",
       "      <td>PENDING</td>\n",
       "      <td>NaN</td>\n",
       "      <td>KINTAMPO</td>\n",
       "      <td>6400.0</td>\n",
       "      <td>340.0</td>\n",
       "      <td>BED</td>\n",
       "      <td>2025-03-02 18:20:00</td>\n",
       "    </tr>\n",
       "    <tr>\n",
       "      <th>1</th>\n",
       "      <td>01GGAPK4BCXD9S96QXFYD65E20</td>\n",
       "      <td>2420001880</td>\n",
       "      <td>2025-03-02 18:20:00</td>\n",
       "      <td>PENDING</td>\n",
       "      <td>NaN</td>\n",
       "      <td>KINTAMPO</td>\n",
       "      <td>320.0</td>\n",
       "      <td>17.0</td>\n",
       "      <td>BED</td>\n",
       "      <td>2025-03-02 18:20:00</td>\n",
       "    </tr>\n",
       "    <tr>\n",
       "      <th>2</th>\n",
       "      <td>01GGAPRNS3ET0JC79QTAX8PG46</td>\n",
       "      <td>43730707</td>\n",
       "      <td>2025-03-02 18:20:00</td>\n",
       "      <td>PENDING</td>\n",
       "      <td>NaN</td>\n",
       "      <td>KINTAMPO</td>\n",
       "      <td>3200.0</td>\n",
       "      <td>170.0</td>\n",
       "      <td>BED</td>\n",
       "      <td>2025-03-02 18:20:00</td>\n",
       "    </tr>\n",
       "    <tr>\n",
       "      <th>3</th>\n",
       "      <td>01GGAPX6EG5S77Y5B39SHNXEAM</td>\n",
       "      <td>28737136</td>\n",
       "      <td>2025-03-02 18:20:00</td>\n",
       "      <td>PENDING</td>\n",
       "      <td>NaN</td>\n",
       "      <td>KINTAMPO</td>\n",
       "      <td>640.0</td>\n",
       "      <td>34.0</td>\n",
       "      <td>BED</td>\n",
       "      <td>2025-03-02 18:20:00</td>\n",
       "    </tr>\n",
       "    <tr>\n",
       "      <th>4</th>\n",
       "      <td>01GGAPYCWBVZQEFFM0DA1J9VT3</td>\n",
       "      <td>38457808</td>\n",
       "      <td>2025-03-02 18:20:00</td>\n",
       "      <td>PENDING</td>\n",
       "      <td>NaN</td>\n",
       "      <td>KINTAMPO</td>\n",
       "      <td>1600.0</td>\n",
       "      <td>85.0</td>\n",
       "      <td>BED</td>\n",
       "      <td>2025-03-02 18:20:00</td>\n",
       "    </tr>\n",
       "    <tr>\n",
       "      <th>...</th>\n",
       "      <td>...</td>\n",
       "      <td>...</td>\n",
       "      <td>...</td>\n",
       "      <td>...</td>\n",
       "      <td>...</td>\n",
       "      <td>...</td>\n",
       "      <td>...</td>\n",
       "      <td>...</td>\n",
       "      <td>...</td>\n",
       "      <td>...</td>\n",
       "    </tr>\n",
       "    <tr>\n",
       "      <th>340007</th>\n",
       "      <td>01J187EZP99VWRDBRA208GKMDY</td>\n",
       "      <td>17354074.0</td>\n",
       "      <td>2025-03-02 18:20:00</td>\n",
       "      <td>PENDING</td>\n",
       "      <td>NaN</td>\n",
       "      <td>ACCRA</td>\n",
       "      <td>320.0</td>\n",
       "      <td>17.0</td>\n",
       "      <td>TABLE</td>\n",
       "      <td>2025-03-02 18:20:00</td>\n",
       "    </tr>\n",
       "    <tr>\n",
       "      <th>340008</th>\n",
       "      <td>01J187WA3ASVB0BRSEP7M2BM4Q</td>\n",
       "      <td>596083928.0</td>\n",
       "      <td>2025-03-02 18:20:00</td>\n",
       "      <td>PENDING</td>\n",
       "      <td>NaN</td>\n",
       "      <td>ACCRA</td>\n",
       "      <td>544.0</td>\n",
       "      <td>28.9</td>\n",
       "      <td>TABLE</td>\n",
       "      <td>2025-03-02 18:20:00</td>\n",
       "    </tr>\n",
       "    <tr>\n",
       "      <th>340009</th>\n",
       "      <td>01J188AKG5F6Y5QK85ZE9S9V88</td>\n",
       "      <td>604711603.0</td>\n",
       "      <td>2025-03-02 18:20:00</td>\n",
       "      <td>PENDING</td>\n",
       "      <td>NaN</td>\n",
       "      <td>ACCRA</td>\n",
       "      <td>6400.0</td>\n",
       "      <td>340.0</td>\n",
       "      <td>BED</td>\n",
       "      <td>2025-03-02 18:20:00</td>\n",
       "    </tr>\n",
       "    <tr>\n",
       "      <th>340012</th>\n",
       "      <td>01J189EMS0JB0QX69D8R7MKHZ9</td>\n",
       "      <td>512866981.0</td>\n",
       "      <td>2025-03-02 18:20:00</td>\n",
       "      <td>PENDING</td>\n",
       "      <td>NaN</td>\n",
       "      <td>ACCRA</td>\n",
       "      <td>320.0</td>\n",
       "      <td>17.0</td>\n",
       "      <td>TABLE</td>\n",
       "      <td>2025-03-02 18:20:00</td>\n",
       "    </tr>\n",
       "    <tr>\n",
       "      <th>340013</th>\n",
       "      <td>01J189R5H7CP0C8SZM3F135ZGR</td>\n",
       "      <td>193684670.0</td>\n",
       "      <td>2025-03-02 18:20:00</td>\n",
       "      <td>PENDING</td>\n",
       "      <td>NaN</td>\n",
       "      <td>ACCRA</td>\n",
       "      <td>3200.0</td>\n",
       "      <td>170.0</td>\n",
       "      <td>TABLE</td>\n",
       "      <td>2025-03-02 18:20:00</td>\n",
       "    </tr>\n",
       "  </tbody>\n",
       "</table>\n",
       "<p>310775 rows × 10 columns</p>\n",
       "</div>"
      ],
      "text/plain": [
       "                           orderId     clientId        lastModified   status  \\\n",
       "0       01GGAPGS3BZKF3AKKRRHPBCMMG    320232240 2025-03-02 18:20:00  PENDING   \n",
       "1       01GGAPK4BCXD9S96QXFYD65E20   2420001880 2025-03-02 18:20:00  PENDING   \n",
       "2       01GGAPRNS3ET0JC79QTAX8PG46     43730707 2025-03-02 18:20:00  PENDING   \n",
       "3       01GGAPX6EG5S77Y5B39SHNXEAM     28737136 2025-03-02 18:20:00  PENDING   \n",
       "4       01GGAPYCWBVZQEFFM0DA1J9VT3     38457808 2025-03-02 18:20:00  PENDING   \n",
       "...                            ...          ...                 ...      ...   \n",
       "340007  01J187EZP99VWRDBRA208GKMDY   17354074.0 2025-03-02 18:20:00  PENDING   \n",
       "340008  01J187WA3ASVB0BRSEP7M2BM4Q  596083928.0 2025-03-02 18:20:00  PENDING   \n",
       "340009  01J188AKG5F6Y5QK85ZE9S9V88  604711603.0 2025-03-02 18:20:00  PENDING   \n",
       "340012  01J189EMS0JB0QX69D8R7MKHZ9  512866981.0 2025-03-02 18:20:00  PENDING   \n",
       "340013  01J189R5H7CP0C8SZM3F135ZGR  193684670.0 2025-03-02 18:20:00  PENDING   \n",
       "\n",
       "       truckKey  location     fee  volume(kg) deliveryItem       dateGenerated  \n",
       "0           NaN  KINTAMPO  6400.0       340.0          BED 2025-03-02 18:20:00  \n",
       "1           NaN  KINTAMPO   320.0        17.0          BED 2025-03-02 18:20:00  \n",
       "2           NaN  KINTAMPO  3200.0       170.0          BED 2025-03-02 18:20:00  \n",
       "3           NaN  KINTAMPO   640.0        34.0          BED 2025-03-02 18:20:00  \n",
       "4           NaN  KINTAMPO  1600.0        85.0          BED 2025-03-02 18:20:00  \n",
       "...         ...       ...     ...         ...          ...                 ...  \n",
       "340007      NaN     ACCRA   320.0        17.0        TABLE 2025-03-02 18:20:00  \n",
       "340008      NaN     ACCRA   544.0        28.9        TABLE 2025-03-02 18:20:00  \n",
       "340009      NaN     ACCRA  6400.0       340.0          BED 2025-03-02 18:20:00  \n",
       "340012      NaN     ACCRA   320.0        17.0        TABLE 2025-03-02 18:20:00  \n",
       "340013      NaN     ACCRA  3200.0       170.0        TABLE 2025-03-02 18:20:00  \n",
       "\n",
       "[310775 rows x 10 columns]"
      ]
     },
     "execution_count": 174,
     "metadata": {},
     "output_type": "execute_result"
    }
   ],
   "source": [
    "pending_orders"
   ]
  },
  {
   "cell_type": "markdown",
   "id": "a0231bf8-a167-4565-ae32-4549948ceb7d",
   "metadata": {},
   "source": [
    "#### Match Pending Orders with Centres"
   ]
  },
  {
   "cell_type": "code",
   "execution_count": 207,
   "id": "e91bd5e8-002b-41db-866f-56e28202a11e",
   "metadata": {},
   "outputs": [],
   "source": [
    "# Filter pending orders\n",
    "pending_orders = orders[orders['status'] == 'PENDING'].copy()\n",
    "\n",
    "# Group by location to see order distribution\n",
    "pending_by_location = pending_orders.groupby('location').agg({\n",
    "    'orderId': 'count',\n",
    "    'volume(kg)': 'sum'\n",
    "}).reset_index().rename(columns={\n",
    "    'orderId': 'num_orders',\n",
    "    'volume(kg)': 'total_volume_kg'\n",
    "})\n",
    "\n",
    "# Merge with centres to validate these locations\n",
    "pending_with_centres = pd.merge(pending_by_location, centres, on='location', how='left')\n",
    "\n",
    "# Check for unmatched locations (i.e., no centre found)\n",
    "unmatched_locations = pending_with_centres[pending_with_centres['centreId'].isnull()]\n"
   ]
  },
  {
   "cell_type": "code",
   "execution_count": 209,
   "id": "9c403692-b5b3-48e4-b1f3-6caef97fc828",
   "metadata": {},
   "outputs": [
    {
     "name": "stdout",
     "output_type": "stream",
     "text": [
      "Pending Orders by Location (Matched with Centres):\n"
     ]
    },
    {
     "data": {
      "text/html": [
       "<div>\n",
       "<style scoped>\n",
       "    .dataframe tbody tr th:only-of-type {\n",
       "        vertical-align: middle;\n",
       "    }\n",
       "\n",
       "    .dataframe tbody tr th {\n",
       "        vertical-align: top;\n",
       "    }\n",
       "\n",
       "    .dataframe thead th {\n",
       "        text-align: right;\n",
       "    }\n",
       "</style>\n",
       "<table border=\"1\" class=\"dataframe\">\n",
       "  <thead>\n",
       "    <tr style=\"text-align: right;\">\n",
       "      <th></th>\n",
       "      <th>location</th>\n",
       "      <th>num_orders</th>\n",
       "      <th>total_volume_kg</th>\n",
       "      <th>centreId</th>\n",
       "      <th>creationDate</th>\n",
       "    </tr>\n",
       "  </thead>\n",
       "  <tbody>\n",
       "    <tr>\n",
       "      <th>0</th>\n",
       "      <td>ACCRA</td>\n",
       "      <td>111379</td>\n",
       "      <td>9158169.280</td>\n",
       "      <td>1561</td>\n",
       "      <td>2023-08-09 10:02:28</td>\n",
       "    </tr>\n",
       "    <tr>\n",
       "      <th>1</th>\n",
       "      <td>BOLGATANGA</td>\n",
       "      <td>32246</td>\n",
       "      <td>3187030.477</td>\n",
       "      <td>1151</td>\n",
       "      <td>2022-09-06 15:49:50</td>\n",
       "    </tr>\n",
       "    <tr>\n",
       "      <th>2</th>\n",
       "      <td>KINTAMPO</td>\n",
       "      <td>13456</td>\n",
       "      <td>1381981.000</td>\n",
       "      <td>1023</td>\n",
       "      <td>2022-06-01 08:55:16</td>\n",
       "    </tr>\n",
       "    <tr>\n",
       "      <th>3</th>\n",
       "      <td>KOFORIDUA</td>\n",
       "      <td>44072</td>\n",
       "      <td>3590683.050</td>\n",
       "      <td>1481</td>\n",
       "      <td>2023-08-09 07:15:06</td>\n",
       "    </tr>\n",
       "    <tr>\n",
       "      <th>4</th>\n",
       "      <td>TEMA</td>\n",
       "      <td>109622</td>\n",
       "      <td>9564523.680</td>\n",
       "      <td>1041</td>\n",
       "      <td>2022-06-09 16:46:57</td>\n",
       "    </tr>\n",
       "  </tbody>\n",
       "</table>\n",
       "</div>"
      ],
      "text/plain": [
       "     location  num_orders  total_volume_kg  centreId        creationDate\n",
       "0       ACCRA      111379      9158169.280      1561 2023-08-09 10:02:28\n",
       "1  BOLGATANGA       32246      3187030.477      1151 2022-09-06 15:49:50\n",
       "2    KINTAMPO       13456      1381981.000      1023 2022-06-01 08:55:16\n",
       "3   KOFORIDUA       44072      3590683.050      1481 2023-08-09 07:15:06\n",
       "4        TEMA      109622      9564523.680      1041 2022-06-09 16:46:57"
      ]
     },
     "metadata": {},
     "output_type": "display_data"
    },
    {
     "name": "stdout",
     "output_type": "stream",
     "text": [
      "\n",
      "Unmatched Locations (No Delivery Centre):\n"
     ]
    },
    {
     "data": {
      "text/html": [
       "<div>\n",
       "<style scoped>\n",
       "    .dataframe tbody tr th:only-of-type {\n",
       "        vertical-align: middle;\n",
       "    }\n",
       "\n",
       "    .dataframe tbody tr th {\n",
       "        vertical-align: top;\n",
       "    }\n",
       "\n",
       "    .dataframe thead th {\n",
       "        text-align: right;\n",
       "    }\n",
       "</style>\n",
       "<table border=\"1\" class=\"dataframe\">\n",
       "  <thead>\n",
       "    <tr style=\"text-align: right;\">\n",
       "      <th></th>\n",
       "      <th>location</th>\n",
       "      <th>num_orders</th>\n",
       "      <th>total_volume_kg</th>\n",
       "      <th>centreId</th>\n",
       "      <th>creationDate</th>\n",
       "    </tr>\n",
       "  </thead>\n",
       "  <tbody>\n",
       "  </tbody>\n",
       "</table>\n",
       "</div>"
      ],
      "text/plain": [
       "Empty DataFrame\n",
       "Columns: [location, num_orders, total_volume_kg, centreId, creationDate]\n",
       "Index: []"
      ]
     },
     "metadata": {},
     "output_type": "display_data"
    }
   ],
   "source": [
    "print(\"Pending Orders by Location (Matched with Centres):\")\n",
    "display(pending_with_centres)\n",
    "\n",
    "print(\"\\nUnmatched Locations (No Delivery Centre):\")\n",
    "display(unmatched_locations)\n"
   ]
  },
  {
   "cell_type": "markdown",
   "id": "06ff313d-c378-4ac9-bffc-e56b696e6f2a",
   "metadata": {},
   "source": [
    "#### Group available trucks by type and sort by volume for optimized allocation"
   ]
  },
  {
   "cell_type": "code",
   "execution_count": 214,
   "id": "d5aebed8-1d19-4ecc-bd99-de4dd4c437f6",
   "metadata": {},
   "outputs": [
    {
     "data": {
      "text/plain": [
       "(      truckType  num_trucks  total_volume_kg\n",
       " 0     BOX_TRUCK          25         329000.0\n",
       " 1  REEFER_TRUCK           5          90000.0,\n",
       "          creationDate                        encodedKey  status     truckType  \\\n",
       " 0 2022-06-01 08:55:16  8a858f5b8101e7c901811e75b191610d  ACTIVE  REEFER_TRUCK   \n",
       " 1 2020-08-20 16:41:56  8a858f47740be19501740cbede15691b  ACTIVE  REEFER_TRUCK   \n",
       " 2 2021-11-11 09:32:51  8a858f597d0b7853017d0e57bf32474b  ACTIVE  REEFER_TRUCK   \n",
       " 3 2024-10-15 09:57:07  8a858ec2928b13d401928f9aa132431a  ACTIVE     BOX_TRUCK   \n",
       " 4 2024-03-08 08:55:40  8a858fed8e15ce31018e1d2865003e8a  ACTIVE     BOX_TRUCK   \n",
       " \n",
       "    volume(kg)  \n",
       " 0     20000.0  \n",
       " 1     20000.0  \n",
       " 2     20000.0  \n",
       " 3     15000.0  \n",
       " 4     15000.0  )"
      ]
     },
     "execution_count": 214,
     "metadata": {},
     "output_type": "execute_result"
    }
   ],
   "source": [
    "# Step 2.3 – Filter available trucks and sort by volume\n",
    "\n",
    "# Filter only available trucks\n",
    "available_trucks = trucks[trucks['status'] == 'ACTIVE'].copy()\n",
    "\n",
    "# Convert volume to numeric if it's not already\n",
    "available_trucks['volume(kg)'] = pd.to_numeric(available_trucks['volume(kg)'], errors='coerce')\n",
    "\n",
    "# Drop trucks with missing or invalid volume\n",
    "available_trucks.dropna(subset=['volume(kg)'], inplace=True)\n",
    "\n",
    "# Group by truckType to understand available capacity\n",
    "truck_summary = (\n",
    "    available_trucks\n",
    "    .groupby('truckType')\n",
    "    .agg(num_trucks=('encodedKey', 'count'), total_volume_kg=('volume(kg)', 'sum'))\n",
    "    .reset_index()\n",
    "    .sort_values(by='total_volume_kg', ascending=False)\n",
    ")\n",
    "\n",
    "# Sort all available trucks by descending volume for allocation\n",
    "sorted_trucks = available_trucks.sort_values(by='volume(kg)', ascending=False).reset_index(drop=True)\n",
    "\n",
    "truck_summary, sorted_trucks.head()\n"
   ]
  },
  {
   "cell_type": "code",
   "execution_count": 216,
   "id": "a86f3856-b18c-4eba-8db7-aae0f8272df1",
   "metadata": {},
   "outputs": [
    {
     "data": {
      "text/html": [
       "<div>\n",
       "<style scoped>\n",
       "    .dataframe tbody tr th:only-of-type {\n",
       "        vertical-align: middle;\n",
       "    }\n",
       "\n",
       "    .dataframe tbody tr th {\n",
       "        vertical-align: top;\n",
       "    }\n",
       "\n",
       "    .dataframe thead th {\n",
       "        text-align: right;\n",
       "    }\n",
       "</style>\n",
       "<table border=\"1\" class=\"dataframe\">\n",
       "  <thead>\n",
       "    <tr style=\"text-align: right;\">\n",
       "      <th></th>\n",
       "      <th>Month</th>\n",
       "      <th>Total_Volume_kg</th>\n",
       "      <th>Capacity_Met</th>\n",
       "      <th>Shortfall</th>\n",
       "    </tr>\n",
       "  </thead>\n",
       "  <tbody>\n",
       "    <tr>\n",
       "      <th>0</th>\n",
       "      <td>July 2024</td>\n",
       "      <td>7348430.37</td>\n",
       "      <td>False</td>\n",
       "      <td>6873430.37</td>\n",
       "    </tr>\n",
       "    <tr>\n",
       "      <th>1</th>\n",
       "      <td>August 2024</td>\n",
       "      <td>6460568.65</td>\n",
       "      <td>False</td>\n",
       "      <td>5985568.65</td>\n",
       "    </tr>\n",
       "    <tr>\n",
       "      <th>2</th>\n",
       "      <td>September 2024</td>\n",
       "      <td>5494247.85</td>\n",
       "      <td>False</td>\n",
       "      <td>5019247.85</td>\n",
       "    </tr>\n",
       "    <tr>\n",
       "      <th>3</th>\n",
       "      <td>October 2024</td>\n",
       "      <td>7738964.57</td>\n",
       "      <td>False</td>\n",
       "      <td>7263964.57</td>\n",
       "    </tr>\n",
       "    <tr>\n",
       "      <th>4</th>\n",
       "      <td>November 2024</td>\n",
       "      <td>7305091.08</td>\n",
       "      <td>False</td>\n",
       "      <td>6830091.08</td>\n",
       "    </tr>\n",
       "    <tr>\n",
       "      <th>5</th>\n",
       "      <td>December 2024</td>\n",
       "      <td>6699635.57</td>\n",
       "      <td>False</td>\n",
       "      <td>6224635.57</td>\n",
       "    </tr>\n",
       "    <tr>\n",
       "      <th>6</th>\n",
       "      <td>January 2025</td>\n",
       "      <td>8267893.90</td>\n",
       "      <td>False</td>\n",
       "      <td>7792893.90</td>\n",
       "    </tr>\n",
       "    <tr>\n",
       "      <th>7</th>\n",
       "      <td>February 2025</td>\n",
       "      <td>8153754.68</td>\n",
       "      <td>False</td>\n",
       "      <td>7678754.68</td>\n",
       "    </tr>\n",
       "    <tr>\n",
       "      <th>8</th>\n",
       "      <td>March 2025</td>\n",
       "      <td>81365630.15</td>\n",
       "      <td>False</td>\n",
       "      <td>80890630.15</td>\n",
       "    </tr>\n",
       "  </tbody>\n",
       "</table>\n",
       "</div>"
      ],
      "text/plain": [
       "            Month  Total_Volume_kg  Capacity_Met    Shortfall\n",
       "0       July 2024       7348430.37         False   6873430.37\n",
       "1     August 2024       6460568.65         False   5985568.65\n",
       "2  September 2024       5494247.85         False   5019247.85\n",
       "3    October 2024       7738964.57         False   7263964.57\n",
       "4   November 2024       7305091.08         False   6830091.08\n",
       "5   December 2024       6699635.57         False   6224635.57\n",
       "6    January 2025       8267893.90         False   7792893.90\n",
       "7   February 2025       8153754.68         False   7678754.68\n",
       "8      March 2025      81365630.15         False  80890630.15"
      ]
     },
     "execution_count": 216,
     "metadata": {},
     "output_type": "execute_result"
    }
   ],
   "source": [
    "import pandas as pd\n",
    "\n",
    "# Monthly Order Data (Order Volume and Weight)\n",
    "monthly_orders = {\n",
    "    'Month': ['July 2024', 'August 2024', 'September 2024', 'October 2024', 'November 2024', \n",
    "              'December 2024', 'January 2025', 'February 2025', 'March 2025'],\n",
    "    'Order_Volume': [27316, 23401, 22271, 27497, 23666, 17834, 20884, 23026, 341050],  # order count\n",
    "    'Total_Volume_kg': [7348430.37, 6460568.65, 5494247.85, 7738964.57, 7305091.08, \n",
    "                        6699635.57, 8267893.90, 8153754.68, 81365630.15]  # in kg\n",
    "}\n",
    "\n",
    "# Convert to DataFrame\n",
    "df_orders = pd.DataFrame(monthly_orders)\n",
    "\n",
    "# Truck Capacity Data (From Previous Step)\n",
    "truck_capacity = {\n",
    "    'truckType': ['BOX_TRUCK', 'REEFER_TRUCK'],\n",
    "    'truckCount': [25, 5],  # 25 BOX_TRUCKS, 5 REEFER_TRUCKS\n",
    "    'capacity_per_truck_kg': [15000, 20000]  # BOX_TRUCK = 15,000 kg, REEFER_TRUCK = 20,000 kg\n",
    "}\n",
    "\n",
    "# Convert to DataFrame\n",
    "df_truck_capacity = pd.DataFrame(truck_capacity)\n",
    "\n",
    "# Function to calculate the total available truck capacity per month\n",
    "def calculate_available_capacity():\n",
    "    df_truck_capacity['total_capacity_kg'] = df_truck_capacity['truckCount'] * df_truck_capacity['capacity_per_truck_kg']\n",
    "    total_available_capacity = df_truck_capacity['total_capacity_kg'].sum()\n",
    "    return total_available_capacity\n",
    "\n",
    "# Calculate available truck capacity (same for all months)\n",
    "total_available_capacity = calculate_available_capacity()\n",
    "\n",
    "# Add columns for \"Deficit\" and \"Capacity Met\" to the orders DataFrame\n",
    "df_orders['Capacity_Met'] = df_orders['Total_Volume_kg'] <= total_available_capacity\n",
    "df_orders['Deficit_kg'] = df_orders['Total_Volume_kg'] - total_available_capacity\n",
    "df_orders['Shortfall'] = df_orders['Deficit_kg'].apply(lambda x: x if x > 0 else 0)\n",
    "\n",
    "# Display the results\n",
    "df_orders[['Month', 'Total_Volume_kg', 'Capacity_Met', 'Shortfall']]\n"
   ]
  },
  {
   "cell_type": "markdown",
   "id": "f0f92efc-1401-41bd-99fc-c4d3364db31d",
   "metadata": {},
   "source": [
    "#### to calculate additional trucks required"
   ]
  },
  {
   "cell_type": "code",
   "execution_count": 219,
   "id": "04b0b75c-1210-424d-9726-2097de5d6d71",
   "metadata": {},
   "outputs": [
    {
     "data": {
      "text/html": [
       "<div>\n",
       "<style scoped>\n",
       "    .dataframe tbody tr th:only-of-type {\n",
       "        vertical-align: middle;\n",
       "    }\n",
       "\n",
       "    .dataframe tbody tr th {\n",
       "        vertical-align: top;\n",
       "    }\n",
       "\n",
       "    .dataframe thead th {\n",
       "        text-align: right;\n",
       "    }\n",
       "</style>\n",
       "<table border=\"1\" class=\"dataframe\">\n",
       "  <thead>\n",
       "    <tr style=\"text-align: right;\">\n",
       "      <th></th>\n",
       "      <th>Month</th>\n",
       "      <th>Total_Volume_kg</th>\n",
       "      <th>Capacity_Met</th>\n",
       "      <th>Shortfall</th>\n",
       "      <th>Additional_Trucks_Required</th>\n",
       "    </tr>\n",
       "  </thead>\n",
       "  <tbody>\n",
       "    <tr>\n",
       "      <th>0</th>\n",
       "      <td>July 2024</td>\n",
       "      <td>7348430.37</td>\n",
       "      <td>False</td>\n",
       "      <td>6873430.37</td>\n",
       "      <td>344.0</td>\n",
       "    </tr>\n",
       "    <tr>\n",
       "      <th>1</th>\n",
       "      <td>August 2024</td>\n",
       "      <td>6460568.65</td>\n",
       "      <td>False</td>\n",
       "      <td>5985568.65</td>\n",
       "      <td>300.0</td>\n",
       "    </tr>\n",
       "    <tr>\n",
       "      <th>2</th>\n",
       "      <td>September 2024</td>\n",
       "      <td>5494247.85</td>\n",
       "      <td>False</td>\n",
       "      <td>5019247.85</td>\n",
       "      <td>252.0</td>\n",
       "    </tr>\n",
       "    <tr>\n",
       "      <th>3</th>\n",
       "      <td>October 2024</td>\n",
       "      <td>7738964.57</td>\n",
       "      <td>False</td>\n",
       "      <td>7263964.57</td>\n",
       "      <td>364.0</td>\n",
       "    </tr>\n",
       "    <tr>\n",
       "      <th>4</th>\n",
       "      <td>November 2024</td>\n",
       "      <td>7305091.08</td>\n",
       "      <td>False</td>\n",
       "      <td>6830091.08</td>\n",
       "      <td>342.0</td>\n",
       "    </tr>\n",
       "    <tr>\n",
       "      <th>5</th>\n",
       "      <td>December 2024</td>\n",
       "      <td>6699635.57</td>\n",
       "      <td>False</td>\n",
       "      <td>6224635.57</td>\n",
       "      <td>312.0</td>\n",
       "    </tr>\n",
       "    <tr>\n",
       "      <th>6</th>\n",
       "      <td>January 2025</td>\n",
       "      <td>8267893.90</td>\n",
       "      <td>False</td>\n",
       "      <td>7792893.90</td>\n",
       "      <td>390.0</td>\n",
       "    </tr>\n",
       "    <tr>\n",
       "      <th>7</th>\n",
       "      <td>February 2025</td>\n",
       "      <td>8153754.68</td>\n",
       "      <td>False</td>\n",
       "      <td>7678754.68</td>\n",
       "      <td>385.0</td>\n",
       "    </tr>\n",
       "    <tr>\n",
       "      <th>8</th>\n",
       "      <td>March 2025</td>\n",
       "      <td>81365630.15</td>\n",
       "      <td>False</td>\n",
       "      <td>80890630.15</td>\n",
       "      <td>4045.0</td>\n",
       "    </tr>\n",
       "  </tbody>\n",
       "</table>\n",
       "</div>"
      ],
      "text/plain": [
       "            Month  Total_Volume_kg  Capacity_Met    Shortfall  \\\n",
       "0       July 2024       7348430.37         False   6873430.37   \n",
       "1     August 2024       6460568.65         False   5985568.65   \n",
       "2  September 2024       5494247.85         False   5019247.85   \n",
       "3    October 2024       7738964.57         False   7263964.57   \n",
       "4   November 2024       7305091.08         False   6830091.08   \n",
       "5   December 2024       6699635.57         False   6224635.57   \n",
       "6    January 2025       8267893.90         False   7792893.90   \n",
       "7   February 2025       8153754.68         False   7678754.68   \n",
       "8      March 2025      81365630.15         False  80890630.15   \n",
       "\n",
       "   Additional_Trucks_Required  \n",
       "0                       344.0  \n",
       "1                       300.0  \n",
       "2                       252.0  \n",
       "3                       364.0  \n",
       "4                       342.0  \n",
       "5                       312.0  \n",
       "6                       390.0  \n",
       "7                       385.0  \n",
       "8                      4045.0  "
      ]
     },
     "execution_count": 219,
     "metadata": {},
     "output_type": "execute_result"
    }
   ],
   "source": [
    "# Function to calculate additional trucks needed to meet the shortfall\n",
    "def calculate_additional_trucks(shortfall_kg):\n",
    "    # Calculate the total number of trucks required for the shortfall\n",
    "    # First, prioritize REEFER_TRUCK (higher capacity) to minimize truck count\n",
    "    if shortfall_kg > 0:\n",
    "        required_reefer_trucks = shortfall_kg // df_truck_capacity[df_truck_capacity['truckType'] == 'REEFER_TRUCK']['capacity_per_truck_kg'].values[0]\n",
    "        remaining_shortfall = shortfall_kg % df_truck_capacity[df_truck_capacity['truckType'] == 'REEFER_TRUCK']['capacity_per_truck_kg'].values[0]\n",
    "        \n",
    "        # Then use BOX_TRUCK for any remaining shortfall\n",
    "        required_box_trucks = remaining_shortfall // df_truck_capacity[df_truck_capacity['truckType'] == 'BOX_TRUCK']['capacity_per_truck_kg'].values[0]\n",
    "        \n",
    "        if remaining_shortfall % df_truck_capacity[df_truck_capacity['truckType'] == 'BOX_TRUCK']['capacity_per_truck_kg'].values[0] > 0:\n",
    "            required_box_trucks += 1\n",
    "        \n",
    "        return required_reefer_trucks + required_box_trucks\n",
    "    return 0\n",
    "\n",
    "# Apply the function to calculate the additional trucks needed for each month\n",
    "df_orders['Additional_Trucks_Required'] = df_orders['Shortfall'].apply(calculate_additional_trucks)\n",
    "\n",
    "# Display the final results including additional trucks needed\n",
    "df_orders[['Month', 'Total_Volume_kg', 'Capacity_Met', 'Shortfall', 'Additional_Trucks_Required']]\n"
   ]
  },
  {
   "cell_type": "code",
   "execution_count": 221,
   "id": "ed8e0f68-7d05-496b-9b07-72f84635a26a",
   "metadata": {},
   "outputs": [
    {
     "name": "stdout",
     "output_type": "stream",
     "text": [
      "Unmatched Locations (in orders but not in centres):\n",
      "set()\n",
      "\n",
      "Total unmatched locations: 0\n"
     ]
    }
   ],
   "source": [
    "# Step 1: Identify unmatched locations\n",
    "orders_locations = set(orders['location'].unique())\n",
    "centres_locations = set(centres['location'].unique())\n",
    "\n",
    "# Locations in orders that are not in centres\n",
    "unmatched_locations = orders_locations - centres_locations\n",
    "\n",
    "print(\"Unmatched Locations (in orders but not in centres):\")\n",
    "print(unmatched_locations)\n",
    "print(f\"\\nTotal unmatched locations: {len(unmatched_locations)}\")\n"
   ]
  },
  {
   "cell_type": "code",
   "execution_count": 223,
   "id": "14a2859d-60f1-4748-9eb5-7338d153740a",
   "metadata": {},
   "outputs": [
    {
     "name": "stdout",
     "output_type": "stream",
     "text": [
      "Sample merged orders data:\n",
      "                      orderId  location  centreId\n",
      "0  01GGAPGS3BZKF3AKKRRHPBCMMG  KINTAMPO      1023\n",
      "1  01GGAPK4BCXD9S96QXFYD65E20  KINTAMPO      1023\n",
      "2  01GGAPRNS3ET0JC79QTAX8PG46  KINTAMPO      1023\n",
      "3  01GGAPX6EG5S77Y5B39SHNXEAM  KINTAMPO      1023\n",
      "4  01GGAPYCWBVZQEFFM0DA1J9VT3  KINTAMPO      1023\n"
     ]
    }
   ],
   "source": [
    "# Merge orders with centres to get the delivery centre ID for each order\n",
    "orders = orders.merge(centres[['centreId', 'location']], on='location', how='left')\n",
    "\n",
    "# Sanity check\n",
    "print(\"Sample merged orders data:\")\n",
    "print(orders[['orderId', 'location', 'centreId']].head())\n"
   ]
  },
  {
   "cell_type": "code",
   "execution_count": 235,
   "id": "e7f7ef86-e99b-4853-9cbe-7c0a26953ba7",
   "metadata": {},
   "outputs": [
    {
     "name": "stdout",
     "output_type": "stream",
     "text": [
      "Sample pending orders:\n",
      "                      orderId   status  volume(kg)    month\n",
      "0  01GGAPGS3BZKF3AKKRRHPBCMMG  PENDING       340.0  2025-03\n",
      "1  01GGAPK4BCXD9S96QXFYD65E20  PENDING        17.0  2025-03\n",
      "2  01GGAPRNS3ET0JC79QTAX8PG46  PENDING       170.0  2025-03\n",
      "3  01GGAPX6EG5S77Y5B39SHNXEAM  PENDING        34.0  2025-03\n",
      "4  01GGAPYCWBVZQEFFM0DA1J9VT3  PENDING        85.0  2025-03\n"
     ]
    }
   ],
   "source": [
    "from datetime import datetime\n",
    "\n",
    "# Define time range\n",
    "start_date = pd.to_datetime('2024-07-01')\n",
    "end_date = pd.to_datetime('2025-03-31')\n",
    "\n",
    "# Filter pending orders in the specified time range\n",
    "pending_orders = orders[\n",
    "    (orders['status'] == 'PENDING') &\n",
    "    (orders['dateGenerated'] >= start_date) &\n",
    "    (orders['dateGenerated'] <= end_date)\n",
    "].copy()\n",
    "\n",
    "# Filter only ACTIVE trucks\n",
    "active_trucks = trucks[trucks['status'] == 'ACTIVE'].copy()\n",
    "\n",
    "# Clean volume column if needed\n",
    "pending_orders['volume(kg)'] = pd.to_numeric(pending_orders['volume(kg)'], errors='coerce').fillna(0)\n",
    "active_trucks['volume(kg)'] = pd.to_numeric(active_trucks['volume(kg)'], errors='coerce').fillna(0)\n",
    "\n",
    "# Add a month column for grouping\n",
    "pending_orders['month'] = pending_orders['dateGenerated'].dt.to_period('M')\n",
    "\n",
    "# Preview pending orders\n",
    "print(\"Sample pending orders:\")\n",
    "print(pending_orders[['orderId', 'status', 'volume(kg)', 'month']].head())\n"
   ]
  },
  {
   "cell_type": "code",
   "execution_count": null,
   "id": "c13ca4b6-ee22-4d13-bf1c-690c7b216e8a",
   "metadata": {},
   "outputs": [],
   "source": []
  },
  {
   "cell_type": "code",
   "execution_count": 238,
   "id": "8f9f6ebf-217c-4374-9c1f-bd380856a8d6",
   "metadata": {},
   "outputs": [],
   "source": [
    "from collections import defaultdict\n",
    "\n",
    "def first_fit_decreasing(orders_list, truck_capacity):\n",
    "    trucks_used = []\n",
    "    for order_volume in sorted(orders_list, reverse=True):\n",
    "        placed = False\n",
    "        for truck in trucks_used:\n",
    "            if truck['remaining'] >= order_volume:\n",
    "                truck['remaining'] -= order_volume\n",
    "                truck['orders'].append(order_volume)\n",
    "                placed = True\n",
    "                break\n",
    "        if not placed:\n",
    "            trucks_used.append({'remaining': truck_capacity, 'orders': [order_volume]})\n",
    "            trucks_used[-1]['remaining'] -= order_volume\n",
    "    return len(trucks_used)\n"
   ]
  },
  {
   "cell_type": "code",
   "execution_count": 240,
   "id": "8f49b3fa-d902-40bb-baf5-f89110e39fcb",
   "metadata": {},
   "outputs": [
    {
     "name": "stdout",
     "output_type": "stream",
     "text": [
      "Sample results:\n",
      "     Month  Centre  Orders  Total Volume (kg)  Trucks Needed\n",
      "0  2025-03    1023   13456        1381981.000             99\n",
      "1  2025-03    1041  109622        9564523.680            685\n",
      "2  2025-03    1151   32246        3187030.477            229\n",
      "3  2025-03    1481   44072        3590683.050            258\n",
      "4  2025-03    1561  111379        9158169.280            656\n"
     ]
    }
   ],
   "source": [
    "results = []\n",
    "\n",
    "for month, month_df in pending_orders.groupby('month'):\n",
    "    month_str = str(month)\n",
    "\n",
    "    for centre, centre_df in month_df.groupby('centreId'):\n",
    "        order_volumes = centre_df['volume(kg)'].tolist()\n",
    "        \n",
    "        # Choose average truck capacity (you can improve later with actual matching)\n",
    "        avg_truck_capacity = active_trucks['volume(kg)'].mean()\n",
    "        \n",
    "        trucks_needed = first_fit_decreasing(order_volumes, avg_truck_capacity)\n",
    "\n",
    "        results.append({\n",
    "            'Month': month_str,\n",
    "            'Centre': centre,\n",
    "            'Orders': len(order_volumes),\n",
    "            'Total Volume (kg)': sum(order_volumes),\n",
    "            'Trucks Needed': trucks_needed\n",
    "        })\n",
    "\n",
    "allocation_df = pd.DataFrame(results)\n",
    "\n",
    "# Preview output\n",
    "print(\"Sample results:\")\n",
    "print(allocation_df.head())\n"
   ]
  },
  {
   "cell_type": "code",
   "execution_count": 241,
   "id": "ac2853a4-5e3d-4843-b328-7b5273826cb6",
   "metadata": {},
   "outputs": [
    {
     "name": "stdout",
     "output_type": "stream",
     "text": [
      "Monthly Summary:\n",
      "         Orders  Trucks Needed\n",
      "Month                         \n",
      "2025-03  310775           1927\n"
     ]
    }
   ],
   "source": [
    "# Show summary\n",
    "summary_df = allocation_df.groupby('Month')[['Orders', 'Trucks Needed']].sum()\n",
    "print(\"Monthly Summary:\")\n",
    "print(summary_df)\n"
   ]
  },
  {
   "cell_type": "code",
   "execution_count": 242,
   "id": "ec192e36-de79-431f-909d-b0b33256a625",
   "metadata": {},
   "outputs": [
    {
     "data": {
      "image/png": "[encoded data removed]",
      "text/plain": [
       "<Figure size 1200x600 with 1 Axes>"
      ]
     },
     "metadata": {},
     "output_type": "display_data"
    }
   ],
   "source": [
    "import seaborn as sns\n",
    "import matplotlib.pyplot as plt\n",
    "\n",
    "# Optional: visualize trucks needed per month\n",
    "plt.figure(figsize=(12, 6))\n",
    "sns.barplot(data=allocation_df, x='Month', y='Trucks Needed', estimator=sum, ci=None)\n",
    "plt.xticks(rotation=45)\n",
    "plt.title(\"Total Trucks Needed per Month to Clear Pending Orders\")\n",
    "plt.tight_layout()\n",
    "plt.show()\n"
   ]
  },
  {
   "cell_type": "code",
   "execution_count": null,
   "id": "005b357c-9f80-480a-97f2-a37e8e977f4e",
   "metadata": {},
   "outputs": [],
   "source": []
  },
  {
   "cell_type": "code",
   "execution_count": null,
   "id": "635632e1-ccbf-4e98-866a-037c462c643d",
   "metadata": {},
   "outputs": [],
   "source": []
  },
  {
   "cell_type": "code",
   "execution_count": 246,
   "id": "9d0bf531-fd33-4b62-85fa-7a83c7d67a77",
   "metadata": {},
   "outputs": [
    {
     "name": "stdout",
     "output_type": "stream",
     "text": [
      "   Centre  Orders  Trucks Needed\n",
      "1    1041  109622            685\n",
      "4    1561  111379            656\n",
      "3    1481   44072            258\n",
      "2    1151   32246            229\n",
      "0    1023   13456             99\n"
     ]
    }
   ],
   "source": [
    "# Per centre truck requirement in March\n",
    "march_data = allocation_df[allocation_df['Month'] == '2025-03']\n",
    "march_centre_summary = march_data[['Centre', 'Orders', 'Trucks Needed']].sort_values(by='Trucks Needed', ascending=False)\n",
    "print(march_centre_summary.head(10))  # top 10 busiest centres\n"
   ]
  },
  {
   "cell_type": "code",
   "execution_count": 248,
   "id": "50673f9b-6069-4ac7-bf65-fe5527377156",
   "metadata": {},
   "outputs": [
    {
     "name": "stdout",
     "output_type": "stream",
     "text": [
      "   Centre    location  Orders  Trucks Needed\n",
      "0    1041        TEMA  109622            685\n",
      "1    1561       ACCRA  111379            656\n",
      "2    1481   KOFORIDUA   44072            258\n",
      "3    1151  BOLGATANGA   32246            229\n",
      "4    1023    KINTAMPO   13456             99\n"
     ]
    }
   ],
   "source": [
    "march_centre_summary = march_centre_summary.merge(centres[['centreId', 'location']], left_on='Centre', right_on='centreId', how='left')\n",
    "print(march_centre_summary[['Centre', 'location', 'Orders', 'Trucks Needed']])\n"
   ]
  },
  {
   "cell_type": "code",
   "execution_count": 252,
   "id": "2c39f312-fd32-4b65-9f8a-acaca24c6c4c",
   "metadata": {},
   "outputs": [
    {
     "name": "stdout",
     "output_type": "stream",
     "text": [
      "Remaining Backlog after 8 Months:\n",
      "   centreId    volume(kg)\n",
      "0      1023  8.359595e+05\n",
      "1      1041  5.785575e+06\n",
      "2      1151  1.927833e+06\n",
      "3      1481  2.172002e+06\n",
      "4      1561  5.539771e+06\n"
     ]
    },
    {
     "data": {
      "image/png": "[encoded data removed]",
      "text/plain": [
       "<Figure size 1200x600 with 1 Axes>"
      ]
     },
     "metadata": {},
     "output_type": "display_data"
    }
   ],
   "source": [
    "# Define number of trucks available\n",
    "num_trucks = 30\n",
    "\n",
    "# Average truck capacity\n",
    "avg_truck_capacity = active_trucks['volume(kg)'].mean()\n",
    "\n",
    "# Calculate total number of weeks for the period (8 months)\n",
    "total_weeks = 8 * 4  # 4 weeks per month\n",
    "\n",
    "# Create a list to track weekly deliveries\n",
    "weekly_results = []\n",
    "\n",
    "# Calculate the total volume of pending orders at each centre\n",
    "centre_order_volumes = pending_orders.groupby('centreId')['volume(kg)'].sum().reset_index()\n",
    "\n",
    "# Assign a truck allocation for each centre proportionally\n",
    "total_volume = centre_order_volumes['volume(kg)'].sum()\n",
    "\n",
    "# For each week (and each centre), calculate how much can be delivered\n",
    "for week in range(total_weeks):\n",
    "    # Calculate how much volume we can deliver this week based on the number of trucks and truck capacity\n",
    "    weekly_capacity = num_trucks * avg_truck_capacity  # Total capacity for the week\n",
    "    \n",
    "    # We will allocate deliveries based on the proportion of volume each centre has\n",
    "    weekly_deliveries = []\n",
    "    for _, row in centre_order_volumes.iterrows():\n",
    "        centre_volume = row['volume(kg)']\n",
    "        # Calculate the proportion of weekly deliveries based on the centre's volume\n",
    "        centre_delivery = (centre_volume / total_volume) * weekly_capacity\n",
    "        weekly_deliveries.append({\n",
    "            'Week': week + 1,  # Week starts from 1\n",
    "            'Centre': row['centreId'],\n",
    "            'Delivered (kg)': centre_delivery\n",
    "        })\n",
    "        \n",
    "    # Update the remaining backlog at each centre\n",
    "    for delivery in weekly_deliveries:\n",
    "        centre_order_volumes.loc[centre_order_volumes['centreId'] == delivery['Centre'], 'volume(kg)'] -= delivery['Delivered (kg)']\n",
    "        \n",
    "    # Append the weekly deliveries\n",
    "    weekly_results.extend(weekly_deliveries)\n",
    "\n",
    "# Convert results to DataFrame\n",
    "weekly_results_df = pd.DataFrame(weekly_results)\n",
    "\n",
    "# Check how much volume is remaining after all the weeks\n",
    "remaining_backlog = centre_order_volumes[['centreId', 'volume(kg)']]\n",
    "print(\"Remaining Backlog after 8 Months:\")\n",
    "print(remaining_backlog)\n",
    "\n",
    "# Correct the column name in the plot\n",
    "plt.figure(figsize=(12,6))\n",
    "sns.lineplot(data=weekly_results_df, x='Week', y='Delivered (kg)', hue='Centre', marker='o')\n",
    "plt.title(\"Weekly Delivery Allocation (Per Centre) Over 8 Months\")\n",
    "plt.xlabel(\"Week\")\n",
    "plt.ylabel(\"Volume Delivered (kg)\")\n",
    "plt.legend(title='Centre', bbox_to_anchor=(1.05, 1), loc='upper left')\n",
    "plt.grid(True)\n",
    "plt.tight_layout()\n",
    "plt.show()\n",
    "\n",
    "\n"
   ]
  },
  {
   "cell_type": "code",
   "execution_count": null,
   "id": "7843b096-b724-43e1-be4c-b33d3d6af853",
   "metadata": {},
   "outputs": [],
   "source": []
  }
 ],
 "metadata": {
  "kernelspec": {
   "display_name": "Python 3 (ipykernel)",
   "language": "python",
   "name": "python3"
  },
  "language_info": {
   "codemirror_mode": {
    "name": "ipython",
    "version": 3
   },
   "file_extension": ".py",
   "mimetype": "text/x-python",
   "name": "python",
   "nbconvert_exporter": "python",
   "pygments_lexer": "ipython3",
   "version": "3.12.4"
  }
 },
 "nbformat": 4,
 "nbformat_minor": 5
}
