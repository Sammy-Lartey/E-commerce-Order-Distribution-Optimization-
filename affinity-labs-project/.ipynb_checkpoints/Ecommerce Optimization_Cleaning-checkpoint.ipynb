{
 "cells": [
  {
   "cell_type": "markdown",
   "id": "5ef29ff1-56d5-489f-a07b-eccf05ae0370",
   "metadata": {},
   "source": [
    "### Loading and Preprocessing"
   ]
  },
  {
   "cell_type": "code",
   "execution_count": 2,
   "id": "2022573d-1406-4de4-9633-05862eacb46c",
   "metadata": {},
   "outputs": [
    {
     "name": "stdout",
     "output_type": "stream",
     "text": [
      "✓ Libraries imported\n"
     ]
    }
   ],
   "source": [
    "import pandas as pd\n",
    "import numpy as np\n",
    "import matplotlib.pyplot as plt\n",
    "import seaborn as sns\n",
    "from tqdm.notebook import tqdm  \n",
    "\n",
    "\n",
    "\n",
    "import warnings\n",
    "warnings.filterwarnings(\"ignore\")\n",
    "\n",
    "print(\"✓ Libraries imported\")"
   ]
  },
  {
   "cell_type": "markdown",
   "id": "b905a6ca-fc20-423a-afb9-7e6f5a40c5de",
   "metadata": {},
   "source": [
    "#### Loading Datasets"
   ]
  },
  {
   "cell_type": "code",
   "execution_count": 4,
   "id": "d26b73f6-0d0b-4df5-90d9-38d806336bae",
   "metadata": {},
   "outputs": [],
   "source": [
    "# Loading datasets \n",
    "\n",
    "orders = pd.read_csv(r'C:\\Users\\sammy\\Desktop\\AFFINITY\\Data Dump\\orders.csv')\n",
    "\n",
    "trucks = pd.read_csv(r'C:\\Users\\sammy\\Desktop\\AFFINITY\\Data Dump\\trucks.csv')\n",
    "\n",
    "centres = pd.read_csv(r'C:\\Users\\sammy\\Desktop\\AFFINITY\\Data Dump\\centres.csv')"
   ]
  },
  {
   "cell_type": "markdown",
   "id": "60ad1e8e-8b9c-4b26-b547-0c586dea93a4",
   "metadata": {},
   "source": [
    "#### Checking for null values"
   ]
  },
  {
   "cell_type": "code",
   "execution_count": 6,
   "id": "dbedcbd0-276a-402d-9d5f-0a2332de65f5",
   "metadata": {},
   "outputs": [
    {
     "data": {
      "text/plain": [
       "Unnamed: 0            0\n",
       "orderId               0\n",
       "clientId           1243\n",
       "lastModified          0\n",
       "status                0\n",
       "truckKey         310775\n",
       "location              0\n",
       "fee                   0\n",
       "volume(kg)            0\n",
       "deliveryItem          0\n",
       "dateGenerated         0\n",
       "dtype: int64"
      ]
     },
     "execution_count": 6,
     "metadata": {},
     "output_type": "execute_result"
    }
   ],
   "source": [
    "# checking for missing values\n",
    "\n",
    "orders.isnull().sum()"
   ]
  },
  {
   "cell_type": "code",
   "execution_count": 7,
   "id": "858bebbe-c5ff-45a8-b415-a10ff7d3b6d1",
   "metadata": {},
   "outputs": [
    {
     "data": {
      "text/plain": [
       "creationDate    0\n",
       "encodedKey      0\n",
       "status          0\n",
       "truckType       0\n",
       "volume(kg)      0\n",
       "dtype: int64"
      ]
     },
     "execution_count": 7,
     "metadata": {},
     "output_type": "execute_result"
    }
   ],
   "source": [
    "trucks.isnull().sum()"
   ]
  },
  {
   "cell_type": "code",
   "execution_count": 8,
   "id": "10b641b5-e885-4b4b-944a-77928d5345bc",
   "metadata": {},
   "outputs": [
    {
     "data": {
      "text/plain": [
       "centreId        0\n",
       "location        0\n",
       "creationDate    0\n",
       "dtype: int64"
      ]
     },
     "execution_count": 8,
     "metadata": {},
     "output_type": "execute_result"
    }
   ],
   "source": [
    "centres.isnull().sum()"
   ]
  },
  {
   "cell_type": "markdown",
   "id": "2fd40db7-85bd-4a65-8b85-fedd196047db",
   "metadata": {},
   "source": [
    "#### Checking for duplicates"
   ]
  },
  {
   "cell_type": "code",
   "execution_count": 10,
   "id": "f479b172-f036-4687-8bb9-57e30da30194",
   "metadata": {},
   "outputs": [
    {
     "data": {
      "text/plain": [
       "0"
      ]
     },
     "execution_count": 10,
     "metadata": {},
     "output_type": "execute_result"
    }
   ],
   "source": [
    "# checking for duplicates\n",
    "\n",
    "orders.duplicated().sum()"
   ]
  },
  {
   "cell_type": "code",
   "execution_count": 11,
   "id": "33eb0033-ec16-48af-8308-c0d76b78773d",
   "metadata": {},
   "outputs": [
    {
     "data": {
      "text/plain": [
       "0"
      ]
     },
     "execution_count": 11,
     "metadata": {},
     "output_type": "execute_result"
    }
   ],
   "source": [
    "trucks.duplicated().sum()"
   ]
  },
  {
   "cell_type": "code",
   "execution_count": 12,
   "id": "e3e9329a-f293-487a-8c16-8e7b22720b14",
   "metadata": {},
   "outputs": [
    {
     "data": {
      "text/plain": [
       "0"
      ]
     },
     "execution_count": 12,
     "metadata": {},
     "output_type": "execute_result"
    }
   ],
   "source": [
    "centres.duplicated().sum()"
   ]
  },
  {
   "cell_type": "markdown",
   "id": "197c74ac-12d0-4dab-b531-a7afe47117a4",
   "metadata": {},
   "source": [
    "#### data types\n",
    "\n",
    "#### orders"
   ]
  },
  {
   "cell_type": "code",
   "execution_count": 14,
   "id": "f4dedee6-bed6-4dbd-9093-10c981832cfa",
   "metadata": {},
   "outputs": [
    {
     "data": {
      "text/plain": [
       "Unnamed: 0         int64\n",
       "orderId           object\n",
       "clientId          object\n",
       "lastModified      object\n",
       "status            object\n",
       "truckKey          object\n",
       "location          object\n",
       "fee              float64\n",
       "volume(kg)       float64\n",
       "deliveryItem      object\n",
       "dateGenerated     object\n",
       "dtype: object"
      ]
     },
     "execution_count": 14,
     "metadata": {},
     "output_type": "execute_result"
    }
   ],
   "source": [
    "orders.dtypes"
   ]
  },
  {
   "cell_type": "code",
   "execution_count": 15,
   "id": "7a4863aa-6926-4c94-95d4-4542ca017fd7",
   "metadata": {},
   "outputs": [],
   "source": [
    "# data type conversion for date columns\n",
    "\n",
    "orders['lastModified'] = pd.to_datetime(orders['lastModified'], dayfirst=True)\n",
    "orders['dateGenerated'] = pd.to_datetime(orders['dateGenerated'], dayfirst=True)\n"
   ]
  },
  {
   "cell_type": "code",
   "execution_count": 16,
   "id": "ab590164-177a-4cc8-a344-f26db312196e",
   "metadata": {},
   "outputs": [
    {
     "data": {
      "text/plain": [
       "Unnamed: 0                int64\n",
       "orderId                  object\n",
       "clientId                 object\n",
       "lastModified     datetime64[ns]\n",
       "status                   object\n",
       "truckKey                 object\n",
       "location                 object\n",
       "fee                     float64\n",
       "volume(kg)              float64\n",
       "deliveryItem             object\n",
       "dateGenerated    datetime64[ns]\n",
       "dtype: object"
      ]
     },
     "execution_count": 16,
     "metadata": {},
     "output_type": "execute_result"
    }
   ],
   "source": [
    "orders.dtypes"
   ]
  },
  {
   "cell_type": "code",
   "execution_count": 17,
   "id": "eb58d341-8939-4e7c-a039-27ccac9e3b43",
   "metadata": {},
   "outputs": [],
   "source": [
    "# removing Unnamed: 0 column\n",
    "\n",
    "orders.drop(columns=['Unnamed: 0'], inplace=True)"
   ]
  },
  {
   "cell_type": "code",
   "execution_count": 18,
   "id": "3280dd3f-40c6-4761-88fb-597982010baa",
   "metadata": {},
   "outputs": [
    {
     "data": {
      "text/plain": [
       "orderId                  object\n",
       "clientId                 object\n",
       "lastModified     datetime64[ns]\n",
       "status                   object\n",
       "truckKey                 object\n",
       "location                 object\n",
       "fee                     float64\n",
       "volume(kg)              float64\n",
       "deliveryItem             object\n",
       "dateGenerated    datetime64[ns]\n",
       "dtype: object"
      ]
     },
     "execution_count": 18,
     "metadata": {},
     "output_type": "execute_result"
    }
   ],
   "source": [
    "orders.dtypes"
   ]
  },
  {
   "cell_type": "code",
   "execution_count": 19,
   "id": "a63efe45-7931-418e-80d5-e88248e56fc1",
   "metadata": {},
   "outputs": [
    {
     "data": {
      "text/html": [
       "<div>\n",
       "<style scoped>\n",
       "    .dataframe tbody tr th:only-of-type {\n",
       "        vertical-align: middle;\n",
       "    }\n",
       "\n",
       "    .dataframe tbody tr th {\n",
       "        vertical-align: top;\n",
       "    }\n",
       "\n",
       "    .dataframe thead th {\n",
       "        text-align: right;\n",
       "    }\n",
       "</style>\n",
       "<table border=\"1\" class=\"dataframe\">\n",
       "  <thead>\n",
       "    <tr style=\"text-align: right;\">\n",
       "      <th></th>\n",
       "      <th>orderId</th>\n",
       "      <th>clientId</th>\n",
       "      <th>lastModified</th>\n",
       "      <th>status</th>\n",
       "      <th>truckKey</th>\n",
       "      <th>location</th>\n",
       "      <th>fee</th>\n",
       "      <th>volume(kg)</th>\n",
       "      <th>deliveryItem</th>\n",
       "      <th>dateGenerated</th>\n",
       "    </tr>\n",
       "  </thead>\n",
       "  <tbody>\n",
       "    <tr>\n",
       "      <th>0</th>\n",
       "      <td>01GGAPGS3BZKF3AKKRRHPBCMMG</td>\n",
       "      <td>320232240</td>\n",
       "      <td>2025-03-02 18:20:00</td>\n",
       "      <td>PENDING</td>\n",
       "      <td>NaN</td>\n",
       "      <td>KINTAMPO</td>\n",
       "      <td>6400.0</td>\n",
       "      <td>340.0</td>\n",
       "      <td>BED</td>\n",
       "      <td>2025-03-02 18:20:00</td>\n",
       "    </tr>\n",
       "    <tr>\n",
       "      <th>1</th>\n",
       "      <td>01GGAPK4BCXD9S96QXFYD65E20</td>\n",
       "      <td>2420001880</td>\n",
       "      <td>2025-03-02 18:20:00</td>\n",
       "      <td>PENDING</td>\n",
       "      <td>NaN</td>\n",
       "      <td>KINTAMPO</td>\n",
       "      <td>320.0</td>\n",
       "      <td>17.0</td>\n",
       "      <td>BED</td>\n",
       "      <td>2025-03-02 18:20:00</td>\n",
       "    </tr>\n",
       "    <tr>\n",
       "      <th>2</th>\n",
       "      <td>01GGAPRNS3ET0JC79QTAX8PG46</td>\n",
       "      <td>43730707</td>\n",
       "      <td>2025-03-02 18:20:00</td>\n",
       "      <td>PENDING</td>\n",
       "      <td>NaN</td>\n",
       "      <td>KINTAMPO</td>\n",
       "      <td>3200.0</td>\n",
       "      <td>170.0</td>\n",
       "      <td>BED</td>\n",
       "      <td>2025-03-02 18:20:00</td>\n",
       "    </tr>\n",
       "    <tr>\n",
       "      <th>3</th>\n",
       "      <td>01GGAPX6EG5S77Y5B39SHNXEAM</td>\n",
       "      <td>28737136</td>\n",
       "      <td>2025-03-02 18:20:00</td>\n",
       "      <td>PENDING</td>\n",
       "      <td>NaN</td>\n",
       "      <td>KINTAMPO</td>\n",
       "      <td>640.0</td>\n",
       "      <td>34.0</td>\n",
       "      <td>BED</td>\n",
       "      <td>2025-03-02 18:20:00</td>\n",
       "    </tr>\n",
       "    <tr>\n",
       "      <th>4</th>\n",
       "      <td>01GGAPYCWBVZQEFFM0DA1J9VT3</td>\n",
       "      <td>38457808</td>\n",
       "      <td>2025-03-02 18:20:00</td>\n",
       "      <td>PENDING</td>\n",
       "      <td>NaN</td>\n",
       "      <td>KINTAMPO</td>\n",
       "      <td>1600.0</td>\n",
       "      <td>85.0</td>\n",
       "      <td>BED</td>\n",
       "      <td>2025-03-02 18:20:00</td>\n",
       "    </tr>\n",
       "  </tbody>\n",
       "</table>\n",
       "</div>"
      ],
      "text/plain": [
       "                      orderId    clientId        lastModified   status  \\\n",
       "0  01GGAPGS3BZKF3AKKRRHPBCMMG   320232240 2025-03-02 18:20:00  PENDING   \n",
       "1  01GGAPK4BCXD9S96QXFYD65E20  2420001880 2025-03-02 18:20:00  PENDING   \n",
       "2  01GGAPRNS3ET0JC79QTAX8PG46    43730707 2025-03-02 18:20:00  PENDING   \n",
       "3  01GGAPX6EG5S77Y5B39SHNXEAM    28737136 2025-03-02 18:20:00  PENDING   \n",
       "4  01GGAPYCWBVZQEFFM0DA1J9VT3    38457808 2025-03-02 18:20:00  PENDING   \n",
       "\n",
       "  truckKey  location     fee  volume(kg) deliveryItem       dateGenerated  \n",
       "0      NaN  KINTAMPO  6400.0       340.0          BED 2025-03-02 18:20:00  \n",
       "1      NaN  KINTAMPO   320.0        17.0          BED 2025-03-02 18:20:00  \n",
       "2      NaN  KINTAMPO  3200.0       170.0          BED 2025-03-02 18:20:00  \n",
       "3      NaN  KINTAMPO   640.0        34.0          BED 2025-03-02 18:20:00  \n",
       "4      NaN  KINTAMPO  1600.0        85.0          BED 2025-03-02 18:20:00  "
      ]
     },
     "execution_count": 19,
     "metadata": {},
     "output_type": "execute_result"
    }
   ],
   "source": [
    "orders.head()"
   ]
  },
  {
   "cell_type": "markdown",
   "id": "10250e1d-c709-42aa-9daa-7c67b0c7a7fb",
   "metadata": {},
   "source": [
    "#### trucks"
   ]
  },
  {
   "cell_type": "code",
   "execution_count": 21,
   "id": "56ee5a14-330b-436f-9bb9-a06f6ee9850c",
   "metadata": {},
   "outputs": [
    {
     "data": {
      "text/plain": [
       "creationDate    object\n",
       "encodedKey      object\n",
       "status          object\n",
       "truckType       object\n",
       "volume(kg)       int64\n",
       "dtype: object"
      ]
     },
     "execution_count": 21,
     "metadata": {},
     "output_type": "execute_result"
    }
   ],
   "source": [
    "trucks.dtypes"
   ]
  },
  {
   "cell_type": "code",
   "execution_count": 22,
   "id": "d73bab22-f907-4990-865f-3a63983eb108",
   "metadata": {},
   "outputs": [
    {
     "data": {
      "text/plain": [
       "creationDate    datetime64[ns]\n",
       "encodedKey              object\n",
       "status                  object\n",
       "truckType               object\n",
       "volume(kg)             float64\n",
       "dtype: object"
      ]
     },
     "execution_count": 22,
     "metadata": {},
     "output_type": "execute_result"
    }
   ],
   "source": [
    "# Chaning datatype for creationDate\n",
    "\n",
    "trucks['creationDate'] = pd.to_datetime(trucks['creationDate'])\n",
    "\n",
    "# changing datatype for volume(kg)\n",
    "\n",
    "trucks['volume(kg)'] = trucks['volume(kg)'].astype(float)\n",
    "\n",
    "trucks.dtypes"
   ]
  },
  {
   "cell_type": "code",
   "execution_count": 23,
   "id": "9a198eaa-a420-4893-b437-8bcce99ef98d",
   "metadata": {},
   "outputs": [
    {
     "data": {
      "text/html": [
       "<div>\n",
       "<style scoped>\n",
       "    .dataframe tbody tr th:only-of-type {\n",
       "        vertical-align: middle;\n",
       "    }\n",
       "\n",
       "    .dataframe tbody tr th {\n",
       "        vertical-align: top;\n",
       "    }\n",
       "\n",
       "    .dataframe thead th {\n",
       "        text-align: right;\n",
       "    }\n",
       "</style>\n",
       "<table border=\"1\" class=\"dataframe\">\n",
       "  <thead>\n",
       "    <tr style=\"text-align: right;\">\n",
       "      <th></th>\n",
       "      <th>creationDate</th>\n",
       "      <th>encodedKey</th>\n",
       "      <th>status</th>\n",
       "      <th>truckType</th>\n",
       "      <th>volume(kg)</th>\n",
       "    </tr>\n",
       "  </thead>\n",
       "  <tbody>\n",
       "    <tr>\n",
       "      <th>0</th>\n",
       "      <td>2022-06-01 08:55:16</td>\n",
       "      <td>8a858f5b8101e7c901811e75b191610d</td>\n",
       "      <td>ACTIVE</td>\n",
       "      <td>REEFER_TRUCK</td>\n",
       "      <td>20000.0</td>\n",
       "    </tr>\n",
       "    <tr>\n",
       "      <th>1</th>\n",
       "      <td>2022-06-09 16:46:57</td>\n",
       "      <td>8a858f46813e54820181495b67cc468b</td>\n",
       "      <td>ACTIVE</td>\n",
       "      <td>REEFER_TRUCK</td>\n",
       "      <td>15000.0</td>\n",
       "    </tr>\n",
       "    <tr>\n",
       "      <th>2</th>\n",
       "      <td>2022-08-05 17:30:18</td>\n",
       "      <td>8a858f318267ea7601826f0668096f69</td>\n",
       "      <td>ACTIVE</td>\n",
       "      <td>BOX_TRUCK</td>\n",
       "      <td>13000.0</td>\n",
       "    </tr>\n",
       "    <tr>\n",
       "      <th>3</th>\n",
       "      <td>2022-09-06 15:49:50</td>\n",
       "      <td>8a858e458312b8be018312f773d93984</td>\n",
       "      <td>IN_ACTIVE</td>\n",
       "      <td>BOX_TRUCK</td>\n",
       "      <td>13000.0</td>\n",
       "    </tr>\n",
       "    <tr>\n",
       "      <th>4</th>\n",
       "      <td>2022-12-06 15:03:23</td>\n",
       "      <td>8a858f4c84e67fe60184e7f2f7d05fc3</td>\n",
       "      <td>ACTIVE</td>\n",
       "      <td>BOX_TRUCK</td>\n",
       "      <td>13000.0</td>\n",
       "    </tr>\n",
       "  </tbody>\n",
       "</table>\n",
       "</div>"
      ],
      "text/plain": [
       "         creationDate                        encodedKey     status  \\\n",
       "0 2022-06-01 08:55:16  8a858f5b8101e7c901811e75b191610d     ACTIVE   \n",
       "1 2022-06-09 16:46:57  8a858f46813e54820181495b67cc468b     ACTIVE   \n",
       "2 2022-08-05 17:30:18  8a858f318267ea7601826f0668096f69     ACTIVE   \n",
       "3 2022-09-06 15:49:50  8a858e458312b8be018312f773d93984  IN_ACTIVE   \n",
       "4 2022-12-06 15:03:23  8a858f4c84e67fe60184e7f2f7d05fc3     ACTIVE   \n",
       "\n",
       "      truckType  volume(kg)  \n",
       "0  REEFER_TRUCK     20000.0  \n",
       "1  REEFER_TRUCK     15000.0  \n",
       "2     BOX_TRUCK     13000.0  \n",
       "3     BOX_TRUCK     13000.0  \n",
       "4     BOX_TRUCK     13000.0  "
      ]
     },
     "execution_count": 23,
     "metadata": {},
     "output_type": "execute_result"
    }
   ],
   "source": [
    "trucks.head()"
   ]
  },
  {
   "cell_type": "markdown",
   "id": "9f16a57a-02bc-40c5-995f-6134ff8bd193",
   "metadata": {},
   "source": [
    "#### centres"
   ]
  },
  {
   "cell_type": "code",
   "execution_count": 25,
   "id": "3c8f3295-ba10-4687-9096-4865990634dc",
   "metadata": {},
   "outputs": [
    {
     "data": {
      "text/plain": [
       "centreId         int64\n",
       "location        object\n",
       "creationDate    object\n",
       "dtype: object"
      ]
     },
     "execution_count": 25,
     "metadata": {},
     "output_type": "execute_result"
    }
   ],
   "source": [
    "centres.dtypes"
   ]
  },
  {
   "cell_type": "code",
   "execution_count": 26,
   "id": "b92d2009-4287-47cf-be1e-e677712ae1b7",
   "metadata": {},
   "outputs": [
    {
     "data": {
      "text/plain": [
       "centreId                 int64\n",
       "location                object\n",
       "creationDate    datetime64[ns]\n",
       "dtype: object"
      ]
     },
     "execution_count": 26,
     "metadata": {},
     "output_type": "execute_result"
    }
   ],
   "source": [
    "# changing data type of creationDate\n",
    "\n",
    "centres['creationDate'] = pd.to_datetime(centres['creationDate'])\n",
    "\n",
    "centres.dtypes"
   ]
  },
  {
   "cell_type": "code",
   "execution_count": 27,
   "id": "6d3ecf81-9c63-40c4-9852-0b0025407fd0",
   "metadata": {},
   "outputs": [
    {
     "data": {
      "text/html": [
       "<div>\n",
       "<style scoped>\n",
       "    .dataframe tbody tr th:only-of-type {\n",
       "        vertical-align: middle;\n",
       "    }\n",
       "\n",
       "    .dataframe tbody tr th {\n",
       "        vertical-align: top;\n",
       "    }\n",
       "\n",
       "    .dataframe thead th {\n",
       "        text-align: right;\n",
       "    }\n",
       "</style>\n",
       "<table border=\"1\" class=\"dataframe\">\n",
       "  <thead>\n",
       "    <tr style=\"text-align: right;\">\n",
       "      <th></th>\n",
       "      <th>centreId</th>\n",
       "      <th>location</th>\n",
       "      <th>creationDate</th>\n",
       "    </tr>\n",
       "  </thead>\n",
       "  <tbody>\n",
       "    <tr>\n",
       "      <th>0</th>\n",
       "      <td>1023</td>\n",
       "      <td>KINTAMPO</td>\n",
       "      <td>2022-06-01 08:55:16</td>\n",
       "    </tr>\n",
       "    <tr>\n",
       "      <th>1</th>\n",
       "      <td>1041</td>\n",
       "      <td>TEMA</td>\n",
       "      <td>2022-06-09 16:46:57</td>\n",
       "    </tr>\n",
       "    <tr>\n",
       "      <th>2</th>\n",
       "      <td>1151</td>\n",
       "      <td>BOLGATANGA</td>\n",
       "      <td>2022-09-06 15:49:50</td>\n",
       "    </tr>\n",
       "    <tr>\n",
       "      <th>3</th>\n",
       "      <td>1481</td>\n",
       "      <td>KOFORIDUA</td>\n",
       "      <td>2023-08-09 07:15:06</td>\n",
       "    </tr>\n",
       "    <tr>\n",
       "      <th>4</th>\n",
       "      <td>1561</td>\n",
       "      <td>ACCRA</td>\n",
       "      <td>2023-08-09 10:02:28</td>\n",
       "    </tr>\n",
       "  </tbody>\n",
       "</table>\n",
       "</div>"
      ],
      "text/plain": [
       "   centreId    location        creationDate\n",
       "0      1023    KINTAMPO 2022-06-01 08:55:16\n",
       "1      1041        TEMA 2022-06-09 16:46:57\n",
       "2      1151  BOLGATANGA 2022-09-06 15:49:50\n",
       "3      1481   KOFORIDUA 2023-08-09 07:15:06\n",
       "4      1561       ACCRA 2023-08-09 10:02:28"
      ]
     },
     "execution_count": 27,
     "metadata": {},
     "output_type": "execute_result"
    }
   ],
   "source": [
    "centres.head()"
   ]
  },
  {
   "cell_type": "markdown",
   "id": "1daef587-1322-434f-9b42-fc60d43c3e53",
   "metadata": {},
   "source": [
    "#### handling missing values for orders dataset"
   ]
  },
  {
   "cell_type": "code",
   "execution_count": 29,
   "id": "acecc9d0-e941-464e-a794-592d1916b269",
   "metadata": {},
   "outputs": [
    {
     "data": {
      "text/plain": [
       "orderId               0\n",
       "clientId           1243\n",
       "lastModified          0\n",
       "status                0\n",
       "truckKey         310775\n",
       "location              0\n",
       "fee                   0\n",
       "volume(kg)            0\n",
       "deliveryItem          0\n",
       "dateGenerated         0\n",
       "dtype: int64"
      ]
     },
     "execution_count": 29,
     "metadata": {},
     "output_type": "execute_result"
    }
   ],
   "source": [
    "orders.isnull().sum()"
   ]
  },
  {
   "cell_type": "code",
   "execution_count": 30,
   "id": "4dfde1ff-be60-4ffa-b8da-53eb275f7bd9",
   "metadata": {},
   "outputs": [
    {
     "data": {
      "text/plain": [
       "(526945, 10)"
      ]
     },
     "execution_count": 30,
     "metadata": {},
     "output_type": "execute_result"
    }
   ],
   "source": [
    "orders.shape"
   ]
  },
  {
   "cell_type": "code",
   "execution_count": 31,
   "id": "6c3d7ad5-85b7-49e7-814b-93b7bfbc6fb9",
   "metadata": {},
   "outputs": [],
   "source": [
    "# Filling the missing client Ids with a placeholder \"Unknown\"\n",
    "\n",
    "orders['clientId'].fillna('Unknown', inplace=True)"
   ]
  },
  {
   "cell_type": "code",
   "execution_count": 32,
   "id": "fa56f168-c726-42af-86ec-949dfa869443",
   "metadata": {},
   "outputs": [
    {
     "name": "stdout",
     "output_type": "stream",
     "text": [
      "Non-PENDING orders with no truckKey:\n",
      " Empty DataFrame\n",
      "Columns: [orderId, clientId, lastModified, status, truckKey, location, fee, volume(kg), deliveryItem, dateGenerated]\n",
      "Index: []\n"
     ]
    }
   ],
   "source": [
    "# Checking if all orders with missing truckKey are truly 'PENDING'\n",
    "missing_truckkey_orders = orders[orders['truckKey'].isnull()]\n",
    "non_pending_with_no_truck = missing_truckkey_orders[missing_truckkey_orders['status'] != 'PENDING']\n",
    "\n",
    "# Print unexpected rows if any\n",
    "print(\"Non-PENDING orders with no truckKey:\\n\", non_pending_with_no_truck)\n"
   ]
  },
  {
   "cell_type": "code",
   "execution_count": 33,
   "id": "3b517eed-6974-4bea-b16a-0d47f952fe67",
   "metadata": {},
   "outputs": [],
   "source": [
    "# checking if all pending orders according to the metabase dashboard have null truck keys\n",
    "\n",
    "pending_orders = orders[orders['status'] == 'PENDING']\n",
    "assert pending_orders['truckKey'].isnull().all()"
   ]
  },
  {
   "cell_type": "code",
   "execution_count": 34,
   "id": "fd95fc88-2a92-484c-b735-869599fed80b",
   "metadata": {},
   "outputs": [
    {
     "data": {
      "text/html": [
       "<div>\n",
       "<style scoped>\n",
       "    .dataframe tbody tr th:only-of-type {\n",
       "        vertical-align: middle;\n",
       "    }\n",
       "\n",
       "    .dataframe tbody tr th {\n",
       "        vertical-align: top;\n",
       "    }\n",
       "\n",
       "    .dataframe thead th {\n",
       "        text-align: right;\n",
       "    }\n",
       "</style>\n",
       "<table border=\"1\" class=\"dataframe\">\n",
       "  <thead>\n",
       "    <tr style=\"text-align: right;\">\n",
       "      <th></th>\n",
       "      <th>orderId</th>\n",
       "      <th>clientId</th>\n",
       "      <th>lastModified</th>\n",
       "      <th>status</th>\n",
       "      <th>truckKey</th>\n",
       "      <th>location</th>\n",
       "      <th>fee</th>\n",
       "      <th>volume(kg)</th>\n",
       "      <th>deliveryItem</th>\n",
       "      <th>dateGenerated</th>\n",
       "    </tr>\n",
       "  </thead>\n",
       "  <tbody>\n",
       "    <tr>\n",
       "      <th>0</th>\n",
       "      <td>01GGAPGS3BZKF3AKKRRHPBCMMG</td>\n",
       "      <td>320232240</td>\n",
       "      <td>2025-03-02 18:20:00</td>\n",
       "      <td>PENDING</td>\n",
       "      <td>NaN</td>\n",
       "      <td>KINTAMPO</td>\n",
       "      <td>6400.0</td>\n",
       "      <td>340.0</td>\n",
       "      <td>BED</td>\n",
       "      <td>2025-03-02 18:20:00</td>\n",
       "    </tr>\n",
       "    <tr>\n",
       "      <th>1</th>\n",
       "      <td>01GGAPK4BCXD9S96QXFYD65E20</td>\n",
       "      <td>2420001880</td>\n",
       "      <td>2025-03-02 18:20:00</td>\n",
       "      <td>PENDING</td>\n",
       "      <td>NaN</td>\n",
       "      <td>KINTAMPO</td>\n",
       "      <td>320.0</td>\n",
       "      <td>17.0</td>\n",
       "      <td>BED</td>\n",
       "      <td>2025-03-02 18:20:00</td>\n",
       "    </tr>\n",
       "    <tr>\n",
       "      <th>2</th>\n",
       "      <td>01GGAPRNS3ET0JC79QTAX8PG46</td>\n",
       "      <td>43730707</td>\n",
       "      <td>2025-03-02 18:20:00</td>\n",
       "      <td>PENDING</td>\n",
       "      <td>NaN</td>\n",
       "      <td>KINTAMPO</td>\n",
       "      <td>3200.0</td>\n",
       "      <td>170.0</td>\n",
       "      <td>BED</td>\n",
       "      <td>2025-03-02 18:20:00</td>\n",
       "    </tr>\n",
       "    <tr>\n",
       "      <th>3</th>\n",
       "      <td>01GGAPX6EG5S77Y5B39SHNXEAM</td>\n",
       "      <td>28737136</td>\n",
       "      <td>2025-03-02 18:20:00</td>\n",
       "      <td>PENDING</td>\n",
       "      <td>NaN</td>\n",
       "      <td>KINTAMPO</td>\n",
       "      <td>640.0</td>\n",
       "      <td>34.0</td>\n",
       "      <td>BED</td>\n",
       "      <td>2025-03-02 18:20:00</td>\n",
       "    </tr>\n",
       "    <tr>\n",
       "      <th>4</th>\n",
       "      <td>01GGAPYCWBVZQEFFM0DA1J9VT3</td>\n",
       "      <td>38457808</td>\n",
       "      <td>2025-03-02 18:20:00</td>\n",
       "      <td>PENDING</td>\n",
       "      <td>NaN</td>\n",
       "      <td>KINTAMPO</td>\n",
       "      <td>1600.0</td>\n",
       "      <td>85.0</td>\n",
       "      <td>BED</td>\n",
       "      <td>2025-03-02 18:20:00</td>\n",
       "    </tr>\n",
       "    <tr>\n",
       "      <th>...</th>\n",
       "      <td>...</td>\n",
       "      <td>...</td>\n",
       "      <td>...</td>\n",
       "      <td>...</td>\n",
       "      <td>...</td>\n",
       "      <td>...</td>\n",
       "      <td>...</td>\n",
       "      <td>...</td>\n",
       "      <td>...</td>\n",
       "      <td>...</td>\n",
       "    </tr>\n",
       "    <tr>\n",
       "      <th>340007</th>\n",
       "      <td>01J187EZP99VWRDBRA208GKMDY</td>\n",
       "      <td>17354074.0</td>\n",
       "      <td>2025-03-02 18:20:00</td>\n",
       "      <td>PENDING</td>\n",
       "      <td>NaN</td>\n",
       "      <td>ACCRA</td>\n",
       "      <td>320.0</td>\n",
       "      <td>17.0</td>\n",
       "      <td>TABLE</td>\n",
       "      <td>2025-03-02 18:20:00</td>\n",
       "    </tr>\n",
       "    <tr>\n",
       "      <th>340008</th>\n",
       "      <td>01J187WA3ASVB0BRSEP7M2BM4Q</td>\n",
       "      <td>596083928.0</td>\n",
       "      <td>2025-03-02 18:20:00</td>\n",
       "      <td>PENDING</td>\n",
       "      <td>NaN</td>\n",
       "      <td>ACCRA</td>\n",
       "      <td>544.0</td>\n",
       "      <td>28.9</td>\n",
       "      <td>TABLE</td>\n",
       "      <td>2025-03-02 18:20:00</td>\n",
       "    </tr>\n",
       "    <tr>\n",
       "      <th>340009</th>\n",
       "      <td>01J188AKG5F6Y5QK85ZE9S9V88</td>\n",
       "      <td>604711603.0</td>\n",
       "      <td>2025-03-02 18:20:00</td>\n",
       "      <td>PENDING</td>\n",
       "      <td>NaN</td>\n",
       "      <td>ACCRA</td>\n",
       "      <td>6400.0</td>\n",
       "      <td>340.0</td>\n",
       "      <td>BED</td>\n",
       "      <td>2025-03-02 18:20:00</td>\n",
       "    </tr>\n",
       "    <tr>\n",
       "      <th>340012</th>\n",
       "      <td>01J189EMS0JB0QX69D8R7MKHZ9</td>\n",
       "      <td>512866981.0</td>\n",
       "      <td>2025-03-02 18:20:00</td>\n",
       "      <td>PENDING</td>\n",
       "      <td>NaN</td>\n",
       "      <td>ACCRA</td>\n",
       "      <td>320.0</td>\n",
       "      <td>17.0</td>\n",
       "      <td>TABLE</td>\n",
       "      <td>2025-03-02 18:20:00</td>\n",
       "    </tr>\n",
       "    <tr>\n",
       "      <th>340013</th>\n",
       "      <td>01J189R5H7CP0C8SZM3F135ZGR</td>\n",
       "      <td>193684670.0</td>\n",
       "      <td>2025-03-02 18:20:00</td>\n",
       "      <td>PENDING</td>\n",
       "      <td>NaN</td>\n",
       "      <td>ACCRA</td>\n",
       "      <td>3200.0</td>\n",
       "      <td>170.0</td>\n",
       "      <td>TABLE</td>\n",
       "      <td>2025-03-02 18:20:00</td>\n",
       "    </tr>\n",
       "  </tbody>\n",
       "</table>\n",
       "<p>310775 rows × 10 columns</p>\n",
       "</div>"
      ],
      "text/plain": [
       "                           orderId     clientId        lastModified   status  \\\n",
       "0       01GGAPGS3BZKF3AKKRRHPBCMMG    320232240 2025-03-02 18:20:00  PENDING   \n",
       "1       01GGAPK4BCXD9S96QXFYD65E20   2420001880 2025-03-02 18:20:00  PENDING   \n",
       "2       01GGAPRNS3ET0JC79QTAX8PG46     43730707 2025-03-02 18:20:00  PENDING   \n",
       "3       01GGAPX6EG5S77Y5B39SHNXEAM     28737136 2025-03-02 18:20:00  PENDING   \n",
       "4       01GGAPYCWBVZQEFFM0DA1J9VT3     38457808 2025-03-02 18:20:00  PENDING   \n",
       "...                            ...          ...                 ...      ...   \n",
       "340007  01J187EZP99VWRDBRA208GKMDY   17354074.0 2025-03-02 18:20:00  PENDING   \n",
       "340008  01J187WA3ASVB0BRSEP7M2BM4Q  596083928.0 2025-03-02 18:20:00  PENDING   \n",
       "340009  01J188AKG5F6Y5QK85ZE9S9V88  604711603.0 2025-03-02 18:20:00  PENDING   \n",
       "340012  01J189EMS0JB0QX69D8R7MKHZ9  512866981.0 2025-03-02 18:20:00  PENDING   \n",
       "340013  01J189R5H7CP0C8SZM3F135ZGR  193684670.0 2025-03-02 18:20:00  PENDING   \n",
       "\n",
       "       truckKey  location     fee  volume(kg) deliveryItem       dateGenerated  \n",
       "0           NaN  KINTAMPO  6400.0       340.0          BED 2025-03-02 18:20:00  \n",
       "1           NaN  KINTAMPO   320.0        17.0          BED 2025-03-02 18:20:00  \n",
       "2           NaN  KINTAMPO  3200.0       170.0          BED 2025-03-02 18:20:00  \n",
       "3           NaN  KINTAMPO   640.0        34.0          BED 2025-03-02 18:20:00  \n",
       "4           NaN  KINTAMPO  1600.0        85.0          BED 2025-03-02 18:20:00  \n",
       "...         ...       ...     ...         ...          ...                 ...  \n",
       "340007      NaN     ACCRA   320.0        17.0        TABLE 2025-03-02 18:20:00  \n",
       "340008      NaN     ACCRA   544.0        28.9        TABLE 2025-03-02 18:20:00  \n",
       "340009      NaN     ACCRA  6400.0       340.0          BED 2025-03-02 18:20:00  \n",
       "340012      NaN     ACCRA   320.0        17.0        TABLE 2025-03-02 18:20:00  \n",
       "340013      NaN     ACCRA  3200.0       170.0        TABLE 2025-03-02 18:20:00  \n",
       "\n",
       "[310775 rows x 10 columns]"
      ]
     },
     "execution_count": 34,
     "metadata": {},
     "output_type": "execute_result"
    }
   ],
   "source": [
    "pending_orders"
   ]
  },
  {
   "cell_type": "code",
   "execution_count": null,
   "id": "be109124-d5f4-4a0b-a309-22c7fc986d3f",
   "metadata": {},
   "outputs": [],
   "source": []
  },
  {
   "cell_type": "code",
   "execution_count": null,
   "id": "655c11b4-d77f-4d0c-b76c-230cc197d80f",
   "metadata": {},
   "outputs": [],
   "source": [
    "# --------------------------\n",
    "# SAVE TRANSFORMED DATA\n",
    "# --------------------------\n",
    "# Create dictionary of all transformed datasets\n",
    "transformed_data = {\n",
    "    'orders': orders,\n",
    "    'trucks': trucks,\n",
    "    'active_trucks': active_trucks,\n",
    "    'centres': centres,\n",
    "    'pending_orders': pending_orders\n",
    "\n",
    "import os\n",
    "os.makedirs('transformed_data', exist_ok=True)\n",
    "\n",
    "for name, df in transformed_data.items():\n",
    "    df.to_csv(f'transformed_data/{name}.csv', index=False)\n",
    "\n",
    "print(\"✅ All transformed data saved:\")\n",
    "print(f\"- Single file: {transformed_data_path}\")\n",
    "print(\"- Individual CSV files in /transformed_data folder\")"
   ]
  },
  {
   "cell_type": "markdown",
   "id": "f79e256f-9968-49f9-be77-df9094e2915e",
   "metadata": {},
   "source": [
    "####"
   ]
  },
  {
   "cell_type": "code",
   "execution_count": null,
   "id": "ed3819d7-aa42-40db-b13f-1aa4ee558350",
   "metadata": {},
   "outputs": [],
   "source": []
  },
  {
   "cell_type": "code",
   "execution_count": null,
   "id": "fc902f87-fce6-4303-91b8-c8dc44a346f0",
   "metadata": {},
   "outputs": [],
   "source": []
  },
  {
   "cell_type": "code",
   "execution_count": null,
   "id": "987bc3ab-9dcf-47ac-b030-bca78129aea2",
   "metadata": {},
   "outputs": [],
   "source": []
  }
 ],
 "metadata": {
  "kernelspec": {
   "display_name": "Python 3 (ipykernel)",
   "language": "python",
   "name": "python3"
  },
  "language_info": {
   "codemirror_mode": {
    "name": "ipython",
    "version": 3
   },
   "file_extension": ".py",
   "mimetype": "text/x-python",
   "name": "python",
   "nbconvert_exporter": "python",
   "pygments_lexer": "ipython3",
   "version": "3.12.4"
  }
 },
 "nbformat": 4,
 "nbformat_minor": 5
}
