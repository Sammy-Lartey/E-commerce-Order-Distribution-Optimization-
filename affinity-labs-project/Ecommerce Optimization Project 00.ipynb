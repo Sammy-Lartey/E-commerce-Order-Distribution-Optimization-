{
 "cells": [
  {
   "cell_type": "markdown",
   "id": "e3478bc5-4fc1-4f94-b416-e1ea26189614",
   "metadata": {},
   "source": [
    "# Order Distribution Optimization  \n",
    "*Making smarter decisions about how we handle order distribution*  \n",
    "\n",
    "---\n",
    "\n",
    "## Getting Started  \n",
    "In this part, we are setting up our toolkit - importing all the Python packages we will need to work with the data, create visualizations, and run our calculations. Think of it like gathering all the ingredients before we start cooking."
   ]
  },
  {
   "cell_type": "markdown",
   "id": "3e57656f-2f33-4497-8f9a-7edcac09b0c6",
   "metadata": {},
   "source": [
    "##### 1.1 Libraries & Data Import"
   ]
  },
  {
   "cell_type": "code",
   "execution_count": 4,
   "id": "2022573d-1406-4de4-9633-05862eacb46c",
   "metadata": {},
   "outputs": [
    {
     "name": "stdout",
     "output_type": "stream",
     "text": [
      "Libraries loaded!\n"
     ]
    }
   ],
   "source": [
    "import pandas as pd \n",
    "import numpy as np\n",
    "import matplotlib.pyplot as plt\n",
    "import seaborn as sns\n",
    "import os\n",
    "from tqdm.notebook import tqdm\n",
    "import warnings\n",
    "warnings.filterwarnings(\"ignore\")\n",
    "\n",
    "print(\"Libraries loaded!\")"
   ]
  },
  {
   "cell_type": "markdown",
   "id": "b905a6ca-fc20-423a-afb9-7e6f5a40c5de",
   "metadata": {},
   "source": [
    "## 2. Loading Our Data\r\n",
    "\r\n",
    "Now we are bringing in the actual data we will be working with. We have three main files:\r\n",
    "\r\n",
    "- **Orders**: Every customer's delivery request  \r\n",
    "- **Trucks**: The vehicles we have available  \r\n",
    "- **Distribution Centers**: The destinations for deliveries  \r\n",
    "\r\n",
    "We will check that everything has loaded properly before moving forward.\r\n",
    "ard."
   ]
  },
  {
   "cell_type": "code",
   "execution_count": 6,
   "id": "d26b73f6-0d0b-4df5-90d9-38d806336bae",
   "metadata": {},
   "outputs": [
    {
     "name": "stdout",
     "output_type": "stream",
     "text": [
      "Data shapes:\n",
      "Orders: (526945, 11) | Trucks: (35, 5) | Centres: (5, 3)\n"
     ]
    }
   ],
   "source": [
    "# Loading datasets \n",
    "\n",
    "orders = pd.read_csv(r'C:\\Users\\sammy\\Desktop\\Affinity Labs Delivery Optimization Project\\raw_data\\orders.csv')\n",
    "trucks = pd.read_csv(r'C:\\Users\\sammy\\Desktop\\Affinity Labs Delivery Optimization Project\\raw_data\\trucks.csv')\n",
    "centres = pd.read_csv(r'C:\\Users\\sammy\\Desktop\\Affinity Labs Delivery Optimization Project\\raw_data\\centres.csv')\n",
    "\n",
    "print(\"Data shapes:\")\n",
    "print(f\"Orders: {orders.shape} | Trucks: {trucks.shape} | Centres: {centres.shape}\")"
   ]
  },
  {
   "cell_type": "markdown",
   "id": "60ad1e8e-8b9c-4b26-b547-0c586dea93a4",
   "metadata": {},
   "source": [
    "## 3. Cleaning and Preparing the Data\r\n",
    "\r\n",
    "Here we are preparing the data to ensure it is ready for analysis. We will:\r\n",
    "\r\n",
    "- Fix dates and handle missing information in the orders  \r\n",
    "- Ensure truck capacities are in the correct format  \r\n",
    "- Clean up the location data  \r\n",
    "\r\n",
    "This step is essential, much like preparing ingredients before cooking. It may not be glamorous, but it is crucial for accurate and effective analysis.\r\n",
    " work."
   ]
  },
  {
   "cell_type": "markdown",
   "id": "71cf70f0-74b6-43a1-b72e-65aef4de809b",
   "metadata": {},
   "source": [
    "#### Orders Table"
   ]
  },
  {
   "cell_type": "code",
   "execution_count": 9,
   "id": "619fda88-aee0-4dc7-ab22-8d05a723b8b8",
   "metadata": {},
   "outputs": [
    {
     "name": "stdout",
     "output_type": "stream",
     "text": [
      "Orders dtypes:\n",
      "Unnamed: 0         int64\n",
      "orderId           object\n",
      "clientId          object\n",
      "lastModified      object\n",
      "status            object\n",
      "truckKey          object\n",
      "location          object\n",
      "fee              float64\n",
      "volume(kg)       float64\n",
      "deliveryItem      object\n",
      "dateGenerated     object\n",
      "dtype: object\n",
      "\n",
      "Cleaned Orders dtypes:\n",
      "orderId                  object\n",
      "clientId                 object\n",
      "lastModified     datetime64[ns]\n",
      "status                   object\n",
      "truckKey                 object\n",
      "location                 object\n",
      "fee                     float64\n",
      "volume(kg)              float64\n",
      "deliveryItem             object\n",
      "dateGenerated    datetime64[ns]\n",
      "dtype: object\n"
     ]
    }
   ],
   "source": [
    "# ORDERS DATA TYPES & CLEANING \n",
    "print(\"Orders dtypes:\")\n",
    "print(orders.dtypes)  \n",
    "\n",
    "# Convert dates\n",
    "orders['lastModified'] = pd.to_datetime(orders['lastModified'], dayfirst=True)\n",
    "orders['dateGenerated'] = pd.to_datetime(orders['dateGenerated'], dayfirst=True)\n",
    "\n",
    "# Drop unnecessary column\n",
    "orders.drop(columns=['Unnamed: 0'], inplace=True)\n",
    "\n",
    "# Fill missing clientIds\n",
    "orders['clientId'] = orders['clientId'].fillna('Unknown')\n",
    "\n",
    "print(\"\\nCleaned Orders dtypes:\")\n",
    "print(orders.dtypes)"
   ]
  },
  {
   "cell_type": "markdown",
   "id": "950ea9cf-1bd2-4e95-98a3-221330846ed1",
   "metadata": {},
   "source": [
    "#### Trucks Table"
   ]
  },
  {
   "cell_type": "code",
   "execution_count": 11,
   "id": "e8143c9b-e712-43c5-952c-7a9fb9eab175",
   "metadata": {},
   "outputs": [
    {
     "name": "stdout",
     "output_type": "stream",
     "text": [
      "Trucks dtypes:\n",
      "creationDate    object\n",
      "encodedKey      object\n",
      "status          object\n",
      "truckType       object\n",
      "volume(kg)       int64\n",
      "dtype: object\n",
      "\n",
      "Cleaned Trucks dtypes:\n",
      "creationDate    datetime64[ns]\n",
      "encodedKey              object\n",
      "status                  object\n",
      "truckType               object\n",
      "volume(kg)             float64\n",
      "dtype: object\n"
     ]
    }
   ],
   "source": [
    "# TRUCKS DATA TYPES & CLEANING\n",
    "print(\"Trucks dtypes:\")\n",
    "print(trucks.dtypes)\n",
    "\n",
    "# Convert data types\n",
    "trucks['creationDate'] = pd.to_datetime(trucks['creationDate'])\n",
    "trucks['volume(kg)'] = trucks['volume(kg)'].astype(float)\n",
    "\n",
    "print(\"\\nCleaned Trucks dtypes:\")\n",
    "print(trucks.dtypes)"
   ]
  },
  {
   "cell_type": "markdown",
   "id": "b1c0de4e-865c-4308-8a96-6d53ac151347",
   "metadata": {},
   "source": [
    "#### Centres Table"
   ]
  },
  {
   "cell_type": "code",
   "execution_count": 13,
   "id": "2098f11a-8a5f-4e66-a162-46e0c2e94315",
   "metadata": {},
   "outputs": [
    {
     "name": "stdout",
     "output_type": "stream",
     "text": [
      "Centres dtypes:\n",
      "centreId         int64\n",
      "location        object\n",
      "creationDate    object\n",
      "dtype: object\n",
      "\n",
      "Cleaned Centres dtypes:\n",
      "centreId                 int64\n",
      "location                object\n",
      "creationDate    datetime64[ns]\n",
      "dtype: object\n"
     ]
    }
   ],
   "source": [
    "print(\"Centres dtypes:\")\n",
    "print(centres.dtypes)\n",
    "\n",
    "# Convert date\n",
    "centres['creationDate'] = pd.to_datetime(centres['creationDate'])\n",
    "\n",
    "print(\"\\nCleaned Centres dtypes:\")\n",
    "print(centres.dtypes)"
   ]
  },
  {
   "cell_type": "markdown",
   "id": "4e67998e-e5f6-4a12-b5be-eb2d0df0d90f",
   "metadata": {},
   "source": [
    "####"
   ]
  },
  {
   "cell_type": "markdown",
   "id": "7637c6d0-82d6-474e-a2c7-30913fe7e73e",
   "metadata": {},
   "source": [
    "## 4. Checking Data Quality\r\n",
    "\r\n",
    "Before we make any decisions, we need to ensure that we can trust our data. In this section, we are:\r\n",
    "\r\n",
    "- Looking for duplicate records  \r\n",
    "- Checking for missing values  \r\n",
    "- Verifying that all data entries make sense  \r\n",
    "\r\n",
    "This serves as our quality control checkpoint to maintain the integrity of our analysis.\r\n",
    "point."
   ]
  },
  {
   "cell_type": "code",
   "execution_count": 16,
   "id": "1d6cb3eb-4be3-4783-873a-bfb76a0c05bb",
   "metadata": {},
   "outputs": [
    {
     "name": "stdout",
     "output_type": "stream",
     "text": [
      "Missing Values:\n",
      "ORDERS:\n",
      " orderId               0\n",
      "clientId              0\n",
      "lastModified          0\n",
      "status                0\n",
      "truckKey         310775\n",
      "location              0\n",
      "fee                   0\n",
      "volume(kg)            0\n",
      "deliveryItem          0\n",
      "dateGenerated         0\n",
      "dtype: int64\n",
      "\n",
      "TRUCKS:\n",
      " creationDate    0\n",
      "encodedKey      0\n",
      "status          0\n",
      "truckType       0\n",
      "volume(kg)      0\n",
      "dtype: int64\n",
      "\n",
      "CENTRES:\n",
      " centreId        0\n",
      "location        0\n",
      "creationDate    0\n",
      "dtype: int64\n",
      "\n",
      "Duplicates:\n",
      "Orders: 0\n",
      "Trucks: 0\n",
      "Centres: 0\n"
     ]
    }
   ],
   "source": [
    "# Checking for missing values \n",
    "print(\"Missing Values:\")\n",
    "print(\"ORDERS:\\n\", orders.isnull().sum())\n",
    "print(\"\\nTRUCKS:\\n\", trucks.isnull().sum())\n",
    "print(\"\\nCENTRES:\\n\", centres.isnull().sum())\n",
    "\n",
    "# checking for duplicates\n",
    "print(\"\\nDuplicates:\")\n",
    "print(f\"Orders: {orders.duplicated().sum()}\")\n",
    "print(f\"Trucks: {trucks.duplicated().sum()}\") \n",
    "print(f\"Centres: {centres.duplicated().sum()}\")"
   ]
  },
  {
   "cell_type": "markdown",
   "id": "a0dce3af-aeaa-4df7-a27d-f0d580993bf8",
   "metadata": {},
   "source": [
    "#### Saving Transformed Data"
   ]
  },
  {
   "cell_type": "code",
   "execution_count": 18,
   "id": "bd430b7b-c3a8-4133-ba7b-19df36721a2d",
   "metadata": {},
   "outputs": [
    {
     "name": "stdout",
     "output_type": "stream",
     "text": [
      "Pending orders: 310,775\n",
      "Saved to /transformed_data:\n",
      "- orders.csv\n",
      "- trucks.csv\n",
      "- centres.csv\n",
      "- pending_orders.csv\n"
     ]
    }
   ],
   "source": [
    "# PENDING ORDERS sub\n",
    "pending_orders = orders[orders['status'] == 'PENDING'].copy()\n",
    "print(f\"Pending orders: {len(pending_orders):,}\")\n",
    "\n",
    "os.makedirs('transformed_data', exist_ok=True)\n",
    "\n",
    "transformed_data = {\n",
    "    'orders': orders,\n",
    "    'trucks': trucks,\n",
    "    'centres': centres,\n",
    "    'pending_orders': pending_orders  \n",
    "}\n",
    "\n",
    "for name, df in transformed_data.items():\n",
    "    df.to_csv(f'transformed_data/{name}.csv', index=False)\n",
    "\n",
    "print(\"Saved to /transformed_data:\")\n",
    "print(\"- orders.csv\")\n",
    "print(\"- trucks.csv\")\n",
    "print(\"- centres.csv\")\n",
    "print(\"- pending_orders.csv\")"
   ]
  },
  {
   "cell_type": "markdown",
   "id": "601094fb-188b-401b-a568-1183171e57b7",
   "metadata": {},
   "source": [
    "####"
   ]
  },
  {
   "cell_type": "markdown",
   "id": "b754ee8e-968c-4b35-9f65-01fcbe252c84",
   "metadata": {},
   "source": [
    "# PART 2"
   ]
  },
  {
   "cell_type": "markdown",
   "id": "735b18db-ff9d-414c-9a6a-5932b664fc66",
   "metadata": {},
   "source": [
    "## 5. Setting Up the Optimization\r\n",
    "\r\n",
    "Now we are defining the rules of our optimization:\r\n",
    "\r\n",
    "- How full should our trucks ideally be? (85%)  \r\n",
    "- What is the absolute maximum we can load? (90%)  \r\n",
    "\r\n",
    "We are also filtering to include only active trucks and pending orders, as there is no need to consider resources that are not available for use.\r\n",
    " use."
   ]
  },
  {
   "cell_type": "code",
   "execution_count": 22,
   "id": "c78cd4a0-f036-4cdc-86b3-a254f08f18f9",
   "metadata": {},
   "outputs": [
    {
     "name": "stdout",
     "output_type": "stream",
     "text": [
      "Active trucks: 30\n",
      "Pending orders: 310,775\n",
      "Total volume: 26,882,387.486999992 kg\n"
     ]
    }
   ],
   "source": [
    "active_trucks = trucks[trucks['status'] == 'ACTIVE'].copy()\n",
    "pending_orders = orders[orders['status'] == 'PENDING'].copy()\n",
    "\n",
    "print(f\"Active trucks: {len(active_trucks)}\")\n",
    "print(f\"Pending orders: {len(pending_orders):,}\")\n",
    "print(f\"Total volume: {pending_orders['volume(kg)'].sum():,} kg\")"
   ]
  },
  {
   "cell_type": "code",
   "execution_count": 23,
   "id": "a3cdc5d2-5f0f-4199-b54e-56e60e8f4027",
   "metadata": {},
   "outputs": [],
   "source": [
    "CONFIG = {\n",
    "    'TRUCK_CAPACITIES': {\n",
    "        'REEFER_TRUCK': 20000,  # kg\n",
    "        'BOX_TRUCK': 15000\n",
    "    },\n",
    "    'TARGET_UTILIZATION': 0.85,  # 85% ideal\n",
    "    'MAX_UTILIZATION': 0.90      # Absolute max\n",
    "}"
   ]
  },
  {
   "cell_type": "code",
   "execution_count": 24,
   "id": "74205fc3-e4fb-42ea-b180-c51729d42184",
   "metadata": {
    "scrolled": true
   },
   "outputs": [
    {
     "name": "stdout",
     "output_type": "stream",
     "text": [
      "REALISTIC CAPACITY (85% TARGET | 90% MAX)\n",
      "              trucks_available  target_kg    max_kg\n",
      "REEFER_TRUCK               5.0    85000.0   90000.0\n",
      "BOX_TRUCK                 25.0   318750.0  337500.0\n",
      "\n",
      "TOTAL TARGET CAPACITY: 403,750 kg\n",
      "TOTAL MAX CAPACITY: 427,500 kg\n"
     ]
    }
   ],
   "source": [
    "def calculate_realistic_capacity(trucks_df):\n",
    "    capacity = {}\n",
    "    for truck_type, vol in CONFIG['TRUCK_CAPACITIES'].items():\n",
    "        count = len(trucks_df[trucks_df['truckType'] == truck_type])\n",
    "        capacity[truck_type] = {\n",
    "            'trucks_available': count,\n",
    "            'target_kg': count * vol * CONFIG['TARGET_UTILIZATION'],\n",
    "            'max_kg': count * vol * CONFIG['MAX_UTILIZATION']\n",
    "        }\n",
    "    return pd.DataFrame(capacity).T\n",
    "\n",
    "capacity_report = calculate_realistic_capacity(active_trucks)\n",
    "print(\"REALISTIC CAPACITY (85% TARGET | 90% MAX)\")\n",
    "print(capacity_report)\n",
    "print(f\"\\nTOTAL TARGET CAPACITY: {capacity_report['target_kg'].sum():,.0f} kg\")\n",
    "print(f\"TOTAL MAX CAPACITY: {capacity_report['max_kg'].sum():,.0f} kg\")"
   ]
  },
  {
   "cell_type": "markdown",
   "id": "6f690ab7-250d-4934-a2f8-7789df7b9463",
   "metadata": {},
   "source": [
    "## 6. The Optimization Process\r\n",
    "\r\n",
    "This is where the core of our solution takes place. Our algorithm will:\r\n",
    "\r\n",
    "1. Sort the orders from heaviest to lightest  \r\n",
    "2. Fill each truck until it reaches the ideal capacity threshold  \r\n",
    "3. Move on to the next truck once the current one is considered full  \r\n",
    "\r\n",
    "We will also track how efficiently each truck is utilized throughout the process.\r\n",
    "e way."
   ]
  },
  {
   "cell_type": "code",
   "execution_count": 26,
   "id": "9ca96d1c-653e-460d-a581-bf57e1051a02",
   "metadata": {},
   "outputs": [],
   "source": [
    "# Order Assignment Algorithm\n",
    "def optimize_furniture_delivery(orders_df, trucks_df):\n",
    "    \n",
    "    # Sort by largest items first \n",
    "    orders = orders_df.sort_values('volume(kg)', ascending=False).copy()\n",
    "    \n",
    "    # Trucks Prep\n",
    "    trucks = trucks_df.copy()\n",
    "    trucks['target_cap'] = trucks['volume(kg)'] * CONFIG['TARGET_UTILIZATION']\n",
    "    trucks['max_cap'] = trucks['volume(kg)'] * CONFIG['MAX_UTILIZATION']\n",
    "    \n",
    "    assignments = []\n",
    "    order_indices = orders.index.tolist() \n",
    "    \n",
    "    for _, truck in trucks.iterrows():\n",
    "        batch = []\n",
    "        current_load = 0\n",
    "        \n",
    "        \n",
    "        for idx in order_indices[:]: \n",
    "            order = orders.loc[idx]\n",
    "            proposed_load = current_load + order['volume(kg)']\n",
    "            \n",
    "            if proposed_load <= truck['max_cap']:\n",
    "                batch.append(idx)\n",
    "                current_load = proposed_load\n",
    "                \n",
    "                # Stop if we hit target (YOUR original break condition)\n",
    "                if current_load >= truck['target_cap']:\n",
    "                    break\n",
    "        \n",
    "        if batch:\n",
    "            # Calculate utilization \n",
    "            utilization = current_load / truck['volume(kg)']\n",
    "            assignments.append({\n",
    "                'truck_id': truck['encodedKey'],\n",
    "                'truck_type': truck['truckType'],\n",
    "                'orders': len(batch),\n",
    "                'total_kg': current_load,\n",
    "                'utilization': utilization,\n",
    "                'status': 'OPTIMAL' if utilization >= 0.85 else 'UNDERUTILIZED'\n",
    "            })\n",
    "            \n",
    "            # Remove assigned orders \n",
    "            order_indices = [x for x in order_indices if x not in batch]\n",
    "    \n",
    "    # Return results \n",
    "    remaining_orders = orders.loc[order_indices]\n",
    "    return pd.DataFrame(assignments), remaining_orders"
   ]
  },
  {
   "cell_type": "markdown",
   "id": "342c26fb-fe97-4c36-861c-dffdbc9ebf48",
   "metadata": {},
   "source": [
    "## 7. Analyzing the Results\r\n",
    "\r\n",
    "This section focuses on evaluating the performance of the optimization. The analysis includes:\r\n",
    "\r\n",
    "- The number of orders that were fulfilled  \r\n",
    "- The efficiency of truck usage  \r\n",
    "- The volume and details of remaining backlog  \r\n",
    "\r\n",
    "Charts and visuals provide a quick overview of key trends and areas that may require further attention.\r\n",
    "ention.\r\n",
    "glance.\r\n"
   ]
  },
  {
   "cell_type": "code",
   "execution_count": 28,
   "id": "9677f03b-038a-451a-96eb-207c8dc3c4ec",
   "metadata": {},
   "outputs": [
    {
     "name": "stdout",
     "output_type": "stream",
     "text": [
      "Trucks used: 30\n",
      "Orders allocated: 1,060\n",
      "Avg utilization: 86.1%\n",
      "Backlog remaining: 309,715\n"
     ]
    }
   ],
   "source": [
    "assignments, backlog = optimize_furniture_delivery(pending_orders, active_trucks)\n",
    "\n",
    "\n",
    "print(f\"Trucks used: {len(assignments)}\")\n",
    "print(f\"Orders allocated: {assignments['orders'].sum():,}\")\n",
    "print(f\"Avg utilization: {assignments['utilization'].mean():.1%}\")\n",
    "print(f\"Backlog remaining: {len(backlog):,}\")"
   ]
  },
  {
   "cell_type": "markdown",
   "id": "1065c3d4-89e3-4cdb-adfa-8f39a911114a",
   "metadata": {},
   "source": [
    "#### Visualization:"
   ]
  },
  {
   "cell_type": "code",
   "execution_count": 30,
   "id": "cd39e7f2-e95e-416e-9da7-aed311706446",
   "metadata": {},
   "outputs": [
    {
     "data": {
      "image/png": "[encoded data removed]",
      "text/plain": [
       "<Figure size 1300x400 with 3 Axes>"
      ]
     },
     "metadata": {},
     "output_type": "display_data"
    }
   ],
   "source": [
    "# CAPACITY PLOTS\n",
    "plt.figure(figsize=(13, 4))\n",
    "\n",
    "# Plot 1: Capacity vs Demand\n",
    "plt.subplot(1, 3, 1)\n",
    "plt.bar(['Target', 'Max', 'Demand'], \n",
    "        [capacity_report['target_kg'].sum(), \n",
    "         capacity_report['max_kg'].sum(), \n",
    "         pending_orders['volume(kg)'].sum()],\n",
    "        color=['limegreen', 'orange', 'red'])\n",
    "plt.title(\"Capacity vs Demand\")\n",
    "\n",
    "# Plot 2: Utilization Histogram\n",
    "plt.subplot(1, 3, 2)\n",
    "sns.histplot(assignments['utilization'], bins=10)\n",
    "plt.axvline(0.85, color='green', linestyle='--')\n",
    "\n",
    "# Plot 3: Truck Type Performance\n",
    "plt.subplot(1, 3, 3)\n",
    "sns.boxplot(data=assignments, x='truck_type', y='utilization')\n",
    "\n",
    "plt.tight_layout()\n",
    "plt.show()"
   ]
  },
  {
   "cell_type": "markdown",
   "id": "58edfa44-9e10-40c0-9793-df825ae6427b",
   "metadata": {},
   "source": [
    "## 8. Saving Our Work\r\n",
    "\r\n",
    "This step involves exporting two essential files:\r\n",
    "\r\n",
    "1. The optimized truck assignments  \r\n",
    "2. The list of orders that could not be fulfilled  \r\n",
    "\r\n",
    "These outputs can be shared with the operations team for further review and action.\r\n"
   ]
  },
  {
   "cell_type": "code",
   "execution_count": 32,
   "id": "ed3819d7-aa42-40db-b13f-1aa4ee558350",
   "metadata": {},
   "outputs": [
    {
     "name": "stdout",
     "output_type": "stream",
     "text": [
      "\n",
      "Saved files:\n",
      "- outputs/optimized_assignments.csv\n",
      "- outputs/remaining_backlog.csv\n"
     ]
    }
   ],
   "source": [
    "# EXPORTING FILES...\n",
    "os.makedirs('outputs', exist_ok=True)\n",
    "\n",
    "# EXPORTING FILES...\n",
    "assignments.to_csv('outputs/optimized_assignments.csv', index=False)\n",
    "backlog.to_csv('outputs/remaining_backlog.csv', index=False)\n",
    "\n",
    "print(\"\\nSaved files:\")\n",
    "print(\"- outputs/optimized_assignments.csv\")\n",
    "print(\"- outputs/remaining_backlog.csv\")"
   ]
  },
  {
   "cell_type": "code",
   "execution_count": 33,
   "id": "fc902f87-fce6-4303-91b8-c8dc44a346f0",
   "metadata": {},
   "outputs": [
    {
     "name": "stdout",
     "output_type": "stream",
     "text": [
      "CAPACITY ANALYSIS:\n",
      "- Current monthly capacity (85% util): 403,750 kg\n",
      "- Pending orders: 26,882,387 kg\n",
      "- DEFICIT: 26,478,637 kg\n"
     ]
    }
   ],
   "source": [
    "# Evidence from the analysis\n",
    "\n",
    "print(f\"CAPACITY ANALYSIS:\\n\"\n",
    "      f\"- Current monthly capacity (85% util): {capacity_report['target_kg'].sum():,.0f} kg\\n\"\n",
    "      f\"- Pending orders: {pending_orders['volume(kg)'].sum():,.0f} kg\\n\"\n",
    "      f\"- DEFICIT: {pending_orders['volume(kg)'].sum() - capacity_report['target_kg'].sum():,.0f} kg\")"
   ]
  },
  {
   "cell_type": "markdown",
   "id": "bf9cc9cd-2c81-4d7f-a104-c7e956799196",
   "metadata": {},
   "source": [
    "####"
   ]
  },
  {
   "cell_type": "markdown",
   "id": "ecbb97c8-e676-4575-ba84-ef0afafa9e48",
   "metadata": {},
   "source": [
    "# PART 3"
   ]
  },
  {
   "cell_type": "markdown",
   "id": "decee141-0e3a-4b46-aeee-4aa7679eed54",
   "metadata": {},
   "source": [
    "## 9. Fleet Expansion Analysis\r\n",
    "\r\n",
    "Now that it is clear the current capacity is insufficient, this section explores how many additional trucks would be required to fulfill all pending orders.\r\n",
    "\r\n",
    "**Objectives:**\r\n",
    "- Calculate the shortfall in capacity\r\n",
    "- Simulate multiple fleet expansion scenarios\r\n",
    "- Compare different approaches (adding box trucks, reefer trucks, or a combination)\r\n",
    "\r\n",
    "**Key Questions Addressed:**\r\n",
    "- How many additional box trucks would be required if only those are added?\r\n",
    "- What would the requirement be if only reefer trucks are added?\r\n",
    "- What approach provides the most balanced and cost-effective solution?\r\n",
    "ed approach?"
   ]
  },
  {
   "cell_type": "code",
   "execution_count": 37,
   "id": "ff893516-e000-4bbd-a42e-073dd66a1ca4",
   "metadata": {},
   "outputs": [],
   "source": [
    "# TRUCK FLEET EXPANSION CALCULATOR\n",
    "\n",
    "# Inputs from  analysis\n",
    "deficit_kg = pending_orders['volume(kg)'].sum() - capacity_report['target_kg'].sum()\n",
    "current_box_trucks = len(active_trucks[active_trucks['truckType'] == 'BOX_TRUCK'])\n",
    "current_reefers = len(active_trucks[active_trucks['truckType'] == 'REEFER_TRUCK'])\n",
    "\n",
    "# Truck specs\n",
    "TRUCK_SPECS = {\n",
    "    'REEFER_TRUCK': {\n",
    "        'capacity_kg': 20000,\n",
    "        'utilization': 0.85,\n",
    "        'trips_per_month': 4\n",
    "    },\n",
    "    'BOX_TRUCK': {\n",
    "        'capacity_kg': 15000,\n",
    "        'utilization': 0.85,\n",
    "        'trips_per_month': 4\n",
    "    }\n",
    "}\n",
    "\n",
    "# monthly capacity per truck\n",
    "def monthly_capacity(truck_type):\n",
    "    spec = TRUCK_SPECS[truck_type]\n",
    "    return spec['capacity_kg'] * spec['utilization'] * spec['trips_per_month']\n",
    "\n",
    "# trucks needed for different scenarios\n",
    "def calculate_fleet_options(deficit):\n",
    "    options = {}\n",
    "    \n",
    "    # Box trucks only\n",
    "    options['box_only'] = {\n",
    "        'box_trucks': int(deficit / monthly_capacity('BOX_TRUCK')),\n",
    "        'reefers': 0\n",
    "    }\n",
    "    \n",
    "    # Reefers only\n",
    "    options['reefer_only'] = {\n",
    "        'box_trucks': 0,\n",
    "        'reefers': int(deficit / monthly_capacity('REEFER_TRUCK'))\n",
    "    }\n",
    "    \n",
    "    # Balanced fleet (20% reefers, 80% box trucks)\n",
    "    balanced_capacity = (0.2 * monthly_capacity('REEFER_TRUCK')) + (0.8 * monthly_capacity('BOX_TRUCK'))\n",
    "    total_trucks = int(deficit / balanced_capacity)\n",
    "    options['balanced'] = {\n",
    "        'box_trucks': int(total_trucks * 0.8),\n",
    "        'reefers': int(total_trucks * 0.2)\n",
    "    }\n",
    "    \n",
    "    return options\n",
    "\n",
    "# To Generate options\n",
    "fleet_options = calculate_fleet_options(deficit_kg)\n",
    "\n"
   ]
  },
  {
   "cell_type": "code",
   "execution_count": 38,
   "id": "9431fd3f-d2ea-4a38-a7c3-ae2fdc18ea82",
   "metadata": {},
   "outputs": [
    {
     "name": "stdout",
     "output_type": "stream",
     "text": [
      "\n",
      "FLEET EXPANSION OPTIONS TO COVER DEFICIT:\n",
      "Current Deficit: 26,478,637 kg/month\n",
      "Current Fleet: 25 box trucks + 5 reefers\n",
      "\n",
      "1. Box Trucks Only Solution:\n",
      "Add 519 box trucks\n",
      "Total box trucks: 544\n",
      "Monthly capacity added: 26,469,000 kg\n",
      "\n",
      "2. Reefers Only Solution:\n",
      "Add 389 reefers\n",
      "Total reefers: 394\n",
      "Monthly capacity added: 26,452,000 kg\n",
      "\n",
      "3. Balanced Fleet Solution:\n",
      "Add 388 box trucks and 97 reefers\n",
      "Total fleet: 413 box trucks + 102 reefers\n",
      "Monthly capacity added: 26,384,000 kg\n"
     ]
    }
   ],
   "source": [
    "# RESULTS\n",
    "\n",
    "print(\"\\nFLEET EXPANSION OPTIONS TO COVER DEFICIT:\")\n",
    "print(f\"Current Deficit: {deficit_kg:,.0f} kg/month\")\n",
    "print(f\"Current Fleet: {current_box_trucks} box trucks + {current_reefers} reefers\\n\")\n",
    "\n",
    "print(\"1. Box Trucks Only Solution:\")\n",
    "print(f\"Add {fleet_options['box_only']['box_trucks']:,} box trucks\")\n",
    "print(f\"Total box trucks: {current_box_trucks + fleet_options['box_only']['box_trucks']:,}\")\n",
    "print(f\"Monthly capacity added: {fleet_options['box_only']['box_trucks'] * monthly_capacity('BOX_TRUCK'):,.0f} kg\\n\")\n",
    "\n",
    "print(\"2. Reefers Only Solution:\")\n",
    "print(f\"Add {fleet_options['reefer_only']['reefers']:,} reefers\")\n",
    "print(f\"Total reefers: {current_reefers + fleet_options['reefer_only']['reefers']:,}\")\n",
    "print(f\"Monthly capacity added: {fleet_options['reefer_only']['reefers'] * monthly_capacity('REEFER_TRUCK'):,.0f} kg\\n\")\n",
    "\n",
    "print(\"3. Balanced Fleet Solution:\")\n",
    "print(f\"Add {fleet_options['balanced']['box_trucks']:,} box trucks and {fleet_options['balanced']['reefers']:,} reefers\")\n",
    "print(f\"Total fleet: {current_box_trucks + fleet_options['balanced']['box_trucks']:,} box trucks + {current_reefers + fleet_options['balanced']['reefers']:,} reefers\")\n",
    "print(f\"Monthly capacity added: {(fleet_options['balanced']['box_trucks'] * monthly_capacity('BOX_TRUCK')) + (fleet_options['balanced']['reefers'] * monthly_capacity('REEFER_TRUCK')):,.0f} kg\")\n",
    "\n"
   ]
  },
  {
   "cell_type": "markdown",
   "id": "79d0a09c-555f-41e6-ae82-e5207060bea9",
   "metadata": {},
   "source": [
    "## 10. Visualizing Fleet Options\r\n",
    "\r\n",
    "Charts allow us to clearly visualize the tradeoffs between different fleet expansion strategies:\r\n",
    "\r\n",
    "**Fleet Expansion Options**\r\n",
    "- **Left:** Number of additional trucks required for each strategy\r\n",
    "- **Right:** Additional capacity provided by each fleet option\r\n",
    "\r\n",
    "**Key Observations:**\r\n",
    "- Adding only box trucks requires more vehicles, but it may be a more cost-effective option.\r\n",
    "- Reefer trucks offer more capacity per vehicle but come at a higher cost.\r\n",
    "- The balanced approach provides flexibility, combining cost-effectiveness and capacity.\r\n",
    "flexibility"
   ]
  },
  {
   "cell_type": "code",
   "execution_count": 40,
   "id": "eb32ee07-db1a-4d10-a827-0a84db4b5a26",
   "metadata": {},
   "outputs": [
    {
     "data": {
      "image/png": "[encoded data removed]",
      "text/plain": [
       "<Figure size 1400x600 with 2 Axes>"
      ]
     },
     "metadata": {},
     "output_type": "display_data"
    }
   ],
   "source": [
    "# Visualization \n",
    "\n",
    "plt.figure(figsize=(14, 6))\n",
    "\n",
    "# Data preparation\n",
    "strategies = ['Box Only', 'Reefer Only', 'Balanced']\n",
    "truck_counts = [\n",
    "    fleet_options['box_only']['box_trucks'],\n",
    "    fleet_options['reefer_only']['reefers'],\n",
    "    fleet_options['balanced']['box_trucks'] + fleet_options['balanced']['reefers']\n",
    "]\n",
    "\n",
    "# monthly capacities (using original 85% util)\n",
    "box_capacity = 15000 * 0.85 * 4  # kg/month\n",
    "reefer_capacity = 20000 * 0.85 * 4\n",
    "capacity_gains = [\n",
    "    fleet_options['box_only']['box_trucks'] * box_capacity / 1000000,  # in million kg\n",
    "    fleet_options['reefer_only']['reefers'] * reefer_capacity / 1000000,\n",
    "    (fleet_options['balanced']['box_trucks'] * box_capacity + \n",
    "     fleet_options['balanced']['reefers'] * reefer_capacity) / 1000000\n",
    "]\n",
    "\n",
    "# Chart 1: Trucks Needed \n",
    "ax1 = plt.subplot(1, 2, 1)\n",
    "bars1 = ax1.bar(strategies, truck_counts, \n",
    "               color=['#3498db', '#e74c3c', '#2ecc71'],  \n",
    "               width=0.6, alpha=0.8)\n",
    "ax1.set_title(\"Additional Trucks Needed by Strategy\", pad=15)\n",
    "ax1.set_ylabel(\"Number of Trucks\", labelpad=10)\n",
    "ax1.grid(axis='y', linestyle='--', alpha=0.4)\n",
    "\n",
    "# Chart 2: Capacity Gain\n",
    "ax2 = plt.subplot(1, 2, 2)\n",
    "bars2 = ax2.bar(strategies, capacity_gains,\n",
    "               color=['#3498db', '#e74c3c', '#2ecc71'],  \n",
    "               width=0.6, alpha=0.8)\n",
    "ax2.set_title(\"Monthly Capacity Gain\", pad=15)\n",
    "ax2.set_ylabel(\"Million kg/month\", labelpad=10)\n",
    "ax2.grid(axis='y', linestyle='--', alpha=0.4)\n",
    "\n",
    "# value labels on both charts\n",
    "for bars in [bars1, bars2]:\n",
    "    for bar in bars:\n",
    "        height = bar.get_height()\n",
    "        bar.axes.text(bar.get_x() + bar.get_width()/2., height,\n",
    "                     f'{height:,.1f}' if bars == bars2 else f'{int(height):,}',\n",
    "                     ha='center', va='bottom')\n",
    "\n",
    "plt.tight_layout(pad=3)\n",
    "plt.show()"
   ]
  },
  {
   "cell_type": "markdown",
   "id": "b19e7017-433a-4fc2-8079-141d6fa2623e",
   "metadata": {},
   "source": [
    "####"
   ]
  },
  {
   "cell_type": "markdown",
   "id": "78b226e6-ab7c-4b0a-b0ad-8402234e517a",
   "metadata": {},
   "source": [
    "## 11. The Simulation\r\n",
    "\r\n",
    "We will simulate the process of clearing the backlog with the expanded fleet.\r\n",
    "\r\n",
    "**How the Simulation Works:**\r\n",
    "- Assume the new trucks have been added to the fleet\r\n",
    "- Process orders on a month-by-month basis\r\n",
    "- Track the progress until we have shipped the 9M kg backlog\r\n",
    "g 9M kg shipped"
   ]
  },
  {
   "cell_type": "code",
   "execution_count": 43,
   "id": "784156cb-4247-4c4c-8277-76125963c902",
   "metadata": {},
   "outputs": [],
   "source": [
    "# Loading  data from the transformed data folder\n",
    "orders = pd.read_csv('transformed_data/orders.csv', dtype={'orderId': str}, low_memory=False)\n",
    "pending_orders = pd.read_csv('transformed_data/pending_orders.csv', dtype={'orderId': str}, low_memory=False)\n",
    "pending_orders['dateGenerated'] = pd.to_datetime(pending_orders['dateGenerated'])\n"
   ]
  },
  {
   "cell_type": "markdown",
   "id": "24b6f7d1-b6d3-44ec-b29c-a8a7742f53bb",
   "metadata": {},
   "source": [
    "#### # FLEET EXPANSION CONFIGURATION"
   ]
  },
  {
   "cell_type": "code",
   "execution_count": 45,
   "id": "69c40587-7042-440c-8f92-5166cf49c4cd",
   "metadata": {},
   "outputs": [
    {
     "name": "stdout",
     "output_type": "stream",
     "text": [
      "Original monthly capacity: 0.40M kg\n",
      "Expanded monthly capacity: 7.00M kg\n"
     ]
    }
   ],
   "source": [
    "# Current fleet capacity (from original analysis)\n",
    "current_monthly_capacity = 403750  # kg (30 trucks)\n",
    "\n",
    "# Proposed expansion (388 box + 97 reefers)\n",
    "added_box_trucks = 388\n",
    "added_reefer_trucks = 97\n",
    "\n",
    "# Capacity calculations\n",
    "box_truck_capacity = 15000 * 0.85  # 12,750 kg/month\n",
    "reefer_truck_capacity = 20000 * 0.85  # 17,000 kg/month\n",
    "\n",
    "# New total capacity\n",
    "expanded_capacity = (current_monthly_capacity + \n",
    "                    (added_box_trucks * box_truck_capacity) + \n",
    "                    (added_reefer_trucks * reefer_truck_capacity))\n",
    "\n",
    "print(f\"Original monthly capacity: {current_monthly_capacity/1e6:.2f}M kg\")\n",
    "print(f\"Expanded monthly capacity: {expanded_capacity/1e6:.2f}M kg\")"
   ]
  },
  {
   "cell_type": "markdown",
   "id": "11bbe8bc-f620-40fc-afa8-fb1331c89e16",
   "metadata": {},
   "source": [
    "#### # SIMULATION FUNCTION"
   ]
  },
  {
   "cell_type": "code",
   "execution_count": 47,
   "id": "14fef643-fc85-4b19-8327-cf2a07f2ce21",
   "metadata": {},
   "outputs": [],
   "source": [
    "def simulate_with_expansion(backlog, monthly_capacity, max_months=12):\n",
    "    backlog = backlog.copy()\n",
    "    monthly_results = []\n",
    "\n",
    "    for month in range(1, max_months + 1):\n",
    "        # Calculate revenue density (fee per kg)\n",
    "        backlog['density'] = backlog['fee'] / backlog['volume(kg)']\n",
    "\n",
    "        # Prioritize by density and order date\n",
    "        backlog = backlog.sort_values(['density', 'dateGenerated'], ascending=[False, True])\n",
    "\n",
    "        # Fulfill orders\n",
    "        fulfilled = []\n",
    "        capacity_used = 0\n",
    "\n",
    "        for idx, order in backlog.iterrows():\n",
    "            if capacity_used + order['volume(kg)'] <= monthly_capacity:\n",
    "                fulfilled.append(idx)\n",
    "                capacity_used += order['volume(kg)']\n",
    "            else:\n",
    "                break  # Stop processing once monthly capacity is reached\n",
    "\n",
    "        # Track fulfilled and update backlog\n",
    "        fulfilled_orders = backlog.loc[fulfilled]\n",
    "        backlog = backlog.drop(fulfilled)\n",
    "\n",
    "        # Record monthly results\n",
    "        monthly_results.append({\n",
    "            'month': month,\n",
    "            'fulfilled_kg': capacity_used,\n",
    "            'remaining_kg': backlog['volume(kg)'].sum(),\n",
    "            'utilization': capacity_used / monthly_capacity,\n",
    "            'orders_fulfilled': len(fulfilled_orders),\n",
    "            'revenue_generated': fulfilled_orders['fee'].sum()\n",
    "        })\n",
    "\n",
    "        # Exit early if backlog is empty\n",
    "        if backlog.empty:\n",
    "            break\n",
    "\n",
    "    return pd.DataFrame(monthly_results), backlog\n",
    "\n",
    "\n",
    "results, final_backlog = simulate_with_expansion(\n",
    "    pending_orders,\n",
    "    monthly_capacity=expanded_capacity,\n",
    "    max_months=12\n",
    ")"
   ]
  },
  {
   "cell_type": "code",
   "execution_count": 48,
   "id": "d1c396c5-53ad-4b6c-989a-eb93508418e8",
   "metadata": {},
   "outputs": [
    {
     "data": {
      "image/png": "[encoded data removed]",
      "text/plain": [
       "<Figure size 1500x500 with 3 Axes>"
      ]
     },
     "metadata": {},
     "output_type": "display_data"
    },
    {
     "name": "stdout",
     "output_type": "stream",
     "text": [
      "\n",
      "FINAL RESULTS:\n",
      "- Initial backlog: 26.9M kg\n",
      "- Fleet size: 413 box trucks + 102 reefers\n",
      "- Monthly capacity: 7.0M kg\n",
      "- Backlog cleared in: 4 months\n",
      "- Total fulfilled: 26.9M kg\n",
      "- Avg utilization: 96.0%\n",
      "- Revenue generated: $513.6M\n",
      "- Orders remaining: 0 (0.0%)\n"
     ]
    }
   ],
   "source": [
    "# VISUALIZATION\n",
    "\n",
    "plt.figure(figsize=(15, 5))\n",
    "\n",
    "# Backlog clearance progress\n",
    "plt.subplot(1, 3, 1)\n",
    "plt.plot(results['month'], results['remaining_kg']/1e6, marker='o', color='red')\n",
    "plt.title('Backlog Clearance Progress')\n",
    "plt.xlabel('Month')\n",
    "plt.ylabel('Remaining Backlog (Million KG)')\n",
    "plt.grid(True)\n",
    "\n",
    "# Monthly fulfillment\n",
    "plt.subplot(1, 3, 2)\n",
    "plt.bar(results['month'], results['fulfilled_kg']/1e6, color='green')\n",
    "plt.title('Monthly Fulfillment')\n",
    "plt.xlabel('Month')\n",
    "plt.ylabel('Million KG Fulfilled')\n",
    "\n",
    "# Utilization\n",
    "plt.subplot(1, 3, 3)\n",
    "plt.plot(results['month'], results['utilization']*100, marker='o', color='blue')\n",
    "plt.axhline(85, color='gray', linestyle='--')\n",
    "plt.title('Capacity Utilization')\n",
    "plt.xlabel('Month')\n",
    "plt.ylabel('Utilization (%)')\n",
    "\n",
    "plt.tight_layout()\n",
    "plt.show()\n",
    "\n",
    "\n",
    "# RESULTS\n",
    "\n",
    "clearance_time = len(results)\n",
    "total_fulfilled = results['fulfilled_kg'].sum()\n",
    "initial_backlog = pending_orders['volume(kg)'].sum()\n",
    "\n",
    "print(f\"\\nFINAL RESULTS:\")\n",
    "print(f\"- Initial backlog: {initial_backlog/1e6:.1f}M kg\")\n",
    "print(f\"- Fleet size: 413 box trucks + 102 reefers\")\n",
    "print(f\"- Monthly capacity: {expanded_capacity/1e6:.1f}M kg\")\n",
    "print(f\"- Backlog cleared in: {clearance_time} months\")\n",
    "print(f\"- Total fulfilled: {total_fulfilled/1e6:.1f}M kg\")\n",
    "print(f\"- Avg utilization: {results['utilization'].mean():.1%}\")\n",
    "print(f\"- Revenue generated: ${results['revenue_generated'].sum()/1e6:.1f}M\")\n",
    "print(f\"- Orders remaining: {len(final_backlog):,} ({(len(final_backlog)/len(pending_orders)*100):.1f}%)\")"
   ]
  },
  {
   "cell_type": "markdown",
   "id": "4532b4a0-efc6-4ebc-a4b1-fd2bdeaa8c22",
   "metadata": {},
   "source": [
    "## 12. Simulation Insights\r\n",
    "\r\n",
    "**What the numbers tell us:**\r\n",
    "\r\n",
    "**Good News:**\r\n",
    "- With the expanded fleet, the backlog could be cleared in 4 months\r\n",
    "- The fleet would maintain a 96% average utilizion — very efficient!\r\n",
    "\r\n",
    "**Considerations:**\r\n",
    "- This assumes all new trucks arrive immediately\r\n",
    "- Real-world factors (maintenance, delays) may add time\r\n"
   ]
  },
  {
   "cell_type": "markdown",
   "id": "6980b1c8-8ba4-41ea-adb0-3314a4a5a042",
   "metadata": {},
   "source": [
    "### 13. Actionable Long-Term Solutions  \r\n",
    "These strategies aim to sustainably expand capacity, improve operational efficiency, and prevent future backlog issues.\r\n",
    "\r\n",
    "---\r\n",
    "\r\n",
    "**1. Expand Fleet Capacity Strategically**  \r\n",
    "- Increase the number of box trucks, which are better suited for average order volumes and more cost-effective.  \r\n",
    "- Use short-term leasing during peak periods (e.g., March) to handle demand surges without long-term overhead.\r\n",
    "\r\n",
    "---\r\n",
    "\r\n",
    "**2. Align Fleet Deployment with Regional Demand**  \r\n",
    "- Prioritize truck allocation to high-volume hubs such as Accra and Tema, based on real-time demand patterns.  \r\n",
    "- Monitor key metrics (e.g., fulfillment time, backlog levels) across delivery centers to guide continuous fleet adjustments.  \r\n",
    "- Avoid shifting orders between regions unless supported by service-level data or capacity constraints.\r\n",
    "\r\n",
    "---\r\n",
    "\r\n",
    "**3. Improve Load Distribution Efficiency**  \r\n",
    "- Enforce smarter order batching rules to reduce volume variability and optimize truck space usage.  \r\n",
    "- Use historical data to guide more consistent load planning and routing efficiency.\r\n",
    "\r\n",
    "---\r\n",
    "\r\n",
    "**4. Strengthen Data Integrity and Planning Accuracy**  \r\n",
    "- Prevent extreme overutilization by applying validation checks during truck assignment (e.g., utilization thresholds).  \r\n",
    "- Standardize definitions for truck capacity and volume across all platforms to enable accurate, consistent planning and analysis.\r\n"
   ]
  }
 ],
 "metadata": {
  "kernelspec": {
   "display_name": "Python 3 (ipykernel)",
   "language": "python",
   "name": "python3"
  },
  "language_info": {
   "codemirror_mode": {
    "name": "ipython",
    "version": 3
   },
   "file_extension": ".py",
   "mimetype": "text/x-python",
   "name": "python",
   "nbconvert_exporter": "python",
   "pygments_lexer": "ipython3",
   "version": "3.12.4"
  }
 },
 "nbformat": 4,
 "nbformat_minor": 5
}
