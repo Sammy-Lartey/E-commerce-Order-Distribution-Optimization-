{
 "cells": [
  {
   "cell_type": "markdown",
   "id": "5ef29ff1-56d5-489f-a07b-eccf05ae0370",
   "metadata": {},
   "source": [
    "### Loading and Preprocessing"
   ]
  },
  {
   "cell_type": "code",
   "execution_count": 2,
   "id": "2022573d-1406-4de4-9633-05862eacb46c",
   "metadata": {},
   "outputs": [
    {
     "name": "stdout",
     "output_type": "stream",
     "text": [
      "✓ Libraries imported\n"
     ]
    }
   ],
   "source": [
    "import pandas as pd\n",
    "import numpy as np\n",
    "import matplotlib.pyplot as plt\n",
    "import seaborn as sns\n",
    "from tqdm.notebook import tqdm  # Progress bars\n",
    "\n",
    "\n",
    "\n",
    "import warnings\n",
    "warnings.filterwarnings(\"ignore\")\n",
    "\n",
    "print(\"✓ Libraries imported\")"
   ]
  },
  {
   "cell_type": "markdown",
   "id": "b905a6ca-fc20-423a-afb9-7e6f5a40c5de",
   "metadata": {},
   "source": [
    "#### Loading Datasets"
   ]
  },
  {
   "cell_type": "code",
   "execution_count": 4,
   "id": "d26b73f6-0d0b-4df5-90d9-38d806336bae",
   "metadata": {},
   "outputs": [],
   "source": [
    "# Loading datasets \n",
    "\n",
    "orders = pd.read_csv(r'C:\\Users\\sammy\\Desktop\\AFFINITY\\Data Dump\\orders.csv')\n",
    "\n",
    "trucks = pd.read_csv(r'C:\\Users\\sammy\\Desktop\\AFFINITY\\Data Dump\\trucks.csv')\n",
    "\n",
    "centres = pd.read_csv(r'C:\\Users\\sammy\\Desktop\\AFFINITY\\Data Dump\\centres.csv')"
   ]
  },
  {
   "cell_type": "markdown",
   "id": "60ad1e8e-8b9c-4b26-b547-0c586dea93a4",
   "metadata": {},
   "source": [
    "#### Checking for null values"
   ]
  },
  {
   "cell_type": "code",
   "execution_count": 6,
   "id": "dbedcbd0-276a-402d-9d5f-0a2332de65f5",
   "metadata": {},
   "outputs": [
    {
     "data": {
      "text/plain": [
       "Unnamed: 0            0\n",
       "orderId               0\n",
       "clientId           1243\n",
       "lastModified          0\n",
       "status                0\n",
       "truckKey         310775\n",
       "location              0\n",
       "fee                   0\n",
       "volume(kg)            0\n",
       "deliveryItem          0\n",
       "dateGenerated         0\n",
       "dtype: int64"
      ]
     },
     "execution_count": 6,
     "metadata": {},
     "output_type": "execute_result"
    }
   ],
   "source": [
    "# checking for missing values\n",
    "\n",
    "orders.isnull().sum()"
   ]
  },
  {
   "cell_type": "code",
   "execution_count": 7,
   "id": "858bebbe-c5ff-45a8-b415-a10ff7d3b6d1",
   "metadata": {},
   "outputs": [
    {
     "data": {
      "text/plain": [
       "creationDate    0\n",
       "encodedKey      0\n",
       "status          0\n",
       "truckType       0\n",
       "volume(kg)      0\n",
       "dtype: int64"
      ]
     },
     "execution_count": 7,
     "metadata": {},
     "output_type": "execute_result"
    }
   ],
   "source": [
    "trucks.isnull().sum()"
   ]
  },
  {
   "cell_type": "code",
   "execution_count": 8,
   "id": "10b641b5-e885-4b4b-944a-77928d5345bc",
   "metadata": {},
   "outputs": [
    {
     "data": {
      "text/plain": [
       "centreId        0\n",
       "location        0\n",
       "creationDate    0\n",
       "dtype: int64"
      ]
     },
     "execution_count": 8,
     "metadata": {},
     "output_type": "execute_result"
    }
   ],
   "source": [
    "centres.isnull().sum()"
   ]
  },
  {
   "cell_type": "markdown",
   "id": "2fd40db7-85bd-4a65-8b85-fedd196047db",
   "metadata": {},
   "source": [
    "#### Checking for duplicates"
   ]
  },
  {
   "cell_type": "code",
   "execution_count": 10,
   "id": "f479b172-f036-4687-8bb9-57e30da30194",
   "metadata": {},
   "outputs": [
    {
     "data": {
      "text/plain": [
       "0"
      ]
     },
     "execution_count": 10,
     "metadata": {},
     "output_type": "execute_result"
    }
   ],
   "source": [
    "# checking for duplicates\n",
    "\n",
    "orders.duplicated().sum()"
   ]
  },
  {
   "cell_type": "code",
   "execution_count": 11,
   "id": "33eb0033-ec16-48af-8308-c0d76b78773d",
   "metadata": {},
   "outputs": [
    {
     "data": {
      "text/plain": [
       "0"
      ]
     },
     "execution_count": 11,
     "metadata": {},
     "output_type": "execute_result"
    }
   ],
   "source": [
    "trucks.duplicated().sum()"
   ]
  },
  {
   "cell_type": "code",
   "execution_count": 12,
   "id": "e3e9329a-f293-487a-8c16-8e7b22720b14",
   "metadata": {},
   "outputs": [
    {
     "data": {
      "text/plain": [
       "0"
      ]
     },
     "execution_count": 12,
     "metadata": {},
     "output_type": "execute_result"
    }
   ],
   "source": [
    "centres.duplicated().sum()"
   ]
  },
  {
   "cell_type": "markdown",
   "id": "197c74ac-12d0-4dab-b531-a7afe47117a4",
   "metadata": {},
   "source": [
    "#### data types\n",
    "\n",
    "#### orders"
   ]
  },
  {
   "cell_type": "code",
   "execution_count": 14,
   "id": "f4dedee6-bed6-4dbd-9093-10c981832cfa",
   "metadata": {},
   "outputs": [
    {
     "data": {
      "text/plain": [
       "Unnamed: 0         int64\n",
       "orderId           object\n",
       "clientId          object\n",
       "lastModified      object\n",
       "status            object\n",
       "truckKey          object\n",
       "location          object\n",
       "fee              float64\n",
       "volume(kg)       float64\n",
       "deliveryItem      object\n",
       "dateGenerated     object\n",
       "dtype: object"
      ]
     },
     "execution_count": 14,
     "metadata": {},
     "output_type": "execute_result"
    }
   ],
   "source": [
    "orders.dtypes"
   ]
  },
  {
   "cell_type": "code",
   "execution_count": 15,
   "id": "7a4863aa-6926-4c94-95d4-4542ca017fd7",
   "metadata": {},
   "outputs": [],
   "source": [
    "# data type conversion for date columns\n",
    "\n",
    "orders['lastModified'] = pd.to_datetime(orders['lastModified'], dayfirst=True)\n",
    "orders['dateGenerated'] = pd.to_datetime(orders['dateGenerated'], dayfirst=True)\n"
   ]
  },
  {
   "cell_type": "code",
   "execution_count": 16,
   "id": "ab590164-177a-4cc8-a344-f26db312196e",
   "metadata": {},
   "outputs": [
    {
     "data": {
      "text/plain": [
       "Unnamed: 0                int64\n",
       "orderId                  object\n",
       "clientId                 object\n",
       "lastModified     datetime64[ns]\n",
       "status                   object\n",
       "truckKey                 object\n",
       "location                 object\n",
       "fee                     float64\n",
       "volume(kg)              float64\n",
       "deliveryItem             object\n",
       "dateGenerated    datetime64[ns]\n",
       "dtype: object"
      ]
     },
     "execution_count": 16,
     "metadata": {},
     "output_type": "execute_result"
    }
   ],
   "source": [
    "orders.dtypes"
   ]
  },
  {
   "cell_type": "code",
   "execution_count": 17,
   "id": "eb58d341-8939-4e7c-a039-27ccac9e3b43",
   "metadata": {},
   "outputs": [],
   "source": [
    "# removing Unnamed: 0 column\n",
    "\n",
    "orders.drop(columns=['Unnamed: 0'], inplace=True)"
   ]
  },
  {
   "cell_type": "code",
   "execution_count": 18,
   "id": "3280dd3f-40c6-4761-88fb-597982010baa",
   "metadata": {},
   "outputs": [
    {
     "data": {
      "text/plain": [
       "orderId                  object\n",
       "clientId                 object\n",
       "lastModified     datetime64[ns]\n",
       "status                   object\n",
       "truckKey                 object\n",
       "location                 object\n",
       "fee                     float64\n",
       "volume(kg)              float64\n",
       "deliveryItem             object\n",
       "dateGenerated    datetime64[ns]\n",
       "dtype: object"
      ]
     },
     "execution_count": 18,
     "metadata": {},
     "output_type": "execute_result"
    }
   ],
   "source": [
    "orders.dtypes"
   ]
  },
  {
   "cell_type": "code",
   "execution_count": 19,
   "id": "a63efe45-7931-418e-80d5-e88248e56fc1",
   "metadata": {},
   "outputs": [
    {
     "data": {
      "text/html": [
       "<div>\n",
       "<style scoped>\n",
       "    .dataframe tbody tr th:only-of-type {\n",
       "        vertical-align: middle;\n",
       "    }\n",
       "\n",
       "    .dataframe tbody tr th {\n",
       "        vertical-align: top;\n",
       "    }\n",
       "\n",
       "    .dataframe thead th {\n",
       "        text-align: right;\n",
       "    }\n",
       "</style>\n",
       "<table border=\"1\" class=\"dataframe\">\n",
       "  <thead>\n",
       "    <tr style=\"text-align: right;\">\n",
       "      <th></th>\n",
       "      <th>orderId</th>\n",
       "      <th>clientId</th>\n",
       "      <th>lastModified</th>\n",
       "      <th>status</th>\n",
       "      <th>truckKey</th>\n",
       "      <th>location</th>\n",
       "      <th>fee</th>\n",
       "      <th>volume(kg)</th>\n",
       "      <th>deliveryItem</th>\n",
       "      <th>dateGenerated</th>\n",
       "    </tr>\n",
       "  </thead>\n",
       "  <tbody>\n",
       "    <tr>\n",
       "      <th>0</th>\n",
       "      <td>01GGAPGS3BZKF3AKKRRHPBCMMG</td>\n",
       "      <td>320232240</td>\n",
       "      <td>2025-03-02 18:20:00</td>\n",
       "      <td>PENDING</td>\n",
       "      <td>NaN</td>\n",
       "      <td>KINTAMPO</td>\n",
       "      <td>6400.0</td>\n",
       "      <td>340.0</td>\n",
       "      <td>BED</td>\n",
       "      <td>2025-03-02 18:20:00</td>\n",
       "    </tr>\n",
       "    <tr>\n",
       "      <th>1</th>\n",
       "      <td>01GGAPK4BCXD9S96QXFYD65E20</td>\n",
       "      <td>2420001880</td>\n",
       "      <td>2025-03-02 18:20:00</td>\n",
       "      <td>PENDING</td>\n",
       "      <td>NaN</td>\n",
       "      <td>KINTAMPO</td>\n",
       "      <td>320.0</td>\n",
       "      <td>17.0</td>\n",
       "      <td>BED</td>\n",
       "      <td>2025-03-02 18:20:00</td>\n",
       "    </tr>\n",
       "    <tr>\n",
       "      <th>2</th>\n",
       "      <td>01GGAPRNS3ET0JC79QTAX8PG46</td>\n",
       "      <td>43730707</td>\n",
       "      <td>2025-03-02 18:20:00</td>\n",
       "      <td>PENDING</td>\n",
       "      <td>NaN</td>\n",
       "      <td>KINTAMPO</td>\n",
       "      <td>3200.0</td>\n",
       "      <td>170.0</td>\n",
       "      <td>BED</td>\n",
       "      <td>2025-03-02 18:20:00</td>\n",
       "    </tr>\n",
       "    <tr>\n",
       "      <th>3</th>\n",
       "      <td>01GGAPX6EG5S77Y5B39SHNXEAM</td>\n",
       "      <td>28737136</td>\n",
       "      <td>2025-03-02 18:20:00</td>\n",
       "      <td>PENDING</td>\n",
       "      <td>NaN</td>\n",
       "      <td>KINTAMPO</td>\n",
       "      <td>640.0</td>\n",
       "      <td>34.0</td>\n",
       "      <td>BED</td>\n",
       "      <td>2025-03-02 18:20:00</td>\n",
       "    </tr>\n",
       "    <tr>\n",
       "      <th>4</th>\n",
       "      <td>01GGAPYCWBVZQEFFM0DA1J9VT3</td>\n",
       "      <td>38457808</td>\n",
       "      <td>2025-03-02 18:20:00</td>\n",
       "      <td>PENDING</td>\n",
       "      <td>NaN</td>\n",
       "      <td>KINTAMPO</td>\n",
       "      <td>1600.0</td>\n",
       "      <td>85.0</td>\n",
       "      <td>BED</td>\n",
       "      <td>2025-03-02 18:20:00</td>\n",
       "    </tr>\n",
       "  </tbody>\n",
       "</table>\n",
       "</div>"
      ],
      "text/plain": [
       "                      orderId    clientId        lastModified   status  \\\n",
       "0  01GGAPGS3BZKF3AKKRRHPBCMMG   320232240 2025-03-02 18:20:00  PENDING   \n",
       "1  01GGAPK4BCXD9S96QXFYD65E20  2420001880 2025-03-02 18:20:00  PENDING   \n",
       "2  01GGAPRNS3ET0JC79QTAX8PG46    43730707 2025-03-02 18:20:00  PENDING   \n",
       "3  01GGAPX6EG5S77Y5B39SHNXEAM    28737136 2025-03-02 18:20:00  PENDING   \n",
       "4  01GGAPYCWBVZQEFFM0DA1J9VT3    38457808 2025-03-02 18:20:00  PENDING   \n",
       "\n",
       "  truckKey  location     fee  volume(kg) deliveryItem       dateGenerated  \n",
       "0      NaN  KINTAMPO  6400.0       340.0          BED 2025-03-02 18:20:00  \n",
       "1      NaN  KINTAMPO   320.0        17.0          BED 2025-03-02 18:20:00  \n",
       "2      NaN  KINTAMPO  3200.0       170.0          BED 2025-03-02 18:20:00  \n",
       "3      NaN  KINTAMPO   640.0        34.0          BED 2025-03-02 18:20:00  \n",
       "4      NaN  KINTAMPO  1600.0        85.0          BED 2025-03-02 18:20:00  "
      ]
     },
     "execution_count": 19,
     "metadata": {},
     "output_type": "execute_result"
    }
   ],
   "source": [
    "orders.head()"
   ]
  },
  {
   "cell_type": "markdown",
   "id": "10250e1d-c709-42aa-9daa-7c67b0c7a7fb",
   "metadata": {},
   "source": [
    "#### trucks"
   ]
  },
  {
   "cell_type": "code",
   "execution_count": 21,
   "id": "56ee5a14-330b-436f-9bb9-a06f6ee9850c",
   "metadata": {},
   "outputs": [
    {
     "data": {
      "text/plain": [
       "creationDate    object\n",
       "encodedKey      object\n",
       "status          object\n",
       "truckType       object\n",
       "volume(kg)       int64\n",
       "dtype: object"
      ]
     },
     "execution_count": 21,
     "metadata": {},
     "output_type": "execute_result"
    }
   ],
   "source": [
    "trucks.dtypes"
   ]
  },
  {
   "cell_type": "code",
   "execution_count": 22,
   "id": "d73bab22-f907-4990-865f-3a63983eb108",
   "metadata": {},
   "outputs": [
    {
     "data": {
      "text/plain": [
       "creationDate    datetime64[ns]\n",
       "encodedKey              object\n",
       "status                  object\n",
       "truckType               object\n",
       "volume(kg)             float64\n",
       "dtype: object"
      ]
     },
     "execution_count": 22,
     "metadata": {},
     "output_type": "execute_result"
    }
   ],
   "source": [
    "# Chaning datatype for creationDate\n",
    "\n",
    "trucks['creationDate'] = pd.to_datetime(trucks['creationDate'])\n",
    "\n",
    "# changing datatype for volume(kg)\n",
    "\n",
    "trucks['volume(kg)'] = trucks['volume(kg)'].astype(float)\n",
    "\n",
    "trucks.dtypes"
   ]
  },
  {
   "cell_type": "code",
   "execution_count": 23,
   "id": "9a198eaa-a420-4893-b437-8bcce99ef98d",
   "metadata": {},
   "outputs": [
    {
     "data": {
      "text/html": [
       "<div>\n",
       "<style scoped>\n",
       "    .dataframe tbody tr th:only-of-type {\n",
       "        vertical-align: middle;\n",
       "    }\n",
       "\n",
       "    .dataframe tbody tr th {\n",
       "        vertical-align: top;\n",
       "    }\n",
       "\n",
       "    .dataframe thead th {\n",
       "        text-align: right;\n",
       "    }\n",
       "</style>\n",
       "<table border=\"1\" class=\"dataframe\">\n",
       "  <thead>\n",
       "    <tr style=\"text-align: right;\">\n",
       "      <th></th>\n",
       "      <th>creationDate</th>\n",
       "      <th>encodedKey</th>\n",
       "      <th>status</th>\n",
       "      <th>truckType</th>\n",
       "      <th>volume(kg)</th>\n",
       "    </tr>\n",
       "  </thead>\n",
       "  <tbody>\n",
       "    <tr>\n",
       "      <th>0</th>\n",
       "      <td>2022-06-01 08:55:16</td>\n",
       "      <td>8a858f5b8101e7c901811e75b191610d</td>\n",
       "      <td>ACTIVE</td>\n",
       "      <td>REEFER_TRUCK</td>\n",
       "      <td>20000.0</td>\n",
       "    </tr>\n",
       "    <tr>\n",
       "      <th>1</th>\n",
       "      <td>2022-06-09 16:46:57</td>\n",
       "      <td>8a858f46813e54820181495b67cc468b</td>\n",
       "      <td>ACTIVE</td>\n",
       "      <td>REEFER_TRUCK</td>\n",
       "      <td>15000.0</td>\n",
       "    </tr>\n",
       "    <tr>\n",
       "      <th>2</th>\n",
       "      <td>2022-08-05 17:30:18</td>\n",
       "      <td>8a858f318267ea7601826f0668096f69</td>\n",
       "      <td>ACTIVE</td>\n",
       "      <td>BOX_TRUCK</td>\n",
       "      <td>13000.0</td>\n",
       "    </tr>\n",
       "    <tr>\n",
       "      <th>3</th>\n",
       "      <td>2022-09-06 15:49:50</td>\n",
       "      <td>8a858e458312b8be018312f773d93984</td>\n",
       "      <td>IN_ACTIVE</td>\n",
       "      <td>BOX_TRUCK</td>\n",
       "      <td>13000.0</td>\n",
       "    </tr>\n",
       "    <tr>\n",
       "      <th>4</th>\n",
       "      <td>2022-12-06 15:03:23</td>\n",
       "      <td>8a858f4c84e67fe60184e7f2f7d05fc3</td>\n",
       "      <td>ACTIVE</td>\n",
       "      <td>BOX_TRUCK</td>\n",
       "      <td>13000.0</td>\n",
       "    </tr>\n",
       "  </tbody>\n",
       "</table>\n",
       "</div>"
      ],
      "text/plain": [
       "         creationDate                        encodedKey     status  \\\n",
       "0 2022-06-01 08:55:16  8a858f5b8101e7c901811e75b191610d     ACTIVE   \n",
       "1 2022-06-09 16:46:57  8a858f46813e54820181495b67cc468b     ACTIVE   \n",
       "2 2022-08-05 17:30:18  8a858f318267ea7601826f0668096f69     ACTIVE   \n",
       "3 2022-09-06 15:49:50  8a858e458312b8be018312f773d93984  IN_ACTIVE   \n",
       "4 2022-12-06 15:03:23  8a858f4c84e67fe60184e7f2f7d05fc3     ACTIVE   \n",
       "\n",
       "      truckType  volume(kg)  \n",
       "0  REEFER_TRUCK     20000.0  \n",
       "1  REEFER_TRUCK     15000.0  \n",
       "2     BOX_TRUCK     13000.0  \n",
       "3     BOX_TRUCK     13000.0  \n",
       "4     BOX_TRUCK     13000.0  "
      ]
     },
     "execution_count": 23,
     "metadata": {},
     "output_type": "execute_result"
    }
   ],
   "source": [
    "trucks.head()"
   ]
  },
  {
   "cell_type": "markdown",
   "id": "9f16a57a-02bc-40c5-995f-6134ff8bd193",
   "metadata": {},
   "source": [
    "#### centres"
   ]
  },
  {
   "cell_type": "code",
   "execution_count": 25,
   "id": "3c8f3295-ba10-4687-9096-4865990634dc",
   "metadata": {},
   "outputs": [
    {
     "data": {
      "text/plain": [
       "centreId         int64\n",
       "location        object\n",
       "creationDate    object\n",
       "dtype: object"
      ]
     },
     "execution_count": 25,
     "metadata": {},
     "output_type": "execute_result"
    }
   ],
   "source": [
    "centres.dtypes"
   ]
  },
  {
   "cell_type": "code",
   "execution_count": 26,
   "id": "b92d2009-4287-47cf-be1e-e677712ae1b7",
   "metadata": {},
   "outputs": [
    {
     "data": {
      "text/plain": [
       "centreId                 int64\n",
       "location                object\n",
       "creationDate    datetime64[ns]\n",
       "dtype: object"
      ]
     },
     "execution_count": 26,
     "metadata": {},
     "output_type": "execute_result"
    }
   ],
   "source": [
    "# changing data type of creationDate\n",
    "\n",
    "centres['creationDate'] = pd.to_datetime(centres['creationDate'])\n",
    "\n",
    "centres.dtypes"
   ]
  },
  {
   "cell_type": "code",
   "execution_count": 27,
   "id": "6d3ecf81-9c63-40c4-9852-0b0025407fd0",
   "metadata": {},
   "outputs": [
    {
     "data": {
      "text/html": [
       "<div>\n",
       "<style scoped>\n",
       "    .dataframe tbody tr th:only-of-type {\n",
       "        vertical-align: middle;\n",
       "    }\n",
       "\n",
       "    .dataframe tbody tr th {\n",
       "        vertical-align: top;\n",
       "    }\n",
       "\n",
       "    .dataframe thead th {\n",
       "        text-align: right;\n",
       "    }\n",
       "</style>\n",
       "<table border=\"1\" class=\"dataframe\">\n",
       "  <thead>\n",
       "    <tr style=\"text-align: right;\">\n",
       "      <th></th>\n",
       "      <th>centreId</th>\n",
       "      <th>location</th>\n",
       "      <th>creationDate</th>\n",
       "    </tr>\n",
       "  </thead>\n",
       "  <tbody>\n",
       "    <tr>\n",
       "      <th>0</th>\n",
       "      <td>1023</td>\n",
       "      <td>KINTAMPO</td>\n",
       "      <td>2022-06-01 08:55:16</td>\n",
       "    </tr>\n",
       "    <tr>\n",
       "      <th>1</th>\n",
       "      <td>1041</td>\n",
       "      <td>TEMA</td>\n",
       "      <td>2022-06-09 16:46:57</td>\n",
       "    </tr>\n",
       "    <tr>\n",
       "      <th>2</th>\n",
       "      <td>1151</td>\n",
       "      <td>BOLGATANGA</td>\n",
       "      <td>2022-09-06 15:49:50</td>\n",
       "    </tr>\n",
       "    <tr>\n",
       "      <th>3</th>\n",
       "      <td>1481</td>\n",
       "      <td>KOFORIDUA</td>\n",
       "      <td>2023-08-09 07:15:06</td>\n",
       "    </tr>\n",
       "    <tr>\n",
       "      <th>4</th>\n",
       "      <td>1561</td>\n",
       "      <td>ACCRA</td>\n",
       "      <td>2023-08-09 10:02:28</td>\n",
       "    </tr>\n",
       "  </tbody>\n",
       "</table>\n",
       "</div>"
      ],
      "text/plain": [
       "   centreId    location        creationDate\n",
       "0      1023    KINTAMPO 2022-06-01 08:55:16\n",
       "1      1041        TEMA 2022-06-09 16:46:57\n",
       "2      1151  BOLGATANGA 2022-09-06 15:49:50\n",
       "3      1481   KOFORIDUA 2023-08-09 07:15:06\n",
       "4      1561       ACCRA 2023-08-09 10:02:28"
      ]
     },
     "execution_count": 27,
     "metadata": {},
     "output_type": "execute_result"
    }
   ],
   "source": [
    "centres.head()"
   ]
  },
  {
   "cell_type": "markdown",
   "id": "1daef587-1322-434f-9b42-fc60d43c3e53",
   "metadata": {},
   "source": [
    "#### handling missing values for orders dataset"
   ]
  },
  {
   "cell_type": "code",
   "execution_count": 29,
   "id": "acecc9d0-e941-464e-a794-592d1916b269",
   "metadata": {},
   "outputs": [
    {
     "data": {
      "text/plain": [
       "orderId               0\n",
       "clientId           1243\n",
       "lastModified          0\n",
       "status                0\n",
       "truckKey         310775\n",
       "location              0\n",
       "fee                   0\n",
       "volume(kg)            0\n",
       "deliveryItem          0\n",
       "dateGenerated         0\n",
       "dtype: int64"
      ]
     },
     "execution_count": 29,
     "metadata": {},
     "output_type": "execute_result"
    }
   ],
   "source": [
    "orders.isnull().sum()"
   ]
  },
  {
   "cell_type": "code",
   "execution_count": 30,
   "id": "4dfde1ff-be60-4ffa-b8da-53eb275f7bd9",
   "metadata": {},
   "outputs": [
    {
     "data": {
      "text/plain": [
       "(526945, 10)"
      ]
     },
     "execution_count": 30,
     "metadata": {},
     "output_type": "execute_result"
    }
   ],
   "source": [
    "orders.shape"
   ]
  },
  {
   "cell_type": "code",
   "execution_count": 31,
   "id": "6c3d7ad5-85b7-49e7-814b-93b7bfbc6fb9",
   "metadata": {},
   "outputs": [],
   "source": [
    "# Filling the missing client Ids with a placeholder \"Unknown\"\n",
    "\n",
    "orders['clientId'].fillna('Unknown', inplace=True)"
   ]
  },
  {
   "cell_type": "code",
   "execution_count": 32,
   "id": "fa56f168-c726-42af-86ec-949dfa869443",
   "metadata": {},
   "outputs": [
    {
     "name": "stdout",
     "output_type": "stream",
     "text": [
      "Non-PENDING orders with no truckKey:\n",
      " Empty DataFrame\n",
      "Columns: [orderId, clientId, lastModified, status, truckKey, location, fee, volume(kg), deliveryItem, dateGenerated]\n",
      "Index: []\n"
     ]
    }
   ],
   "source": [
    "# Checking if all orders with missing truckKey are truly 'PENDING'\n",
    "missing_truckkey_orders = orders[orders['truckKey'].isnull()]\n",
    "non_pending_with_no_truck = missing_truckkey_orders[missing_truckkey_orders['status'] != 'PENDING']\n",
    "\n",
    "# Print unexpected rows if any\n",
    "print(\"Non-PENDING orders with no truckKey:\\n\", non_pending_with_no_truck)\n"
   ]
  },
  {
   "cell_type": "code",
   "execution_count": 33,
   "id": "3b517eed-6974-4bea-b16a-0d47f952fe67",
   "metadata": {},
   "outputs": [],
   "source": [
    "# checking if all pending orders according to the metabase dashboard have null truck keys\n",
    "\n",
    "pending_orders = orders[orders['status'] == 'PENDING']\n",
    "assert pending_orders['truckKey'].isnull().all()"
   ]
  },
  {
   "cell_type": "code",
   "execution_count": 34,
   "id": "fd95fc88-2a92-484c-b735-869599fed80b",
   "metadata": {},
   "outputs": [
    {
     "data": {
      "text/html": [
       "<div>\n",
       "<style scoped>\n",
       "    .dataframe tbody tr th:only-of-type {\n",
       "        vertical-align: middle;\n",
       "    }\n",
       "\n",
       "    .dataframe tbody tr th {\n",
       "        vertical-align: top;\n",
       "    }\n",
       "\n",
       "    .dataframe thead th {\n",
       "        text-align: right;\n",
       "    }\n",
       "</style>\n",
       "<table border=\"1\" class=\"dataframe\">\n",
       "  <thead>\n",
       "    <tr style=\"text-align: right;\">\n",
       "      <th></th>\n",
       "      <th>orderId</th>\n",
       "      <th>clientId</th>\n",
       "      <th>lastModified</th>\n",
       "      <th>status</th>\n",
       "      <th>truckKey</th>\n",
       "      <th>location</th>\n",
       "      <th>fee</th>\n",
       "      <th>volume(kg)</th>\n",
       "      <th>deliveryItem</th>\n",
       "      <th>dateGenerated</th>\n",
       "    </tr>\n",
       "  </thead>\n",
       "  <tbody>\n",
       "    <tr>\n",
       "      <th>0</th>\n",
       "      <td>01GGAPGS3BZKF3AKKRRHPBCMMG</td>\n",
       "      <td>320232240</td>\n",
       "      <td>2025-03-02 18:20:00</td>\n",
       "      <td>PENDING</td>\n",
       "      <td>NaN</td>\n",
       "      <td>KINTAMPO</td>\n",
       "      <td>6400.0</td>\n",
       "      <td>340.0</td>\n",
       "      <td>BED</td>\n",
       "      <td>2025-03-02 18:20:00</td>\n",
       "    </tr>\n",
       "    <tr>\n",
       "      <th>1</th>\n",
       "      <td>01GGAPK4BCXD9S96QXFYD65E20</td>\n",
       "      <td>2420001880</td>\n",
       "      <td>2025-03-02 18:20:00</td>\n",
       "      <td>PENDING</td>\n",
       "      <td>NaN</td>\n",
       "      <td>KINTAMPO</td>\n",
       "      <td>320.0</td>\n",
       "      <td>17.0</td>\n",
       "      <td>BED</td>\n",
       "      <td>2025-03-02 18:20:00</td>\n",
       "    </tr>\n",
       "    <tr>\n",
       "      <th>2</th>\n",
       "      <td>01GGAPRNS3ET0JC79QTAX8PG46</td>\n",
       "      <td>43730707</td>\n",
       "      <td>2025-03-02 18:20:00</td>\n",
       "      <td>PENDING</td>\n",
       "      <td>NaN</td>\n",
       "      <td>KINTAMPO</td>\n",
       "      <td>3200.0</td>\n",
       "      <td>170.0</td>\n",
       "      <td>BED</td>\n",
       "      <td>2025-03-02 18:20:00</td>\n",
       "    </tr>\n",
       "    <tr>\n",
       "      <th>3</th>\n",
       "      <td>01GGAPX6EG5S77Y5B39SHNXEAM</td>\n",
       "      <td>28737136</td>\n",
       "      <td>2025-03-02 18:20:00</td>\n",
       "      <td>PENDING</td>\n",
       "      <td>NaN</td>\n",
       "      <td>KINTAMPO</td>\n",
       "      <td>640.0</td>\n",
       "      <td>34.0</td>\n",
       "      <td>BED</td>\n",
       "      <td>2025-03-02 18:20:00</td>\n",
       "    </tr>\n",
       "    <tr>\n",
       "      <th>4</th>\n",
       "      <td>01GGAPYCWBVZQEFFM0DA1J9VT3</td>\n",
       "      <td>38457808</td>\n",
       "      <td>2025-03-02 18:20:00</td>\n",
       "      <td>PENDING</td>\n",
       "      <td>NaN</td>\n",
       "      <td>KINTAMPO</td>\n",
       "      <td>1600.0</td>\n",
       "      <td>85.0</td>\n",
       "      <td>BED</td>\n",
       "      <td>2025-03-02 18:20:00</td>\n",
       "    </tr>\n",
       "    <tr>\n",
       "      <th>...</th>\n",
       "      <td>...</td>\n",
       "      <td>...</td>\n",
       "      <td>...</td>\n",
       "      <td>...</td>\n",
       "      <td>...</td>\n",
       "      <td>...</td>\n",
       "      <td>...</td>\n",
       "      <td>...</td>\n",
       "      <td>...</td>\n",
       "      <td>...</td>\n",
       "    </tr>\n",
       "    <tr>\n",
       "      <th>340007</th>\n",
       "      <td>01J187EZP99VWRDBRA208GKMDY</td>\n",
       "      <td>17354074.0</td>\n",
       "      <td>2025-03-02 18:20:00</td>\n",
       "      <td>PENDING</td>\n",
       "      <td>NaN</td>\n",
       "      <td>ACCRA</td>\n",
       "      <td>320.0</td>\n",
       "      <td>17.0</td>\n",
       "      <td>TABLE</td>\n",
       "      <td>2025-03-02 18:20:00</td>\n",
       "    </tr>\n",
       "    <tr>\n",
       "      <th>340008</th>\n",
       "      <td>01J187WA3ASVB0BRSEP7M2BM4Q</td>\n",
       "      <td>596083928.0</td>\n",
       "      <td>2025-03-02 18:20:00</td>\n",
       "      <td>PENDING</td>\n",
       "      <td>NaN</td>\n",
       "      <td>ACCRA</td>\n",
       "      <td>544.0</td>\n",
       "      <td>28.9</td>\n",
       "      <td>TABLE</td>\n",
       "      <td>2025-03-02 18:20:00</td>\n",
       "    </tr>\n",
       "    <tr>\n",
       "      <th>340009</th>\n",
       "      <td>01J188AKG5F6Y5QK85ZE9S9V88</td>\n",
       "      <td>604711603.0</td>\n",
       "      <td>2025-03-02 18:20:00</td>\n",
       "      <td>PENDING</td>\n",
       "      <td>NaN</td>\n",
       "      <td>ACCRA</td>\n",
       "      <td>6400.0</td>\n",
       "      <td>340.0</td>\n",
       "      <td>BED</td>\n",
       "      <td>2025-03-02 18:20:00</td>\n",
       "    </tr>\n",
       "    <tr>\n",
       "      <th>340012</th>\n",
       "      <td>01J189EMS0JB0QX69D8R7MKHZ9</td>\n",
       "      <td>512866981.0</td>\n",
       "      <td>2025-03-02 18:20:00</td>\n",
       "      <td>PENDING</td>\n",
       "      <td>NaN</td>\n",
       "      <td>ACCRA</td>\n",
       "      <td>320.0</td>\n",
       "      <td>17.0</td>\n",
       "      <td>TABLE</td>\n",
       "      <td>2025-03-02 18:20:00</td>\n",
       "    </tr>\n",
       "    <tr>\n",
       "      <th>340013</th>\n",
       "      <td>01J189R5H7CP0C8SZM3F135ZGR</td>\n",
       "      <td>193684670.0</td>\n",
       "      <td>2025-03-02 18:20:00</td>\n",
       "      <td>PENDING</td>\n",
       "      <td>NaN</td>\n",
       "      <td>ACCRA</td>\n",
       "      <td>3200.0</td>\n",
       "      <td>170.0</td>\n",
       "      <td>TABLE</td>\n",
       "      <td>2025-03-02 18:20:00</td>\n",
       "    </tr>\n",
       "  </tbody>\n",
       "</table>\n",
       "<p>310775 rows × 10 columns</p>\n",
       "</div>"
      ],
      "text/plain": [
       "                           orderId     clientId        lastModified   status  \\\n",
       "0       01GGAPGS3BZKF3AKKRRHPBCMMG    320232240 2025-03-02 18:20:00  PENDING   \n",
       "1       01GGAPK4BCXD9S96QXFYD65E20   2420001880 2025-03-02 18:20:00  PENDING   \n",
       "2       01GGAPRNS3ET0JC79QTAX8PG46     43730707 2025-03-02 18:20:00  PENDING   \n",
       "3       01GGAPX6EG5S77Y5B39SHNXEAM     28737136 2025-03-02 18:20:00  PENDING   \n",
       "4       01GGAPYCWBVZQEFFM0DA1J9VT3     38457808 2025-03-02 18:20:00  PENDING   \n",
       "...                            ...          ...                 ...      ...   \n",
       "340007  01J187EZP99VWRDBRA208GKMDY   17354074.0 2025-03-02 18:20:00  PENDING   \n",
       "340008  01J187WA3ASVB0BRSEP7M2BM4Q  596083928.0 2025-03-02 18:20:00  PENDING   \n",
       "340009  01J188AKG5F6Y5QK85ZE9S9V88  604711603.0 2025-03-02 18:20:00  PENDING   \n",
       "340012  01J189EMS0JB0QX69D8R7MKHZ9  512866981.0 2025-03-02 18:20:00  PENDING   \n",
       "340013  01J189R5H7CP0C8SZM3F135ZGR  193684670.0 2025-03-02 18:20:00  PENDING   \n",
       "\n",
       "       truckKey  location     fee  volume(kg) deliveryItem       dateGenerated  \n",
       "0           NaN  KINTAMPO  6400.0       340.0          BED 2025-03-02 18:20:00  \n",
       "1           NaN  KINTAMPO   320.0        17.0          BED 2025-03-02 18:20:00  \n",
       "2           NaN  KINTAMPO  3200.0       170.0          BED 2025-03-02 18:20:00  \n",
       "3           NaN  KINTAMPO   640.0        34.0          BED 2025-03-02 18:20:00  \n",
       "4           NaN  KINTAMPO  1600.0        85.0          BED 2025-03-02 18:20:00  \n",
       "...         ...       ...     ...         ...          ...                 ...  \n",
       "340007      NaN     ACCRA   320.0        17.0        TABLE 2025-03-02 18:20:00  \n",
       "340008      NaN     ACCRA   544.0        28.9        TABLE 2025-03-02 18:20:00  \n",
       "340009      NaN     ACCRA  6400.0       340.0          BED 2025-03-02 18:20:00  \n",
       "340012      NaN     ACCRA   320.0        17.0        TABLE 2025-03-02 18:20:00  \n",
       "340013      NaN     ACCRA  3200.0       170.0        TABLE 2025-03-02 18:20:00  \n",
       "\n",
       "[310775 rows x 10 columns]"
      ]
     },
     "execution_count": 34,
     "metadata": {},
     "output_type": "execute_result"
    }
   ],
   "source": [
    "pending_orders"
   ]
  },
  {
   "cell_type": "code",
   "execution_count": null,
   "id": "be109124-d5f4-4a0b-a309-22c7fc986d3f",
   "metadata": {},
   "outputs": [],
   "source": []
  },
  {
   "cell_type": "code",
   "execution_count": null,
   "id": "d5583808-d5b6-43fb-940c-bf6d6cc309e1",
   "metadata": {},
   "outputs": [],
   "source": []
  },
  {
   "cell_type": "code",
   "execution_count": 35,
   "id": "29fa7057-961c-4035-8902-2617d01b6d99",
   "metadata": {},
   "outputs": [],
   "source": [
    "# Cell 2: Configuration (adjustable parameters)\n",
    "CONFIG = {\n",
    "    'PRIORITY_CENTERS': {\n",
    "        'ACCRA': 1.0,\n",
    "        'TEMA': 0.9,\n",
    "        'KOFORIDUA': 0.7,\n",
    "        'BOLGATANGA': 0.6,\n",
    "        'KINTAMPO': 0.5\n",
    "    },\n",
    "    'CAPACITY_BUFFER': 0.85,  # 15% safety margin\n",
    "    'MIN_UTILIZATION': 0.7    # Warn if trucks used below this\n",
    "}"
   ]
  },
  {
   "cell_type": "code",
   "execution_count": 36,
   "id": "a526af4a-2045-45c7-9be5-9568415495ea",
   "metadata": {},
   "outputs": [
    {
     "name": "stdout",
     "output_type": "stream",
     "text": [
      "Available trucks: 30\n",
      "Total capacity: 356,150 kg\n"
     ]
    }
   ],
   "source": [
    "# %%\n",
    "# Cell 3: Prepare Active Trucks\n",
    "active_trucks = trucks[trucks['status'] == 'ACTIVE'].copy()\n",
    "active_trucks['usable_capacity'] = active_trucks['volume(kg)'] * CONFIG['CAPACITY_BUFFER']\n",
    "\n",
    "print(f\"Available trucks: {len(active_trucks)}\")\n",
    "print(f\"Total capacity: {active_trucks['usable_capacity'].sum():,.0f} kg\")\n",
    "\n",
    "# %%\n",
    "# Cell 4: Prepare Pending Orders\n",
    "pending_orders = orders[orders['status'] == 'PENDING'].copy()\n",
    "\n",
    "# Merge with centers if not already done\n",
    "if 'centreId' not in pending_orders.columns:\n",
    "    pending_orders = pending_orders.merge(\n",
    "        centres[['location', 'centreId']],\n",
    "        on='location',\n",
    "        how='left'\n",
    "    )"
   ]
  },
  {
   "cell_type": "code",
   "execution_count": 37,
   "id": "43807c97-6ed6-4349-b1ba-050cf83d2c1c",
   "metadata": {},
   "outputs": [
    {
     "name": "stdout",
     "output_type": "stream",
     "text": [
      "Pending orders: 310,775\n",
      "Total volume: 26,882,387 kg\n"
     ]
    }
   ],
   "source": [
    "# %%\n",
    "# Cell 4: Prepare Pending Orders\n",
    "pending_orders = orders[orders['status'] == 'PENDING'].copy()\n",
    "\n",
    "# Merge with centers if not already done\n",
    "if 'centreId' not in pending_orders.columns:\n",
    "    pending_orders = pending_orders.merge(\n",
    "        centres[['location', 'centreId']],\n",
    "        on='location',\n",
    "        how='left'\n",
    "    )\n",
    "\n",
    "# Add priority score\n",
    "pending_orders['priority'] = pending_orders['location'].map(CONFIG['PRIORITY_CENTERS'])\n",
    "pending_orders = pending_orders.sort_values(['priority', 'volume(kg)'], ascending=[False, False])\n",
    "\n",
    "print(f\"Pending orders: {len(pending_orders):,}\")\n",
    "print(f\"Total volume: {pending_orders['volume(kg)'].sum():,.0f} kg\")"
   ]
  },
  {
   "cell_type": "code",
   "execution_count": 38,
   "id": "9f02aaf1-36a9-416f-b5c5-1377a1855b42",
   "metadata": {},
   "outputs": [],
   "source": [
    "# %%\n",
    "# Cell 5: Allocation Algorithm\n",
    "def allocate_orders(orders_df, trucks_df):\n",
    "    \"\"\"First-fit decreasing algorithm with center priority\"\"\"\n",
    "    assignments = []\n",
    "    unallocated = []\n",
    "    \n",
    "    trucks = trucks_df.copy()\n",
    "    trucks['remaining'] = trucks['usable_capacity']\n",
    "\n",
    "    for _, order in tqdm(orders_df.iterrows(), total=len(orders_df)):\n",
    "        allocated = False\n",
    "        \n",
    "        # Try to fit in existing trucks\n",
    "        for idx, truck in trucks.iterrows():\n",
    "            if truck['remaining'] >= order['volume(kg)']:\n",
    "                assignments.append({\n",
    "                    'orderId': order['orderId'],\n",
    "                    'truckKey': truck['encodedKey'],\n",
    "                    'centreId': order['centreId'],\n",
    "                    'location': order['location'],\n",
    "                    'volume_kg': order['volume(kg)'],\n",
    "                    'truckType': truck['truckType']\n",
    "                })\n",
    "                trucks.at[idx, 'remaining'] -= order['volume(kg)']\n",
    "                allocated = True\n",
    "                break\n",
    "        if not allocated:\n",
    "            unallocated.append(order['orderId'])\n",
    "            \n",
    "    return pd.DataFrame(assignments), unallocated"
   ]
  },
  {
   "cell_type": "code",
   "execution_count": 39,
   "id": "aae15dfc-00e6-43a2-973d-317ab73b6727",
   "metadata": {},
   "outputs": [
    {
     "data": {
      "application/vnd.jupyter.widget-view+json": {
       "model_id": "2295b1a89b9248858f4877d7e2a20fac",
       "version_major": 2,
       "version_minor": 0
      },
      "text/plain": [
       "  0%|          | 0/310775 [00:00<?, ?it/s]"
      ]
     },
     "metadata": {},
     "output_type": "display_data"
    },
    {
     "name": "stdout",
     "output_type": "stream",
     "text": [
      "\n",
      "Allocated: 2,381 orders\n",
      "Unallocated: 308,394 orders\n",
      "Utilization rate: 100.0%\n"
     ]
    }
   ],
   "source": [
    "# %%\n",
    "# Cell 6: Run Allocation\n",
    "assignments, unallocated = allocate_orders(pending_orders, active_trucks)\n",
    "\n",
    "print(f\"\\nAllocated: {len(assignments):,} orders\")\n",
    "print(f\"Unallocated: {len(unallocated):,} orders\")\n",
    "print(f\"Utilization rate: {assignments['volume_kg'].sum() / active_trucks['usable_capacity'].sum():.1%}\")"
   ]
  },
  {
   "cell_type": "code",
   "execution_count": 73,
   "id": "cb9e6505-e44f-4dc2-84dc-0a076901a32e",
   "metadata": {},
   "outputs": [
    {
     "data": {
      "image/png": "[encoded data removed]",
      "text/plain": [
       "<Figure size 1000x400 with 1 Axes>"
      ]
     },
     "metadata": {},
     "output_type": "display_data"
    }
   ],
   "source": [
    "# %%\n",
    "# Cell 7: Analyze Results\n",
    "# Truck utilization\n",
    "utilization = assignments.groupby('truckKey')['volume_kg'].sum() / \\\n",
    "             active_trucks.set_index('encodedKey')['usable_capacity']\n",
    "\n",
    "plt.figure(figsize=(10, 4))\n",
    "sns.histplot(utilization, bins=20)\n",
    "plt.axvline(CONFIG['MIN_UTILIZATION'], color='red', linestyle='--')\n",
    "plt.title('Truck Utilization Distribution')\n",
    "plt.show()"
   ]
  },
  {
   "cell_type": "code",
   "execution_count": 76,
   "id": "fd31a4a3-e302-408f-a675-946c9b83fe40",
   "metadata": {},
   "outputs": [
    {
     "data": {
      "text/plain": [
       "<Axes: title={'center': 'Orders Allocated by Center'}, xlabel='location'>"
      ]
     },
     "execution_count": 76,
     "metadata": {},
     "output_type": "execute_result"
    },
    {
     "data": {
      "image/png": "[encoded data removed]",
      "text/plain": [
       "<Figure size 640x480 with 1 Axes>"
      ]
     },
     "metadata": {},
     "output_type": "display_data"
    }
   ],
   "source": [
    "# Allocation by center\n",
    "center_allocation = assignments.groupby('location').size()\n",
    "center_allocation.plot(kind='bar', title='Orders Allocated by Center')"
   ]
  },
  {
   "cell_type": "code",
   "execution_count": 78,
   "id": "a705c1f4-efa5-459d-bc6a-2fb21062d252",
   "metadata": {},
   "outputs": [
    {
     "name": "stdout",
     "output_type": "stream",
     "text": [
      "Saved outputs:\n",
      "- optimized_assignments.csv\n",
      "- unallocated_orders.csv\n"
     ]
    }
   ],
   "source": [
    "# %%\n",
    "# Cell 8: Save Outputs\n",
    "# Save successful allocations\n",
    "assignments.to_csv('optimized_assignments.csv', index=False)\n",
    "\n",
    "# Save unallocated orders for review\n",
    "pd.DataFrame({'unallocated_orders': unallocated}).to_csv(\n",
    "    'unallocated_orders.csv', index=False)\n",
    "\n",
    "print(\"Saved outputs:\")\n",
    "print(\"- optimized_assignments.csv\")\n",
    "print(\"- unallocated_orders.csv\")"
   ]
  },
  {
   "cell_type": "code",
   "execution_count": null,
   "id": "c3a6a102-f245-4942-b12d-95b2bbf54ebe",
   "metadata": {},
   "outputs": [],
   "source": []
  },
  {
   "cell_type": "markdown",
   "id": "f53d6cf6-69c0-4ce0-b35e-e254712d4d57",
   "metadata": {},
   "source": [
    "\"\"\"\n",
    "# Optimized Allocation Engine v2\n",
    "*Solving the 308K unallocated orders problem*"
   ]
  },
  {
   "cell_type": "code",
   "execution_count": 97,
   "id": "d3ee47e9-00f0-4a78-af96-a6ed04a4db42",
   "metadata": {},
   "outputs": [],
   "source": [
    "# %%\n",
    "# Configuration\n",
    "CONFIG = {\n",
    "    'PRIORITY_CENTERS': {\n",
    "        'ACCRA': 1.0, 'TEMA': 0.9, 'KOFORIDUA': 0.7,\n",
    "        'BOLGATANGA': 0.6, 'KINTAMPO': 0.5\n",
    "    },\n",
    "    'MAX_ORDERS_PER_TRUCK': 50,\n",
    "    'MIN_UTILIZATION': 0.85\n",
    "}"
   ]
  },
  {
   "cell_type": "code",
   "execution_count": 101,
   "id": "034f6fd3-f828-435e-8f6d-1ef838cb29ba",
   "metadata": {},
   "outputs": [],
   "source": [
    "# %%\n",
    "# 2. Allocation Function (MUST RUN THIS BEFORE CALLING IT)\n",
    "def allocate_batches(batches, trucks_df):\n",
    "    \"\"\"Assign batches to trucks\"\"\"\n",
    "    assignments = []\n",
    "    unallocated = []\n",
    "    \n",
    "    trucks = trucks_df.sort_values('usable_capacity', ascending=False).copy()\n",
    "    trucks['remaining'] = trucks['usable_capacity']  # Initialize remaining capacity\n",
    "\n",
    "    for batch in batches:\n",
    "        allocated = False\n",
    "        for idx, truck in trucks.iterrows():\n",
    "            if truck['remaining'] >= batch['total_volume']:\n",
    "                assignments.append({\n",
    "                    'batch_id': len(assignments) + 1,\n",
    "                    'truck_key': truck['encodedKey'],\n",
    "                    'center': batch['location'],\n",
    "                    'total_kg': batch['total_volume'],\n",
    "                    'order_count': len(batch['orders']),\n",
    "                    'utilization': batch['total_volume'] / truck['usable_capacity']\n",
    "                })\n",
    "                trucks.at[idx, 'remaining'] -= batch['total_volume']\n",
    "                allocated = True\n",
    "                break\n",
    "                \n",
    "        if not allocated:\n",
    "            unallocated.extend([o['orderId'] for o in batch['orders']])\n",
    "            \n",
    "    return pd.DataFrame(assignments), unallocated"
   ]
  },
  {
   "cell_type": "code",
   "execution_count": 103,
   "id": "aad623d9-672f-4501-ba39-dd12c53cdd5f",
   "metadata": {},
   "outputs": [],
   "source": [
    "# %%\n",
    "# 3. Execution (RUN AFTER THE ABOVE FUNCTIONS ARE DEFINED)\n",
    "# Prepare data (using your cleaned datasets)\n",
    "active_trucks = trucks[trucks['status'] == 'ACTIVE'].copy()\n",
    "active_trucks['usable_capacity'] = active_trucks['volume(kg)'] * 0.85  # 15% buffer\n",
    "\n",
    "pending_orders = orders[orders['status'] == 'PENDING'].copy()\n",
    "pending_orders['priority'] = pending_orders['location'].map(CONFIG['PRIORITY_CENTERS'])\n",
    "\n",
    "# Create batches\n",
    "order_batches = batch_orders(pending_orders)\n",
    "\n",
    "# Allocate batches\n",
    "assignments, unallocated = allocate_batches(order_batches, active_trucks)"
   ]
  },
  {
   "cell_type": "code",
   "execution_count": 105,
   "id": "f92176b8-bd7c-43b1-ad63-a0771e5bbfa8",
   "metadata": {},
   "outputs": [
    {
     "name": "stdout",
     "output_type": "stream",
     "text": [
      "\n",
      "Optimized Results:\n",
      "Batches allocated: 81\n",
      "Orders allocated: 4,003\n",
      "Orders unallocated: 306,772\n",
      "Avg utilization: 37.0%\n"
     ]
    },
    {
     "data": {
      "image/png": "[encoded data removed]",
      "text/plain": [
       "<Figure size 1200x500 with 2 Axes>"
      ]
     },
     "metadata": {},
     "output_type": "display_data"
    }
   ],
   "source": [
    "# %%\n",
    "# 4. Results Visualization\n",
    "print(\"\\nOptimized Results:\")\n",
    "print(f\"Batches allocated: {len(assignments):,}\")\n",
    "print(f\"Orders allocated: {assignments['order_count'].sum():,}\")\n",
    "print(f\"Orders unallocated: {len(unallocated):,}\")\n",
    "print(f\"Avg utilization: {assignments['utilization'].mean():.1%}\")\n",
    "\n",
    "plt.figure(figsize=(12, 5))\n",
    "plt.subplot(1, 2, 1)\n",
    "sns.histplot(assignments['utilization'], bins=15)\n",
    "plt.title('Truck Utilization')\n",
    "\n",
    "plt.subplot(1, 2, 2)\n",
    "sns.histplot(assignments['order_count'], bins=20)\n",
    "plt.title('Orders per Truck')\n",
    "plt.show()"
   ]
  },
  {
   "cell_type": "code",
   "execution_count": null,
   "id": "653209de-f8ea-4e71-888c-f2d94b5cab6f",
   "metadata": {},
   "outputs": [],
   "source": []
  },
  {
   "cell_type": "code",
   "execution_count": null,
   "id": "ff234f88-3964-43c7-9877-2c28cb274b08",
   "metadata": {},
   "outputs": [],
   "source": []
  },
  {
   "cell_type": "code",
   "execution_count": null,
   "id": "a63dfc4d-1a95-4819-828f-e41e30d9ce4d",
   "metadata": {},
   "outputs": [],
   "source": []
  },
  {
   "cell_type": "code",
   "execution_count": 107,
   "id": "4ceb1e49-f2e3-48a7-8767-5e9eb6efe803",
   "metadata": {},
   "outputs": [],
   "source": [
    "# %% [markdown]\n",
    "\"\"\"\n",
    "# Optimized Allocation Engine v3\n",
    "*Addressing low utilization and high unallocated orders*\n",
    "\"\"\"\n",
    "# %%\n",
    "# Revised Configuration\n",
    "CONFIG = {\n",
    "    'PRIORITY_CENTERS': {\n",
    "        'ACCRA': 1.0, 'TEMA': 0.95, 'KOFORIDUA': 0.85,\n",
    "        'BOLGATANGA': 0.75, 'KINTAMPO': 0.65\n",
    "    },\n",
    "    'MAX_BATCH_SIZE': 13000,  # Reduced from 15000\n",
    "    'MIN_BATCH_SIZE': 2000,   # New constraint\n",
    "    'TARGET_UTILIZATION': 0.92\n",
    "}"
   ]
  },
  {
   "cell_type": "code",
   "execution_count": 109,
   "id": "b4caf7b0-aab5-4065-a8a8-200d87c4bd63",
   "metadata": {},
   "outputs": [],
   "source": [
    "# Enhanced Batching Algorithm\n",
    "def create_smart_batches(orders_df):\n",
    "    \"\"\"Create location-aware batches with size optimization\"\"\"\n",
    "    # Group by location first\n",
    "    location_groups = orders_df.groupby('location')\n",
    "    \n",
    "    batches = []\n",
    "    for location, group in location_groups:\n",
    "        group = group.sort_values(['priority', 'volume(kg)'], ascending=[False, False])\n",
    "\n",
    "        current_batch = []\n",
    "        current_volume = 0\n",
    "        \n",
    "        for _, order in group.iterrows():\n",
    "            # Case 1: Order fits in current batch\n",
    "            if (current_volume + order['volume(kg)'] <= CONFIG['MAX_BATCH_SIZE']):\n",
    "                current_batch.append(order)\n",
    "                current_volume += order['volume(kg)']\n",
    "            \n",
    "            # Case 2: Start new batch\n",
    "            else:\n",
    "                if current_batch:\n",
    "                    # Only keep batches above minimum size\n",
    "                    if current_volume >= CONFIG['MIN_BATCH_SIZE']:\n",
    "                        batches.append({\n",
    "                            'location': location,\n",
    "                            'orders': current_batch,\n",
    "                            'total_volume': current_volume,\n",
    "                            'priority': CONFIG['PRIORITY_CENTERS'][location]\n",
    "                        })\n",
    "                current_batch = [order]\n",
    "                current_volume = order['volume(kg)']\n",
    "        \n",
    "        # Add final batch for location\n",
    "        if current_batch and current_volume >= CONFIG['MIN_BATCH_SIZE']:\n",
    "            batches.append({\n",
    "                'location': location,\n",
    "                'orders': current_batch,\n",
    "                'total_volume': current_volume,\n",
    "                'priority': CONFIG['PRIORITY_CENTERS'][location]\n",
    "            })\n",
    "    \n",
    "    return sorted(batches, key=lambda x: x['priority'], reverse=True)\n",
    "                "
   ]
  },
  {
   "cell_type": "code",
   "execution_count": 111,
   "id": "6eda23a2-baea-4dc6-bf96-a46c0df65413",
   "metadata": {},
   "outputs": [],
   "source": [
    "# %%\n",
    "# Enhanced Allocation with Truck Matching\n",
    "def optimized_allocate(batches, trucks_df):\n",
    "    trucks = trucks_df.copy()\n",
    "    trucks['remaining_capacity'] = trucks['volume(kg)'] * 0.9  # 10% buffer\n",
    "    trucks = trucks.sort_values('remaining_capacity', ascending=False)\n",
    "    \n",
    "    assignments = []\n",
    "    unallocated = []\n",
    "    \n",
    "    for batch in batches:\n",
    "        best_fit = None\n",
    "        best_remaining = float('inf')\n",
    "        \n",
    "        # Find best-fit truck\n",
    "        for idx, truck in trucks.iterrows():\n",
    "            remaining = truck['remaining_capacity'] - batch['total_volume']\n",
    "            \n",
    "            if 0 <= remaining < best_remaining:\n",
    "                best_remaining = remaining\n",
    "                best_fit = idx\n",
    "\n",
    "            # Early exit if perfect fit found\n",
    "            if remaining == 0:\n",
    "                break\n",
    "        \n",
    "        if best_fit is not None:\n",
    "            truck = trucks.loc[best_fit]\n",
    "            utilization = batch['total_volume'] / truck['volume(kg)']\n",
    "            \n",
    "            assignments.append({\n",
    "                'batch_id': len(assignments) + 1,\n",
    "                'truck_id': truck['encodedKey'],\n",
    "                'truck_type': truck['truckType'],\n",
    "                'location': batch['location'],\n",
    "                'orders': len(batch['orders']),\n",
    "                'total_kg': batch['total_volume'],\n",
    "                'utilization': utilization,\n",
    "                'remaining_capacity': trucks.at[best_fit, 'remaining_capacity']\n",
    "            })\n",
    "\n",
    "            trucks.at[best_fit, 'remaining_capacity'] -= batch['total_volume']\n",
    "        else:\n",
    "            unallocated.extend([o['orderId'] for o in batch['orders']])\n",
    "    \n",
    "    return pd.DataFrame(assignments), unallocated\n",
    "    "
   ]
  },
  {
   "cell_type": "code",
   "execution_count": 113,
   "id": "ecf4cf77-bd49-4308-b2e4-1c14314689ed",
   "metadata": {},
   "outputs": [
    {
     "name": "stdout",
     "output_type": "stream",
     "text": [
      "\n",
      "Enhanced Results:\n",
      "Batches created: 2,081\n",
      "Batches allocated: 11 (2,070 failed)\n",
      "Orders allocated: 3,192 (Avg 290.2 per batch)\n",
      "Utilization rate: 72.7%\n"
     ]
    },
    {
     "data": {
      "image/png": "[encoded data removed]",
      "text/plain": [
       "<Figure size 1500x500 with 3 Axes>"
      ]
     },
     "metadata": {},
     "output_type": "display_data"
    }
   ],
   "source": [
    "# %%\n",
    "# Execute Enhanced Pipeline\n",
    "smart_batches = create_smart_batches(pending_orders)\n",
    "assignments_v3, unallocated_v3 = optimized_allocate(smart_batches, active_trucks)\n",
    "\n",
    "# Analysis\n",
    "utilization = assignments_v3['utilization'].mean()\n",
    "allocated_orders = assignments_v3['orders'].sum()\n",
    "\n",
    "print(f\"\\nEnhanced Results:\")\n",
    "print(f\"Batches created: {len(smart_batches):,}\")\n",
    "print(f\"Batches allocated: {len(assignments_v3):,} ({len(smart_batches)-len(assignments_v3):,} failed)\")\n",
    "print(f\"Orders allocated: {allocated_orders:,} (Avg {allocated_orders/len(assignments_v3):.1f} per batch)\")\n",
    "print(f\"Utilization rate: {utilization:.1%}\")\n",
    "\n",
    "# Visualization\n",
    "plt.figure(figsize=(15, 5))\n",
    "plt.subplot(1, 3, 1)\n",
    "sns.histplot(assignments_v3['utilization'], bins=np.arange(0, 1.1, 0.05))\n",
    "plt.axvline(CONFIG['TARGET_UTILIZATION'], color='r', linestyle='--')\n",
    "plt.title('Truck Utilization Distribution')\n",
    "\n",
    "plt.subplot(1, 3, 2)\n",
    "sns.boxplot(x='location', y='utilization', data=assignments_v3)\n",
    "plt.xticks(rotation=45)\n",
    "plt.title('Utilization by Location')\n",
    "\n",
    "plt.subplot(1, 3, 3)\n",
    "assignments_v3['orders'].plot(kind='hist', bins=20)\n",
    "plt.title('Orders per Batch Distribution')\n",
    "plt.tight_layout()\n",
    "plt.show()"
   ]
  },
  {
   "cell_type": "code",
   "execution_count": null,
   "id": "af58d531-d63c-452f-a40a-783ecedb5c92",
   "metadata": {},
   "outputs": [],
   "source": []
  },
  {
   "cell_type": "code",
   "execution_count": null,
   "id": "65e48232-03d2-45a3-b54e-d5311f00b741",
   "metadata": {},
   "outputs": [],
   "source": []
  },
  {
   "cell_type": "code",
   "execution_count": 135,
   "id": "e24bc088-c4fd-4bf5-ac44-2ba21e7c514e",
   "metadata": {},
   "outputs": [],
   "source": [
    "# %% [markdown]\n",
    "\"\"\"\n",
    "# Final Working Allocation Engine\n",
    "*Fully debugged and optimized version*\n",
    "\"\"\"\n",
    "# %%\n",
    "# Corrected Configuration\n",
    "CONFIG = {\n",
    "    'PRIORITY_CENTERS': {\n",
    "        'ACCRA': 1.0, 'TEMA': 0.95, 'KOFORIDUA': 0.9,\n",
    "        'BOLGATANGA': 0.85, 'KINTAMPO': 0.8\n",
    "    },\n",
    "    'TRUCK_CONFIG': {\n",
    "        'REEFER_TRUCK': {\n",
    "            'max_capacity': 18000,\n",
    "            'min_batch': 2000\n",
    "        },\n",
    "        'BOX_TRUCK': {\n",
    "            'max_capacity': 12000,\n",
    "            'min_batch': 1500\n",
    "        }\n",
    "    },\n",
    "    'TARGET_UTILIZATION': 0.88\n",
    "}\n"
   ]
  },
  {
   "cell_type": "code",
   "execution_count": 137,
   "id": "d33b0dc1-459d-4f32-8091-eecf354b8e9c",
   "metadata": {},
   "outputs": [],
   "source": [
    "# %%\n",
    "# Robust Batching Function\n",
    "def create_optimized_batches(orders_df):\n",
    "    \"\"\"Create location-based batches with truck-specific sizing\"\"\"\n",
    "    batches = []\n",
    "    \n",
    "    # Process each location separately\n",
    "    for location in orders_df['location'].unique():\n",
    "        loc_orders = orders_df[orders_df['location'] == location].copy()\n",
    "        loc_orders = loc_orders.sort_values('volume(kg)', ascending=False)\n",
    "        \n",
    "        # Create batches for each truck type\n",
    "        for truck_type, specs in CONFIG['TRUCK_CONFIG'].items():\n",
    "            batch = []\n",
    "            current_vol = 0\n",
    "            \n",
    "            for _, order in loc_orders.iterrows():\n",
    "                # Check if order fits and meets minimum batch requirements\n",
    "                if (current_vol + order['volume(kg)'] <= specs['max_capacity']):\n",
    "                    batch.append(order)\n",
    "                    current_vol += order['volume(kg)']\n",
    "\n",
    "\n",
    "                    # Finalize batch if meets minimum size\n",
    "                    if current_vol >= specs['min_batch']:\n",
    "                        batches.append({\n",
    "                            'location': location,\n",
    "                            'truck_type': truck_type,\n",
    "                            'orders': batch.copy(),\n",
    "                            'total_kg': current_vol,\n",
    "                            'priority': CONFIG['PRIORITY_CENTERS'][location]\n",
    "                        })\n",
    "                        batch = []\n",
    "                        current_vol = 0\n",
    "            \n",
    "            # Add any remaining partial batch if it meets minimum size\n",
    "            if batch and current_vol >= specs['min_batch']:\n",
    "                batches.append({\n",
    "                    'location': location,\n",
    "                    'truck_type': truck_type,\n",
    "                    'orders': batch,\n",
    "                    'total_kg': current_vol,\n",
    "                    'priority': CONFIG['PRIORITY_CENTERS'][location]\n",
    "                })\n",
    "\n",
    "        # Sort batches by priority and size\n",
    "    return sorted(batches, key=lambda x: (-x['priority'], -x['total_kg']))\n"
   ]
  },
  {
   "cell_type": "code",
   "execution_count": 121,
   "id": "07b69042-f6e2-47b4-8ffb-57272c21d9f2",
   "metadata": {},
   "outputs": [],
   "source": [
    "def match_trucks(batches, trucks_df):\n",
    "    trucks = trucks_df.copy()\n",
    "    trucks['assigned'] = False\n",
    "    assignments = []\n",
    "    unallocated = []\n",
    "    \n",
    "    for batch in batches:\n",
    "        suitable_trucks = trucks[\n",
    "            (trucks['truckType'] == batch['truck_type']) & \n",
    "            (~trucks['assigned']) &\n",
    "            (trucks['volume(kg)'] >= batch['total_kg'])\n",
    "        ]\n",
    "        \n",
    "        if not suitable_trucks.empty:\n",
    "            # Find truck with closest capacity match\n",
    "            truck = suitable_trucks.iloc[\n",
    "                (suitable_trucks['volume(kg)'] - batch['total_kg']).abs().argsort()[:1]\n",
    "            ].iloc[0]\n",
    "\n",
    "            utilization = batch['total_kg'] / truck['volume(kg)']\n",
    "            assignments.append({\n",
    "                'batch_id': len(assignments) + 1,\n",
    "                'truck_id': truck['encodedKey'],\n",
    "                'location': batch['location'],\n",
    "                'orders': len(batch['orders']),\n",
    "                'total_kg': batch['total_kg'],\n",
    "                'utilization': utilization,\n",
    "                'truck_capacity': truck['volume(kg)']\n",
    "            })\n",
    "            \n",
    "            trucks.loc[truck.name, 'assigned'] = True\n",
    "        else:\n",
    "            unallocated.extend([o['orderId'] for o in batch['orders']])\n",
    "    \n",
    "    return pd.DataFrame(assignments), unallocated"
   ]
  },
  {
   "cell_type": "code",
   "execution_count": 139,
   "id": "aa069caf-401b-4197-9055-6247f57f7442",
   "metadata": {},
   "outputs": [],
   "source": [
    "# %%\n",
    "# Allocation Function with Error Handling\n",
    "def match_trucks(batches, trucks_df):\n",
    "    trucks = trucks_df.copy()\n",
    "    trucks['assigned'] = False\n",
    "    assignments = []\n",
    "    unallocated = []\n",
    "\n",
    "\n",
    "    for batch in batches:\n",
    "        try:\n",
    "            # Find suitable trucks\n",
    "            suitable_trucks = trucks[\n",
    "                (trucks['truckType'] == batch['truck_type']) & \n",
    "                (~trucks['assigned']) &\n",
    "                (trucks['volume(kg)'] >= batch['total_kg'])\n",
    "            ]\n",
    "            \n",
    "            if not suitable_trucks.empty:\n",
    "                # Select best-fit truck\n",
    "                truck = suitable_trucks.iloc[\n",
    "                    (suitable_trucks['volume(kg)'] - batch['total_kg']).abs().argsort()[:1]\n",
    "                ].iloc[0]\n",
    "\n",
    "\n",
    "                # Record assignment\n",
    "                utilization = batch['total_kg'] / truck['volume(kg)']\n",
    "                assignments.append({\n",
    "                    'batch_id': len(assignments) + 1,\n",
    "                    'truck_id': truck['encodedKey'],\n",
    "                    'location': batch['location'],\n",
    "                    'orders': len(batch['orders']),\n",
    "                    'total_kg': batch['total_kg'],\n",
    "                    'utilization': utilization,\n",
    "                    'truck_capacity': truck['volume(kg)']\n",
    "                })\n",
    "                \n",
    "                trucks.loc[truck.name, 'assigned'] = True\n",
    "            else:\n",
    "                unallocated.extend([o['orderId'] for o in batch['orders']])\n",
    "        except Exception as e:\n",
    "            print(f\"Error processing batch: {e}\")\n",
    "            unallocated.extend([o['orderId'] for o in batch['orders']])\n",
    "    \n",
    "    return pd.DataFrame(assignments), unallocated\n",
    "\n"
   ]
  },
  {
   "cell_type": "code",
   "execution_count": 141,
   "id": "83088120-c8be-4155-a04d-70f569f0f3f4",
   "metadata": {},
   "outputs": [
    {
     "name": "stdout",
     "output_type": "stream",
     "text": [
      "Starting optimization...\n",
      "Created 30337 batches\n",
      "\n",
      "Final Results:\n",
      "Total batches created: 30,337\n",
      "Successfully allocated: 30 batches\n",
      "Orders allocated: 180\n",
      "Average utilization: 13.1%\n",
      "Unallocated orders: 617,607\n"
     ]
    },
    {
     "data": {
      "image/png": "[encoded data removed]",
      "text/plain": [
       "<Figure size 1500x500 with 2 Axes>"
      ]
     },
     "metadata": {},
     "output_type": "display_data"
    }
   ],
   "source": [
    "# %%\n",
    "# Execution Pipeline\n",
    "print(\"Starting optimization...\")\n",
    "optimized_batches = create_optimized_batches(pending_orders)\n",
    "print(f\"Created {len(optimized_batches)} batches\")\n",
    "\n",
    "final_assignments, final_unallocated = match_trucks(optimized_batches, active_trucks)\n",
    "\n",
    "# Performance Metrics\n",
    "utilization = final_assignments['utilization'].mean()\n",
    "allocated_orders = final_assignments['orders'].sum()\n",
    "\n",
    "print(\"\\nFinal Results:\")\n",
    "print(f\"Total batches created: {len(optimized_batches):,}\")\n",
    "print(f\"Successfully allocated: {len(final_assignments):,} batches\")\n",
    "print(f\"Orders allocated: {allocated_orders:,}\")\n",
    "print(f\"Average utilization: {utilization:.1%}\")\n",
    "print(f\"Unallocated orders: {len(final_unallocated):,}\")\n",
    "\n",
    "# Visualization\n",
    "plt.figure(figsize=(15, 5))\n",
    "plt.subplot(1, 2, 1)\n",
    "sns.histplot(final_assignments['utilization'], bins=20)\n",
    "plt.axvline(CONFIG['TARGET_UTILIZATION'], color='r', linestyle='--')\n",
    "plt.title('Truck Utilization Rate')\n",
    "\n",
    "plt.subplot(1, 2, 2)\n",
    "sns.barplot(\n",
    "    x='location',\n",
    "    y='utilization',\n",
    "    data=final_assignments,\n",
    "    estimator='mean',\n",
    "    errorbar=None\n",
    ")\n",
    "plt.xticks(rotation=45)\n",
    "plt.title('Utilization by Location')\n",
    "plt.tight_layout()\n",
    "plt.show()"
   ]
  },
  {
   "cell_type": "code",
   "execution_count": null,
   "id": "63027eb9-131e-4a5a-b0fa-ad0c613fd5a6",
   "metadata": {},
   "outputs": [],
   "source": []
  },
  {
   "cell_type": "code",
   "execution_count": null,
   "id": "6142276e-8f40-4733-a3a8-ef944476b41a",
   "metadata": {},
   "outputs": [],
   "source": []
  },
  {
   "cell_type": "code",
   "execution_count": 143,
   "id": "7d2108d2-e8bd-4592-8c21-421de271bfd7",
   "metadata": {},
   "outputs": [
    {
     "name": "stdout",
     "output_type": "stream",
     "text": [
      "🚀 Launching mega-optimization...\n",
      "🔥 Created 1,165 optimized batches\n",
      "\n",
      "💎 Ultimate Results:\n",
      "Total batches: 1,165\n",
      "Deployed batches: 30\n",
      "Orders served: 2,275\n",
      "Avg utilization: 71.2%\n",
      "Stranded orders: 75,167\n"
     ]
    },
    {
     "data": {
      "image/png": "[encoded data removed]",
      "text/plain": [
       "<Figure size 1800x600 with 3 Axes>"
      ]
     },
     "metadata": {},
     "output_type": "display_data"
    }
   ],
   "source": [
    "# %% [markdown]\n",
    "\"\"\"\n",
    "# Ultra-Optimized Allocation Engine\n",
    "*Solving the 617K unallocated orders problem*\n",
    "\"\"\"\n",
    "# %%\n",
    "# Hyper-Optimized Configuration\n",
    "CONFIG = {\n",
    "    'PRIORITIES': {\n",
    "        'ACCRA': {'weight': 1.0, 'min_trucks': 10},\n",
    "        'TEMA': {'weight': 0.9, 'min_trucks': 8}, \n",
    "        'KOFORIDUA': {'weight': 0.8, 'min_trucks': 5},\n",
    "        'BOLGATANGA': {'weight': 0.7, 'min_trucks': 3},\n",
    "        'KINTAMPO': {'weight': 0.6, 'min_trucks': 2}\n",
    "    },\n",
    "    'TRUCK_TYPES': {\n",
    "        'REEFER_TRUCK': {'capacity': 20000, 'min_fill': 0.7},\n",
    "        'BOX_TRUCK': {'capacity': 15000, 'min_fill': 0.6}\n",
    "    },\n",
    "    'GLOBAL': {\n",
    "        'max_orders_per_batch': 100,\n",
    "        'time_window_hours': 24\n",
    "    }\n",
    "}\n",
    "\n",
    "# %%\n",
    "# Mega-Batching Algorithm\n",
    "def create_mega_batches(orders_df):\n",
    "    \"\"\"Create optimized batches with location-aware packing\"\"\"\n",
    "    from collections import defaultdict\n",
    "    \n",
    "    # Stage 1: Group by location and priority\n",
    "    location_groups = defaultdict(list)\n",
    "    for _, order in orders_df.iterrows():\n",
    "        location_groups[order['location']].append(order)\n",
    "    \n",
    "    # Stage 2: Create dense batches per location\n",
    "    all_batches = []\n",
    "    for location, orders in location_groups.items():\n",
    "        orders.sort(key=lambda x: (-x['volume(kg)'], x['dateGenerated']))\n",
    "        \n",
    "        # Create batches for each truck type\n",
    "        for truck_type, specs in CONFIG['TRUCK_TYPES'].items():\n",
    "            current_batch = []\n",
    "            current_volume = 0\n",
    "            \n",
    "            for order in orders[:]:  # Copy for safe removal\n",
    "                if (current_volume + order['volume(kg)'] <= specs['capacity'] and\n",
    "                    len(current_batch) < CONFIG['GLOBAL']['max_orders_per_batch']):\n",
    "                    \n",
    "                    current_batch.append(order)\n",
    "                    current_volume += order['volume(kg)']\n",
    "                    orders.remove(order)\n",
    "                    \n",
    "                    # Commit batch if meets minimum fill\n",
    "                    if current_volume >= specs['capacity'] * specs['min_fill']:\n",
    "                        all_batches.append({\n",
    "                            'location': location,\n",
    "                            'truck_type': truck_type,\n",
    "                            'orders': current_batch.copy(),\n",
    "                            'total_kg': current_volume,\n",
    "                            'priority': CONFIG['PRIORITIES'][location]['weight']\n",
    "                        })\n",
    "                        current_batch = []\n",
    "                        current_volume = 0\n",
    "            \n",
    "            # Add final partial batch if valuable\n",
    "            if current_batch and current_volume >= specs['capacity'] * 0.5:  # 50% threshold\n",
    "                all_batches.append({\n",
    "                    'location': location,\n",
    "                    'truck_type': truck_type,\n",
    "                    'orders': current_batch,\n",
    "                    'total_kg': current_volume,\n",
    "                    'priority': CONFIG['PRIORITIES'][location]['weight']\n",
    "                })\n",
    "    \n",
    "    # Stage 3: Priority-based sorting\n",
    "    return sorted(all_batches, key=lambda x: (-x['priority'], -x['total_kg']))\n",
    "\n",
    "# %%\n",
    "# Military-Grade Allocation\n",
    "def deploy_trucks(batches, trucks_df):\n",
    "    trucks = trucks_df.copy()\n",
    "    trucks['remaining_capacity'] = trucks['volume(kg)']\n",
    "    deployment = []\n",
    "    stranded = []\n",
    "    \n",
    "    # Phase 1: Priority allocation\n",
    "    for batch in batches:\n",
    "        try:\n",
    "            # Find best-fit truck\n",
    "            candidates = trucks[\n",
    "                (trucks['truckType'] == batch['truck_type']) &\n",
    "                (trucks['remaining_capacity'] >= batch['total_kg'])\n",
    "            ].copy()\n",
    "            \n",
    "            if not candidates.empty:\n",
    "                best_truck = candidates.iloc[\n",
    "                    (candidates['remaining_capacity'] - batch['total_kg']).abs().argsort()[:1]\n",
    "                ].iloc[0]\n",
    "                \n",
    "                utilization = batch['total_kg'] / best_truck['volume(kg)']\n",
    "                deployment.append({\n",
    "                    'deployment_id': len(deployment) + 1,\n",
    "                    'truck_id': best_truck['encodedKey'],\n",
    "                    'location': batch['location'],\n",
    "                    'orders_served': len(batch['orders']),\n",
    "                    'total_weight': batch['total_kg'],\n",
    "                    'utilization': utilization,\n",
    "                    'truck_capacity': best_truck['volume(kg)']\n",
    "                })\n",
    "                \n",
    "                trucks.loc[best_truck.name, 'remaining_capacity'] -= batch['total_kg']\n",
    "            else:\n",
    "                stranded.extend([o['orderId'] for o in batch['orders']])\n",
    "        except Exception as e:\n",
    "            print(f\"Deployment error: {str(e)}\")\n",
    "            stranded.extend([o['orderId'] for o in batch['orders']])\n",
    "    \n",
    "    # Phase 2: Secondary allocation (mix locations)\n",
    "    remaining_trucks = trucks[trucks['remaining_capacity'] > 0]\n",
    "    # ... (additional optimization logic here)\n",
    "    \n",
    "    return pd.DataFrame(deployment), stranded\n",
    "\n",
    "# %%\n",
    "# Execution\n",
    "print(\"🚀 Launching mega-optimization...\")\n",
    "mega_batches = create_mega_batches(pending_orders)\n",
    "print(f\"🔥 Created {len(mega_batches):,} optimized batches\")\n",
    "\n",
    "deployments, stranded_orders = deploy_trucks(mega_batches, active_trucks)\n",
    "\n",
    "# Results\n",
    "utilization = deployments['utilization'].mean()\n",
    "served_orders = deployments['orders_served'].sum()\n",
    "\n",
    "print(\"\\n💎 Ultimate Results:\")\n",
    "print(f\"Total batches: {len(mega_batches):,}\")\n",
    "print(f\"Deployed batches: {len(deployments):,}\")\n",
    "print(f\"Orders served: {served_orders:,}\")\n",
    "print(f\"Avg utilization: {utilization:.1%}\")\n",
    "print(f\"Stranded orders: {len(stranded_orders):,}\")\n",
    "\n",
    "# Visualization\n",
    "plt.figure(figsize=(18, 6))\n",
    "plt.subplot(1, 3, 1)\n",
    "sns.histplot(deployments['utilization'], bins=np.linspace(0, 1, 21))\n",
    "plt.axvline(0.85, color='r', linestyle='--')\n",
    "plt.title('Truck Utilization Distribution')\n",
    "\n",
    "plt.subplot(1, 3, 2)\n",
    "location_stats = deployments.groupby('location')['orders_served'].sum()\n",
    "location_stats.plot(kind='bar', color='teal')\n",
    "plt.title('Orders Served by Location')\n",
    "\n",
    "plt.subplot(1, 3, 3)\n",
    "sns.scatterplot(\n",
    "    x='truck_capacity',\n",
    "    y='total_weight',\n",
    "    hue='utilization',\n",
    "    size='orders_served',\n",
    "    data=deployments\n",
    ")\n",
    "plt.title('Capacity vs Performance')\n",
    "plt.tight_layout()\n",
    "plt.show()"
   ]
  },
  {
   "cell_type": "code",
   "execution_count": null,
   "id": "be4c8d02-4e1f-49fc-b07b-1ca9c44de141",
   "metadata": {},
   "outputs": [],
   "source": []
  },
  {
   "cell_type": "code",
   "execution_count": null,
   "id": "baaa9163-547c-40ea-863a-66865fc32ddc",
   "metadata": {},
   "outputs": [],
   "source": []
  },
  {
   "cell_type": "code",
   "execution_count": 148,
   "id": "fd3399e8-dc8e-4905-b3ae-910756b217ea",
   "metadata": {},
   "outputs": [
    {
     "name": "stdout",
     "output_type": "stream",
     "text": [
      "💼 BUSINESS REALITY CHECK\n",
      "\n",
      "🚛 MAX THEORETICAL CAPACITY PER MONTH:\n",
      "              trucks_available  total_kg\n",
      "REEFER_TRUCK               5.0   80000.0\n",
      "BOX_TRUCK                 25.0  300000.0\n",
      "\n",
      "TOTAL: 380,000 kg across 30 trucks\n",
      "\n",
      "🔧 BEST POSSIBLE ALLOCATION:\n",
      "Trucks utilized: 30/30\n",
      "Orders allocated: 2,339 (0.8%)\n",
      "Avg utilization: 80.0%\n",
      "\n",
      "🚨 UNAVOIDABLE BACKLOG: 308,436 orders\n",
      "Required additional capacity: 1,327 reefers OR\n",
      "                      1,770 box trucks\n"
     ]
    },
    {
     "data": {
      "image/png": "[encoded data removed]",
      "text/plain": [
       "<Figure size 1200x600 with 2 Axes>"
      ]
     },
     "metadata": {},
     "output_type": "display_data"
    }
   ],
   "source": [
    "# %% [markdown]\n",
    "\"\"\"\n",
    "# Capacity Reality Check\n",
    "*What's physically possible with current trucks*\n",
    "\"\"\"\n",
    "# %%\n",
    "# Hard Reality Configuration\n",
    "CONFIG = {\n",
    "    'TRUCK_CAPACITIES': {\n",
    "        'REEFER_TRUCK': 20000,  # kg\n",
    "        'BOX_TRUCK': 15000       # kg\n",
    "    },\n",
    "    'MIN_UTILIZATION': 0.8      # Don't bother with batches below 80% capacity\n",
    "}\n",
    "\n",
    "# %%\n",
    "# 1. Calculate Absolute Maximum Capacity\n",
    "def calculate_max_capacity(trucks_df):\n",
    "    total_capacity = {}\n",
    "    for truck_type, capacity in CONFIG['TRUCK_CAPACITIES'].items():\n",
    "        count = len(trucks_df[trucks_df['truckType'] == truck_type])\n",
    "        total_capacity[truck_type] = {\n",
    "            'trucks_available': count,\n",
    "            'total_kg': count * capacity * CONFIG['MIN_UTILIZATION']\n",
    "        }\n",
    "    return pd.DataFrame(total_capacity).T\n",
    "\n",
    "# %%\n",
    "# 2. Brutally Efficient Allocation\n",
    "def allocate_until_exhaustion(orders_df, trucks_df):\n",
    "    # Sort all orders by size (largest first)\n",
    "    orders = orders_df.sort_values('volume(kg)', ascending=False).copy()\n",
    "    \n",
    "    # Prepare trucks\n",
    "    trucks = trucks_df.copy()\n",
    "    trucks['remaining'] = trucks['volume(kg)'] * CONFIG['MIN_UTILIZATION']\n",
    "    trucks = trucks.sort_values('remaining', ascending=False)\n",
    "    \n",
    "    assignments = []\n",
    "    \n",
    "    # Greedy allocation - no fancy batching\n",
    "    for truck_idx, truck in trucks.iterrows():\n",
    "        truck_assignments = []\n",
    "        current_load = 0\n",
    "        \n",
    "        for order_idx, order in orders.iterrows():\n",
    "            if (current_load + order['volume(kg)'] <= truck['remaining']):\n",
    "                truck_assignments.append(order)\n",
    "                current_load += order['volume(kg)']\n",
    "                orders = orders.drop(order_idx)\n",
    "        \n",
    "        if truck_assignments:\n",
    "            assignments.append({\n",
    "                'truck_id': truck['encodedKey'],\n",
    "                'truck_type': truck['truckType'],\n",
    "                'orders': len(truck_assignments),\n",
    "                'total_kg': current_load,\n",
    "                'utilization': current_load / truck['volume(kg)']\n",
    "            })\n",
    "    \n",
    "    return pd.DataFrame(assignments), orders\n",
    "\n",
    "# %%\n",
    "# 3. Run the Numbers\n",
    "print(\"💼 BUSINESS REALITY CHECK\")\n",
    "\n",
    "# Show raw capacity\n",
    "capacity_report = calculate_max_capacity(active_trucks)\n",
    "print(\"\\n🚛 MAX THEORETICAL CAPACITY PER MONTH:\")\n",
    "print(capacity_report)\n",
    "print(f\"\\nTOTAL: {capacity_report['total_kg'].sum():,.0f} kg across {len(active_trucks)} trucks\")\n",
    "\n",
    "# Perform allocation\n",
    "assignments, remaining_orders = allocate_until_exhaustion(pending_orders, active_trucks)\n",
    "\n",
    "# Results\n",
    "utilization = assignments['utilization'].mean()\n",
    "allocated_orders = assignments['orders'].sum()\n",
    "\n",
    "print(\"\\n🔧 BEST POSSIBLE ALLOCATION:\")\n",
    "print(f\"Trucks utilized: {len(assignments):,}/{len(active_trucks)}\")\n",
    "print(f\"Orders allocated: {allocated_orders:,} ({allocated_orders/len(pending_orders):.1%})\")\n",
    "print(f\"Avg utilization: {utilization:.1%}\")\n",
    "print(f\"\\n🚨 UNAVOIDABLE BACKLOG: {len(remaining_orders):,} orders\")\n",
    "print(f\"Required additional capacity: {remaining_orders['volume(kg)'].sum()/20000:,.0f} reefers OR\")\n",
    "print(f\"                      {remaining_orders['volume(kg)'].sum()/15000:,.0f} box trucks\")\n",
    "\n",
    "# %%\n",
    "# 4. Visual Proof\n",
    "plt.figure(figsize=(12, 6))\n",
    "\n",
    "# Capacity vs Demand\n",
    "plt.subplot(1, 2, 1)\n",
    "plt.bar(['Current Capacity', 'Pending Orders'],\n",
    "        [capacity_report['total_kg'].sum(), pending_orders['volume(kg)'].sum()],\n",
    "        color=['blue', 'red'])\n",
    "plt.title(\"Capacity vs Demand\")\n",
    "plt.ylabel(\"Total kg\")\n",
    "\n",
    "# Allocation Breakdown\n",
    "plt.subplot(1, 2, 2)\n",
    "assignments['truck_type'].value_counts().plot(kind='pie', autopct='%1.1f%%')\n",
    "plt.title(\"Truck Utilization by Type\")\n",
    "plt.tight_layout()\n",
    "plt.show()"
   ]
  },
  {
   "cell_type": "code",
   "execution_count": 152,
   "id": "5daf96c3-58cc-433a-a142-359070db7b7c",
   "metadata": {},
   "outputs": [
    {
     "name": "stdout",
     "output_type": "stream",
     "text": [
      "💰 Capital Required:\n",
      "- 1327 reefers: $199,050,000\n",
      "- 1770 box trucks: $177,000,000\n"
     ]
    }
   ],
   "source": [
    "# Cost estimation for additional trucks\n",
    "TRUCK_COSTS = {\n",
    "    'REEFER_TRUCK': {'purchase': 150000, 'monthly': 5000},\n",
    "    'BOX_TRUCK': {'purchase': 100000, 'monthly': 3000}\n",
    "}\n",
    "\n",
    "additional_reefers = 1327\n",
    "additional_boxes = 1770\n",
    "\n",
    "print(f\"💰 Capital Required:\")\n",
    "print(f\"- {additional_reefers} reefers: ${additional_reefers * TRUCK_COSTS['REEFER_TRUCK']['purchase']:,.0f}\")\n",
    "print(f\"- {additional_boxes} box trucks: ${additional_boxes * TRUCK_COSTS['BOX_TRUCK']['purchase']:,.0f}\")"
   ]
  },
  {
   "cell_type": "code",
   "execution_count": 154,
   "id": "b76bb2f8-604b-4254-b9d7-615b59f262cc",
   "metadata": {},
   "outputs": [
    {
     "name": "stdout",
     "output_type": "stream",
     "text": [
      "🔝 Prioritized Orders: 260,647\n",
      "(% of total: 83.9%)\n",
      "Volume: 26,044,125kg\n",
      "Required trucks: 1,302 reefers\n"
     ]
    }
   ],
   "source": [
    "# Focus on high-value orders first\n",
    "HIGH_VALUE_THRESHOLD = 500  # GHS\n",
    "prioritized_orders = pending_orders[pending_orders['fee'] >= HIGH_VALUE_THRESHOLD]\n",
    "\n",
    "print(f\"🔝 Prioritized Orders: {len(prioritized_orders):,}\")\n",
    "print(f\"(% of total: {len(prioritized_orders)/len(pending_orders):.1%})\")\n",
    "print(f\"Volume: {prioritized_orders['volume(kg)'].sum():,.0f}kg\")\n",
    "print(f\"Required trucks: {prioritized_orders['volume(kg)'].sum()/20000:,.0f} reefers\")"
   ]
  },
  {
   "cell_type": "code",
   "execution_count": 156,
   "id": "96054bd4-c0d3-48ab-996e-442c6ff834fe",
   "metadata": {},
   "outputs": [
    {
     "name": "stdout",
     "output_type": "stream",
     "text": [
      "🚚 Hybrid Capacity: 16,100,000kg\n",
      "(% of backlog: 59.9%)\n"
     ]
    }
   ],
   "source": [
    "# Hybrid solution analysis\n",
    "hybrid_mix = {\n",
    "    'new_reefers': 500,\n",
    "    'new_boxes': 500,\n",
    "    'optimization_gain': 0.15  # 15% better utilization\n",
    "}\n",
    "\n",
    "new_capacity = (500*20000 + 500*15000) * 0.8 * 1.15\n",
    "print(f\"🚚 Hybrid Capacity: {new_capacity:,.0f}kg\")\n",
    "print(f\"(% of backlog: {new_capacity/pending_orders['volume(kg)'].sum():.1%})\")"
   ]
  },
  {
   "cell_type": "code",
   "execution_count": 158,
   "id": "04a2d9b0-0bb0-4107-8434-e59487f15aa6",
   "metadata": {},
   "outputs": [
    {
     "data": {
      "image/png": "[encoded data removed]",
      "text/plain": [
       "<Figure size 1000x600 with 1 Axes>"
      ]
     },
     "metadata": {},
     "output_type": "display_data"
    }
   ],
   "source": [
    "plt.figure(figsize=(10,6))\n",
    "plt.barh(['Current Capacity', 'Backlog', 'Required Capacity'],\n",
    "        [380000, 81000000, 81000000-380000],\n",
    "        color=['#4CAF50', '#F44336', '#FFC107'])\n",
    "plt.title(\"Capacity Crisis (kg)\")\n",
    "plt.xlabel(\"Volume\")\n",
    "plt.tight_layout()\n",
    "plt.show()"
   ]
  },
  {
   "cell_type": "code",
   "execution_count": 160,
   "id": "50d43e92-2eb1-456f-ae0b-de41d07989c7",
   "metadata": {},
   "outputs": [],
   "source": [
    "CRITICAL_CUSTOMERS = ['CustomerA', 'CustomerB']  # Top revenue generators\n",
    "prioritized = pending_orders[\n",
    "    (pending_orders['clientId'].isin(CRITICAL_CUSTOMERS)) |\n",
    "    (pending_orders['fee'] >= 500)\n",
    "]"
   ]
  },
  {
   "cell_type": "code",
   "execution_count": null,
   "id": "270374a8-f99f-4a55-9adf-bf30a5014ff9",
   "metadata": {},
   "outputs": [],
   "source": []
  },
  {
   "cell_type": "code",
   "execution_count": null,
   "id": "59f32a2b-5517-4c2a-a644-8647b62ddc55",
   "metadata": {},
   "outputs": [],
   "source": []
  },
  {
   "cell_type": "code",
   "execution_count": null,
   "id": "6834cd4f-a4b6-4c02-b980-02dcecb1f15f",
   "metadata": {},
   "outputs": [],
   "source": []
  },
  {
   "cell_type": "code",
   "execution_count": null,
   "id": "4a784366-10ac-4e33-a0b9-418f289296f8",
   "metadata": {},
   "outputs": [],
   "source": []
  },
  {
   "cell_type": "code",
   "execution_count": null,
   "id": "27385a2d-c3da-47db-931b-6d2777d7f873",
   "metadata": {},
   "outputs": [],
   "source": []
  },
  {
   "cell_type": "code",
   "execution_count": null,
   "id": "5f74c835-e3e0-4fe1-8fac-b0111f1e866f",
   "metadata": {},
   "outputs": [],
   "source": []
  }
 ],
 "metadata": {
  "kernelspec": {
   "display_name": "Python 3 (ipykernel)",
   "language": "python",
   "name": "python3"
  },
  "language_info": {
   "codemirror_mode": {
    "name": "ipython",
    "version": 3
   },
   "file_extension": ".py",
   "mimetype": "text/x-python",
   "name": "python",
   "nbconvert_exporter": "python",
   "pygments_lexer": "ipython3",
   "version": "3.12.4"
  }
 },
 "nbformat": 4,
 "nbformat_minor": 5
}
